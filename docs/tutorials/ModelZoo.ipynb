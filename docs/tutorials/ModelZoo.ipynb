{
 "cells": [
  {
   "cell_type": "markdown",
   "metadata": {},
   "source": [
    "# Model Zoo\n",
    "\n",
    "In this notebook you will see every kind of model in AutoProf. Many models have unique capabilities and features, this will be introduced here, though fully taking advantage of them will be dependent on your science case.\n",
    "\n",
    "For a family tree of all the AutoProf models see: link\n",
    "\n",
    "Note, we will not be covering Compound_Model or Batch_Model here as those require a dedicated discussion. See the notebook: CombinedModels for that introduction."
   ]
  },
  {
   "cell_type": "code",
   "execution_count": null,
   "metadata": {},
   "outputs": [],
   "source": [
    "import autoprof as ap\n",
    "import numpy as np\n",
    "import torch\n",
    "import matplotlib.pyplot as plt\n",
    "%matplotlib inline"
   ]
  },
  {
   "cell_type": "markdown",
   "metadata": {},
   "source": [
    "## Sky Models"
   ]
  },
  {
   "cell_type": "markdown",
   "metadata": {},
   "source": [
    "### Flat Sky Model"
   ]
  },
  {
   "cell_type": "code",
   "execution_count": null,
   "metadata": {},
   "outputs": [],
   "source": [
    "M = ap.models.AutoProf_Model(name = \"flat sky\", model_type = \"flat sky model\", parameters = {\"center\":[50,50], \"sky\": 1})\n",
    "print(M.parameter_order)\n",
    "M.sample()\n",
    "fig, ax = plt.subplots(figsize = (7,6))\n",
    "ap.plots.model_image(fig, ax, M)\n",
    "plt.show()"
   ]
  },
  {
   "cell_type": "markdown",
   "metadata": {},
   "source": [
    "### Plane Sky Model"
   ]
  },
  {
   "cell_type": "code",
   "execution_count": null,
   "metadata": {},
   "outputs": [],
   "source": [
    "M = ap.models.AutoProf_Model(name = \"plane sky\", model_type = \"plane sky model\", parameters = {\"center\":[50,50], \"sky\": 10, \"delta\": [1e-2,2e-2]})\n",
    "print(M.parameter_order)\n",
    "M.sample()\n",
    "fig, ax = plt.subplots(figsize = (7,6))\n",
    "ap.plots.model_image(fig, ax, M)\n",
    "plt.show()"
   ]
  },
  {
   "cell_type": "markdown",
   "metadata": {},
   "source": [
    "## Star Models"
   ]
  },
  {
   "cell_type": "markdown",
   "metadata": {},
   "source": [
    "### PSF Star"
   ]
  },
  {
   "cell_type": "code",
   "execution_count": null,
   "metadata": {},
   "outputs": [],
   "source": [
    "from scipy.special import jv\n",
    "xx, yy = np.meshgrid(np.linspace(-49,49,99), np.linspace(-49,49,99))\n",
    "x = np.sqrt(xx**2 + yy**2)/5\n",
    "PSF = (2*jv(1, x)/x)**2 + 1e-4 # the PSF can be any image, here we construct an airy disk\n",
    "target = ap.image.Target_Image(data = np.zeros((100,100)), pixelscale = 1, psf = PSF) # the target image holds the PSF for itself\n",
    "\n",
    "M = ap.models.AutoProf_Model(name = \"psf star\", model_type = \"psf star model\", target = target, parameters = {\"center\": [50,50], \"sky\": 1})\n",
    "print(M.parameter_order)\n",
    "\n",
    "fig, ax = plt.subplots(1,2, figsize = (14,6))\n",
    "ax[0].imshow(np.log10(target.psf.detach().cpu().numpy()), origin = \"lower\")\n",
    "x = np.linspace(-49,49,99)/5\n",
    "ax[1].plot(x, np.log10((2*jv(1, x)/x)**2))\n",
    "plt.show()"
   ]
  },
  {
   "cell_type": "markdown",
   "metadata": {},
   "source": [
    "### Gaussian Star"
   ]
  },
  {
   "cell_type": "code",
   "execution_count": null,
   "metadata": {},
   "outputs": [],
   "source": [
    "M = ap.models.AutoProf_Model(name = \"gaussian star\", model_type = \"gaussian star model\", parameters = {\"center\":[50,50], \"sigma\": 10, \"flux\": 1})\n",
    "print(M.parameter_order)\n",
    "M.sample()\n",
    "fig, ax = plt.subplots(1,2, figsize = (14,6))\n",
    "ap.plots.model_image(fig, ax[0], M)\n",
    "ax[1].plot(np.linspace(0,50,100), M.radial_model(torch.linspace(0,50,100)).detach().cpu().numpy())\n",
    "plt.show()"
   ]
  },
  {
   "cell_type": "markdown",
   "metadata": {},
   "source": [
    "## Galaxy Models"
   ]
  },
  {
   "cell_type": "markdown",
   "metadata": {},
   "source": [
    "### NonParametric Galaxy Model"
   ]
  },
  {
   "cell_type": "code",
   "execution_count": null,
   "metadata": {},
   "outputs": [],
   "source": [
    "x = np.linspace(0,10,19)\n",
    "nonparametric_profile = np.sin(x*2+2)/20 + 1 - x/20\n",
    "M = ap.models.AutoProf_Model(name = \"nonparametric galaxy\", model_type = \"nonparametric galaxy model\", parameters = {\"center\": [50,50], \"q\": 0.6, \"PA\": 60*np.pi/180, \"I(R)\": nonparametric_profile})\n",
    "print(M.parameter_order)\n",
    "M.sample()\n",
    "fig, ax = plt.subplots(1,2, figsize = (14,6))\n",
    "ap.plots.model_image(fig, ax[0], M)\n",
    "ap.plots.galaxy_light_profile(fig,ax[1],M)\n",
    "plt.show()"
   ]
  },
  {
   "cell_type": "markdown",
   "metadata": {},
   "source": [
    "### Sersic Galaxy Model"
   ]
  },
  {
   "cell_type": "code",
   "execution_count": null,
   "metadata": {},
   "outputs": [],
   "source": [
    "M = ap.models.AutoProf_Model(name = \"sersic galaxy\", model_type = \"sersic galaxy model\", parameters = {\"center\": [50,50], \"q\": 0.6, \"PA\": 60*np.pi/180, \"n\": 3, \"Re\": 10, \"Ie\": 1})\n",
    "print(M.parameter_order)\n",
    "M.sample()\n",
    "fig, ax = plt.subplots(1,2, figsize = (14,6))\n",
    "ap.plots.model_image(fig, ax[0], M)\n",
    "ap.plots.galaxy_light_profile(fig,ax[1],M)\n",
    "plt.show()"
   ]
  },
  {
   "cell_type": "markdown",
   "metadata": {},
   "source": [
    "### Exponential Galaxy Model"
   ]
  },
  {
   "cell_type": "code",
   "execution_count": null,
   "metadata": {},
   "outputs": [],
   "source": [
    "M = ap.models.AutoProf_Model(name = \"exponential galaxy\", model_type = \"exponential galaxy model\", parameters = {\"center\": [50,50], \"q\": 0.6, \"PA\": 60*np.pi/180, \"Re\": 10, \"Ie\": 1})\n",
    "print(M.parameter_order)\n",
    "M.sample()\n",
    "fig, ax = plt.subplots(1,2, figsize = (14,6))\n",
    "ap.plots.model_image(fig, ax[0], M)\n",
    "ap.plots.galaxy_light_profile(fig,ax[1],M)\n",
    "plt.show()"
   ]
  },
  {
   "cell_type": "markdown",
   "metadata": {},
   "source": [
    "### Gaussian Galaxy Model"
   ]
  },
  {
   "cell_type": "code",
   "execution_count": null,
   "metadata": {},
   "outputs": [],
   "source": [
    "M = ap.models.AutoProf_Model(name = \"Gaussian\", model_type = \"gaussian galaxy model\", parameters = {\"center\": [50,50], \"q\": 0.6, \"PA\": 60*np.pi/180, \"sigma\": 5, \"flux\": 100})\n",
    "print(M.parameter_order)\n",
    "M.sample()\n",
    "fig, ax = plt.subplots(1,2, figsize = (14,6))\n",
    "ap.plots.model_image(fig, ax[0], M)\n",
    "ap.plots.galaxy_light_profile(fig,ax[1],M)\n",
    "plt.show()"
   ]
  },
  {
   "cell_type": "markdown",
   "metadata": {},
   "source": [
    "### NonParametric SuperEllipse"
   ]
  },
  {
   "cell_type": "code",
   "execution_count": null,
   "metadata": {},
   "outputs": [],
   "source": [
    "M = ap.models.AutoProf_Model(name = \"nonparametric superellipse\", model_type = \"nonparametric superellipse galaxy model\", parameters = {\"center\": [50,50], \"q\": 0.6, \"PA\": 60*np.pi/180, \"C0\": 2, \"I(R)\": nonparametric_profile})\n",
    "print(M.parameter_order)\n",
    "M.sample()\n",
    "fig, ax = plt.subplots(1,2, figsize = (14,6))\n",
    "ap.plots.model_image(fig, ax[0], M)\n",
    "ap.plots.galaxy_light_profile(fig,ax[1],M)\n",
    "plt.show()"
   ]
  },
  {
   "cell_type": "markdown",
   "metadata": {},
   "source": [
    "### Sersic SuperEllipse"
   ]
  },
  {
   "cell_type": "code",
   "execution_count": null,
   "metadata": {},
   "outputs": [],
   "source": [
    "M = ap.models.AutoProf_Model(name = \"sersic superellipse\", model_type = \"sersic superellipse galaxy model\", parameters = {\"center\": [50,50], \"q\": 0.6, \"PA\": 60*np.pi/180, \"C0\": 2, \"n\": 3, \"Re\": 10, \"Ie\": 1})\n",
    "print(M.parameter_order)\n",
    "M.sample()\n",
    "fig, ax = plt.subplots(1,2, figsize = (14,6))\n",
    "ap.plots.model_image(fig, ax[0], M)\n",
    "ap.plots.galaxy_light_profile(fig,ax[1],M)\n",
    "plt.show()"
   ]
  },
  {
   "cell_type": "markdown",
   "metadata": {},
   "source": [
    "### Exponential SuperEllipse"
   ]
  },
  {
   "cell_type": "code",
   "execution_count": null,
   "metadata": {},
   "outputs": [],
   "source": [
    "M = ap.models.AutoProf_Model(name = \"exponential superellipse\", model_type = \"exponential superellipse galaxy model\", parameters = {\"center\": [50,50], \"q\": 0.6, \"PA\": 60*np.pi/180, \"C0\": 2, \"Re\": 10, \"Ie\": 1})\n",
    "print(M.parameter_order)\n",
    "M.sample()\n",
    "fig, ax = plt.subplots(1,2, figsize = (14,6))\n",
    "ap.plots.model_image(fig, ax[0], M)\n",
    "ap.plots.galaxy_light_profile(fig,ax[1],M)\n",
    "plt.show()"
   ]
  },
  {
   "cell_type": "markdown",
   "metadata": {},
   "source": [
    "### Gaussian SuperEllipse"
   ]
  },
  {
   "cell_type": "code",
   "execution_count": null,
   "metadata": {},
   "outputs": [],
   "source": [
    "M = ap.models.AutoProf_Model(name = \"gaussian superellipse\", model_type = \"gaussian superellipse galaxy model\", parameters = {\"center\": [50,50], \"q\": 0.6, \"PA\": 60*np.pi/180, \"C0\": 2, \"sigma\": 5, \"flux\": 100})\n",
    "print(M.parameter_order)\n",
    "M.sample()\n",
    "fig, ax = plt.subplots(1,2, figsize = (14,6))\n",
    "ap.plots.model_image(fig, ax[0], M)\n",
    "ap.plots.galaxy_light_profile(fig,ax[1],M)\n",
    "plt.show()"
   ]
  },
  {
   "cell_type": "markdown",
   "metadata": {},
   "source": [
    "### NonParametric Fourier"
   ]
  },
  {
   "cell_type": "code",
   "execution_count": null,
   "metadata": {},
   "outputs": [],
   "source": [
    "fourier_am = np.array([0.1, 0.3, -0.2])\n",
    "fourier_phim = np.array([10*np.pi/180, 0, 40*np.pi/180])\n",
    "M = ap.models.AutoProf_Model(name = \"nonparametric fourier\", model_type = \"nonparametric fourier galaxy model\", parameters = {\"center\": [50,50], \"q\": 0.6, \"PA\": 60*np.pi/180, \"am\": fourier_am, \"phim\": fourier_phim, \"I(R)\": nonparametric_profile})\n",
    "print(M.parameter_order)\n",
    "M.sample()\n",
    "fig, ax = plt.subplots(1,2, figsize = (14,6))\n",
    "ap.plots.model_image(fig, ax[0], M)\n",
    "ap.plots.galaxy_light_profile(fig,ax[1],M)\n",
    "plt.show()"
   ]
  },
  {
   "cell_type": "markdown",
   "metadata": {},
   "source": [
    "### Sersic Fourier"
   ]
  },
  {
   "cell_type": "code",
   "execution_count": null,
   "metadata": {},
   "outputs": [],
   "source": [
    "M = ap.models.AutoProf_Model(name = \"sersic fourier\", model_type = \"sersic fourier galaxy model\", parameters = {\"center\": [50,50], \"q\": 0.6, \"PA\": 60*np.pi/180, \"am\": fourier_am, \"phim\": fourier_phim, \"n\": 3, \"Re\": 10, \"Ie\": 1})\n",
    "print(M.parameter_order)\n",
    "M.sample()\n",
    "fig, ax = plt.subplots(1,2, figsize = (14,6))\n",
    "ap.plots.model_image(fig, ax[0], M)\n",
    "ap.plots.galaxy_light_profile(fig,ax[1],M)\n",
    "plt.show()"
   ]
  },
  {
   "cell_type": "markdown",
   "metadata": {},
   "source": [
    "### Exponential Fourier"
   ]
  },
  {
   "cell_type": "code",
   "execution_count": null,
   "metadata": {},
   "outputs": [],
   "source": [
    "M = ap.models.AutoProf_Model(name = \"exponential fourier\", model_type = \"exponential fourier galaxy model\", parameters = {\"center\": [50,50], \"q\": 0.6, \"PA\": 60*np.pi/180, \"am\": fourier_am, \"phim\": fourier_phim, \"Re\": 10, \"Ie\": 1})\n",
    "print(M.parameter_order)\n",
    "M.sample()\n",
    "fig, ax = plt.subplots(1,2, figsize = (14,6))\n",
    "ap.plots.model_image(fig, ax[0], M)\n",
    "ap.plots.galaxy_light_profile(fig,ax[1],M)\n",
    "plt.show()"
   ]
  },
  {
   "cell_type": "markdown",
   "metadata": {},
   "source": [
    "### Gaussian Fourier"
   ]
  },
  {
   "cell_type": "code",
   "execution_count": null,
   "metadata": {},
   "outputs": [],
   "source": [
    "M = ap.models.AutoProf_Model(name = \"gaussian fourier\", model_type = \"gaussian fourier galaxy model\", parameters = {\"center\": [50,50], \"q\": 0.6, \"PA\": 60*np.pi/180, \"am\": fourier_am, \"phim\": fourier_phim, \"sigma\": 5, \"flux\": 100})\n",
    "print(M.parameter_order)\n",
    "M.sample()\n",
    "fig, ax = plt.subplots(1,2, figsize = (14,6))\n",
    "ap.plots.model_image(fig, ax[0], M)\n",
    "ap.plots.galaxy_light_profile(fig,ax[1],M)\n",
    "plt.show()"
   ]
  },
  {
   "cell_type": "markdown",
   "metadata": {},
   "source": [
    "### NonParametric Warp"
   ]
  },
  {
   "cell_type": "code",
   "execution_count": null,
   "metadata": {},
   "outputs": [],
   "source": [
    "M = ap.models.AutoProf_Model(name = \"nonparametric warp\", model_type = \"nonparametric warp galaxy model\", parameters = {\"center\": [50,50], \"q\": 0.6, \"PA\": 60*np.pi/180, \"q(R)\": np.linspace(0.2,0.4,19), \"PA(R)\": np.linspace(0,np.pi-0.1,19), \"I(R)\": nonparametric_profile})\n",
    "print(M.parameter_order)\n",
    "M.sample()\n",
    "fig, ax = plt.subplots(1,2, figsize = (14,6))\n",
    "ap.plots.model_image(fig, ax[0], M)\n",
    "ap.plots.galaxy_light_profile(fig,ax[1],M)\n",
    "plt.show()"
   ]
  },
  {
   "cell_type": "markdown",
   "metadata": {},
   "source": [
    "### Sersic Warp"
   ]
  },
  {
   "cell_type": "code",
   "execution_count": null,
   "metadata": {},
   "outputs": [],
   "source": [
    "M = ap.models.AutoProf_Model(name = \"sersic warp\", model_type = \"sersic warp galaxy model\", parameters = {\"center\": [50,50], \"q\": 0.6, \"PA\": 60*np.pi/180, \"q(R)\": np.linspace(0.2,0.4,19), \"PA(R)\": np.linspace(0,np.pi-0.1,19), \"n\": 3, \"Re\": 10, \"Ie\": 1})\n",
    "print(M.parameter_order)\n",
    "M.sample()\n",
    "fig, ax = plt.subplots(1,2, figsize = (14,6))\n",
    "ap.plots.model_image(fig, ax[0], M)\n",
    "ap.plots.galaxy_light_profile(fig,ax[1],M)\n",
    "plt.show()"
   ]
  },
  {
   "cell_type": "markdown",
   "metadata": {},
   "source": [
    "### Exponential Warp"
   ]
  },
  {
   "cell_type": "code",
   "execution_count": null,
   "metadata": {},
   "outputs": [],
   "source": [
    "M = ap.models.AutoProf_Model(name = \"exp warp\", model_type = \"exponential warp galaxy model\", parameters = {\"center\": [50,50], \"q\": 0.6, \"PA\": 60*np.pi/180, \"q(R)\": np.linspace(0.2,0.4,19), \"PA(R)\": np.linspace(0,np.pi-0.1,19), \"Re\": 10, \"Ie\": 1})\n",
    "print(M.parameter_order)\n",
    "M.sample()\n",
    "fig, ax = plt.subplots(1,2, figsize = (14,6))\n",
    "ap.plots.model_image(fig, ax[0], M)\n",
    "ap.plots.galaxy_light_profile(fig,ax[1],M)\n",
    "plt.show()"
   ]
  },
  {
   "cell_type": "markdown",
   "metadata": {},
   "source": [
    "### Gaussian Warp"
   ]
  },
  {
   "cell_type": "code",
   "execution_count": null,
   "metadata": {},
   "outputs": [],
   "source": [
    "M = ap.models.AutoProf_Model(name = \"gauss warp\", model_type = \"gaussian warp galaxy model\", parameters = {\"center\": [50,50], \"q\": 0.6, \"PA\": 60*np.pi/180, \"q(R)\": np.linspace(0.2,0.4,19), \"PA(R)\": np.linspace(0,np.pi-0.1,19), \"sigma\": 5, \"flux\": 100})\n",
    "print(M.parameter_order)\n",
    "M.sample()\n",
    "fig, ax = plt.subplots(1,2, figsize = (14,6))\n",
    "ap.plots.model_image(fig, ax[0], M)\n",
    "ap.plots.galaxy_light_profile(fig,ax[1],M)\n",
    "plt.show()"
   ]
  },
  {
   "cell_type": "markdown",
   "metadata": {},
   "source": [
    "### NonParametric SuperEllipse Warp"
   ]
  },
  {
   "cell_type": "code",
   "execution_count": null,
   "metadata": {},
   "outputs": [],
   "source": [
    "M = ap.models.AutoProf_Model(name = \"nonparametric super warp\", model_type = \"nonparametric superellipse warp galaxy model\", parameters = {\"center\": [50,50], \"q\": 0.6, \"PA\": 60*np.pi/180, \"q(R)\": np.linspace(0.2,0.4,19), \"PA(R)\": np.linspace(0,np.pi-0.1,19), \"C0\": 2, \"I(R)\": nonparametric_profile})\n",
    "print(M.parameter_order)\n",
    "M.sample()\n",
    "fig, ax = plt.subplots(1,2, figsize = (14,6))\n",
    "ap.plots.model_image(fig, ax[0], M)\n",
    "ap.plots.galaxy_light_profile(fig,ax[1],M)\n",
    "plt.show()"
   ]
  },
  {
   "cell_type": "markdown",
   "metadata": {},
   "source": [
    "### Sersic SuperEllipse Warp"
   ]
  },
  {
   "cell_type": "code",
   "execution_count": null,
   "metadata": {},
   "outputs": [],
   "source": [
    "M = ap.models.AutoProf_Model(name = \"sersic super warp\", model_type = \"sersic superellipse warp galaxy model\", parameters = {\"center\": [50,50], \"q\": 0.6, \"PA\": 60*np.pi/180, \"q(R)\": np.linspace(0.2,0.4,19), \"PA(R)\": np.linspace(0,np.pi-0.1,19), \"C0\": 2, \"n\": 3, \"Re\": 10, \"Ie\": 1})\n",
    "print(M.parameter_order)\n",
    "M.sample()\n",
    "fig, ax = plt.subplots(1,2, figsize = (14,6))\n",
    "ap.plots.model_image(fig, ax[0], M)\n",
    "ap.plots.galaxy_light_profile(fig,ax[1],M)\n",
    "plt.show()"
   ]
  },
  {
   "cell_type": "markdown",
   "metadata": {},
   "source": [
    "### Exponential SuperEllipse Warp"
   ]
  },
  {
   "cell_type": "code",
   "execution_count": null,
   "metadata": {},
   "outputs": [],
   "source": [
    "M = ap.models.AutoProf_Model(name = \"exponential super warp\", model_type = \"exponential superellipse warp galaxy model\", parameters = {\"center\": [50,50], \"q\": 0.6, \"PA\": 60*np.pi/180, \"q(R)\": np.linspace(0.2,0.4,19), \"PA(R)\": np.linspace(0,np.pi-0.1,19), \"C0\": 2, \"Re\": 10, \"Ie\": 1})\n",
    "print(M.parameter_order)\n",
    "M.sample()\n",
    "fig, ax = plt.subplots(1,2, figsize = (14,6))\n",
    "ap.plots.model_image(fig, ax[0], M)\n",
    "ap.plots.galaxy_light_profile(fig,ax[1],M)\n",
    "plt.show()"
   ]
  },
  {
   "cell_type": "markdown",
   "metadata": {},
   "source": [
    "### Gaussian SuperEllipse Warp"
   ]
  },
  {
   "cell_type": "code",
   "execution_count": null,
   "metadata": {},
   "outputs": [],
   "source": [
    "M = ap.models.AutoProf_Model(name = \"gauss super warp\", model_type = \"gaussian superellipse warp galaxy model\", parameters = {\"center\": [50,50], \"q\": 0.6, \"PA\": 60*np.pi/180, \"q(R)\": np.linspace(0.2,0.4,19), \"PA(R)\": np.linspace(0,np.pi-0.1,19), \"C0\": 2, \"sigma\": 5, \"flux\": 100})\n",
    "print(M.parameter_order)\n",
    "M.sample()\n",
    "fig, ax = plt.subplots(1,2, figsize = (14,6))\n",
    "ap.plots.model_image(fig, ax[0], M)\n",
    "ap.plots.galaxy_light_profile(fig,ax[1],M)\n",
    "plt.show()"
   ]
  },
  {
   "cell_type": "markdown",
   "metadata": {},
   "source": [
    "### NonParametric Fourier Warp\n",
    "\n",
    "not sure how this abomination would fit a galaxy, but you are welcome to try"
   ]
  },
  {
   "cell_type": "code",
   "execution_count": null,
   "metadata": {},
   "outputs": [],
   "source": [
    "M = ap.models.AutoProf_Model(name = \"nonparametric fourier warp\", model_type = \"nonparametric fourier warp galaxy model\", modes = (1,3,4), parameters = {\"center\": [50,50], \"q\": 0.6, \"PA\": 60*np.pi/180, \"q(R)\": np.linspace(0.2,0.4,19), \"PA(R)\": np.linspace(0,np.pi-0.1,19), \"am\": fourier_am, \"phim\": fourier_phim, \"I(R)\": nonparametric_profile})\n",
    "print(M.parameter_order)\n",
    "M.sample()\n",
    "fig, ax = plt.subplots(1,2, figsize = (14,6))\n",
    "ap.plots.model_image(fig, ax[0], M)\n",
    "ap.plots.galaxy_light_profile(fig,ax[1],M)\n",
    "plt.show()"
   ]
  },
  {
   "cell_type": "markdown",
   "metadata": {},
   "source": [
    "### Sersic Fourier Warp"
   ]
  },
  {
   "cell_type": "code",
   "execution_count": null,
   "metadata": {},
   "outputs": [],
   "source": [
    "M = ap.models.AutoProf_Model(name = \"sersic fourier warp\", model_type = \"sersic fourier warp galaxy model\", parameters = {\"center\": [50,50], \"q\": 0.6, \"PA\": 60*np.pi/180, \"q(R)\": np.linspace(0.2,0.4,19), \"PA(R)\": np.linspace(0,np.pi-0.1,19), \"am\": fourier_am, \"phim\": fourier_phim, \"n\": 3, \"Re\": 10, \"Ie\": 1})\n",
    "print(M.parameter_order)\n",
    "M.sample()\n",
    "fig, ax = plt.subplots(1,2, figsize = (14,6))\n",
    "ap.plots.model_image(fig, ax[0], M)\n",
    "ap.plots.galaxy_light_profile(fig,ax[1],M)\n",
    "plt.show()"
   ]
  },
  {
   "cell_type": "markdown",
   "metadata": {},
   "source": [
    "### Exponential Fourier Warp"
   ]
  },
  {
   "cell_type": "code",
   "execution_count": null,
   "metadata": {},
   "outputs": [],
   "source": [
    "M = ap.models.AutoProf_Model(name = \"exp fourier warp\", model_type = \"exponential fourier warp galaxy model\", parameters = {\"center\": [50,50], \"q\": 0.6, \"PA\": 60*np.pi/180, \"q(R)\": np.linspace(0.2,0.4,19), \"PA(R)\": np.linspace(0,np.pi-0.1,19), \"am\": fourier_am, \"phim\": fourier_phim, \"Re\": 10, \"Ie\": 1})\n",
    "print(M.parameter_order)\n",
    "M.sample()\n",
    "fig, ax = plt.subplots(1,2, figsize = (14,6))\n",
    "ap.plots.model_image(fig, ax[0], M)\n",
    "ap.plots.galaxy_light_profile(fig,ax[1],M)\n",
    "plt.show()"
   ]
  },
  {
   "cell_type": "markdown",
   "metadata": {},
   "source": [
    "### Gassian Fourier Warp"
   ]
  },
  {
   "cell_type": "code",
   "execution_count": null,
   "metadata": {},
   "outputs": [],
   "source": [
    "M = ap.models.AutoProf_Model(name = \"gaussian fourier warp\", model_type = \"gaussian fourier warp galaxy model\", parameters = {\"center\": [50,50], \"q\": 0.6, \"PA\": 60*np.pi/180, \"q(R)\": np.linspace(0.2,0.4,19), \"PA(R)\": np.linspace(0,np.pi-0.1,19), \"am\": fourier_am, \"phim\": fourier_phim, \"sigma\": 5, \"flux\": 100})\n",
    "print(M.parameter_order)\n",
    "M.sample()\n",
    "fig, ax = plt.subplots(1,2, figsize = (14,6))\n",
    "ap.plots.model_image(fig, ax[0], M)\n",
    "ap.plots.galaxy_light_profile(fig,ax[1],M)\n",
    "plt.show()"
   ]
  },
  {
   "cell_type": "markdown",
   "metadata": {},
   "source": [
    "### NonParametric Ray"
   ]
  },
  {
   "cell_type": "code",
   "execution_count": null,
   "metadata": {
    "scrolled": false
   },
   "outputs": [],
   "source": [
    "M = ap.models.AutoProf_Model(name = \"nonparametric ray\", model_type = \"nonparametric ray galaxy model\", parameters = {\"center\": [50,50], \"q\": 0.6, \"PA\": 60*np.pi/180, \"I(R)\": [nonparametric_profile, nonparametric_profile*2]})\n",
    "print(M.parameter_order)\n",
    "M.sample()\n",
    "fig, ax = plt.subplots(1,2, figsize = (14,6))\n",
    "ap.plots.model_image(fig, ax[0], M)\n",
    "ap.plots.ray_light_profile(fig,ax[1],M)\n",
    "plt.show()"
   ]
  },
  {
   "cell_type": "markdown",
   "metadata": {},
   "source": [
    "### Sersic Ray"
   ]
  },
  {
   "cell_type": "code",
   "execution_count": null,
   "metadata": {},
   "outputs": [],
   "source": [
    "M = ap.models.AutoProf_Model(name = \"sersic ray\", model_type = \"sersic ray galaxy model\", rays = 2, parameters = {\"center\": [50,50], \"q\": 0.6, \"PA\": 60*np.pi/180, \"n\": [1,3], \"Re\": [10,5],\"Ie\": [1,0.5]})\n",
    "print(M.parameter_order)\n",
    "M.sample()\n",
    "fig, ax = plt.subplots(1,2, figsize = (14,6))\n",
    "ap.plots.model_image(fig, ax[0], M)\n",
    "ap.plots.ray_light_profile(fig,ax[1],M)\n",
    "plt.show()"
   ]
  },
  {
   "cell_type": "markdown",
   "metadata": {},
   "source": [
    "### Exponential Ray"
   ]
  },
  {
   "cell_type": "code",
   "execution_count": null,
   "metadata": {},
   "outputs": [],
   "source": [
    "M = ap.models.AutoProf_Model(name = \"exponential ray\", model_type = \"exponential ray galaxy model\", parameters = {\"center\": [50,50], \"q\": 0.6, \"PA\": 60*np.pi/180, \"Re\": [10,5], \"Ie\": [1,2]})\n",
    "print(M.parameter_order)\n",
    "M.sample()\n",
    "fig, ax = plt.subplots(1,2, figsize = (14,6))\n",
    "ap.plots.model_image(fig, ax[0], M)\n",
    "ap.plots.ray_light_profile(fig,ax[1],M)\n",
    "plt.show()"
   ]
  },
  {
   "cell_type": "markdown",
   "metadata": {},
   "source": [
    "### Gaussian Ray"
   ]
  },
  {
   "cell_type": "code",
   "execution_count": null,
   "metadata": {},
   "outputs": [],
   "source": [
    "M = ap.models.AutoProf_Model(name = \"gaussian ray\", model_type = \"gaussian ray galaxy model\", parameters = {\"center\": [50,50], \"q\": 0.6, \"PA\": 60*np.pi/180, \"sigma\": [5,8], \"flux\": [100,150]})\n",
    "print(M.parameter_order)\n",
    "M.sample()\n",
    "fig, ax = plt.subplots(1,2, figsize = (14,6))\n",
    "ap.plots.model_image(fig, ax[0], M)\n",
    "ap.plots.ray_light_profile(fig,ax[1],M)\n",
    "plt.show()"
   ]
  },
  {
   "cell_type": "code",
   "execution_count": null,
   "metadata": {},
   "outputs": [],
   "source": []
  }
 ],
 "metadata": {
  "kernelspec": {
   "display_name": "Python 3",
   "language": "python",
   "name": "python3"
  },
  "language_info": {
   "codemirror_mode": {
    "name": "ipython",
    "version": 3
   },
   "file_extension": ".py",
   "mimetype": "text/x-python",
   "name": "python",
   "nbconvert_exporter": "python",
   "pygments_lexer": "ipython3",
   "version": "3.8.10"
  }
 },
 "nbformat": 4,
 "nbformat_minor": 4
}
