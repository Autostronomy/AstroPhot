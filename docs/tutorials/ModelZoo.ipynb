{
 "cells": [
  {
   "cell_type": "markdown",
   "metadata": {},
   "source": [
    "# Model Zoo\n",
    "\n",
    "In this notebook you will see every kind of model in AutoProf. Printed in each cell will also be the list of parameters which the model looks for while fitting. Many models have unique capabilities and features, this will be introduced here, though fully taking advantage of them will be dependent on your science case.\n",
    "\n",
    "For a family tree of all the AutoProf models see: link\n",
    "\n",
    "Note, we will not be covering Compound_Model here as that requires a dedicated discussion. See the notebook: CombinedModels for that introduction."
   ]
  },
  {
   "cell_type": "code",
   "execution_count": null,
   "metadata": {},
   "outputs": [],
   "source": [
    "import autoprof as ap\n",
    "import numpy as np\n",
    "import torch\n",
    "import matplotlib.pyplot as plt\n",
    "%matplotlib inline\n",
    "ap.AP_config.set_logging_output(stdout = True, filename = None) # see GettingStarted tutorial for what this does\n",
    "basic_target = ap.image.Target_Image(np.zeros((100,100)), pixelscale = 1)"
   ]
  },
  {
   "cell_type": "markdown",
   "metadata": {},
   "source": [
    "## Sky Models"
   ]
  },
  {
   "cell_type": "markdown",
   "metadata": {},
   "source": [
    "### Flat Sky Model"
   ]
  },
  {
   "cell_type": "code",
   "execution_count": null,
   "metadata": {},
   "outputs": [],
   "source": [
    "M = ap.models.AutoProf_Model(name = \"flat sky\", model_type = \"flat sky model\", parameters = {\"center\":[50,50], \"sky\": 1}, target = basic_target)\n",
    "print(M.parameter_order())\n",
    "print(tuple(M.parameters[P].units for P in M.parameter_order()))\n",
    "M.initialize()\n",
    "\n",
    "fig, ax = plt.subplots(figsize = (7,6))\n",
    "ap.plots.model_image(fig, ax, M)\n",
    "plt.show()"
   ]
  },
  {
   "cell_type": "markdown",
   "metadata": {},
   "source": [
    "### Plane Sky Model"
   ]
  },
  {
   "cell_type": "code",
   "execution_count": null,
   "metadata": {},
   "outputs": [],
   "source": [
    "M = ap.models.AutoProf_Model(name = \"plane sky\", model_type = \"plane sky model\", parameters = {\"center\":[50,50], \"sky\": 10, \"delta\": [1e-2,2e-2]}, target = basic_target)\n",
    "print(M.parameter_order())\n",
    "print(tuple(M.parameters[P].units for P in M.parameter_order()))\n",
    "M.initialize()\n",
    "\n",
    "fig, ax = plt.subplots(figsize = (7,6))\n",
    "ap.plots.model_image(fig, ax, M)\n",
    "plt.show()"
   ]
  },
  {
   "cell_type": "markdown",
   "metadata": {},
   "source": [
    "## Star Models"
   ]
  },
  {
   "cell_type": "markdown",
   "metadata": {},
   "source": [
    "### PSF Star"
   ]
  },
  {
   "cell_type": "code",
   "execution_count": null,
   "metadata": {},
   "outputs": [],
   "source": [
    "from scipy.special import jv\n",
    "xx, yy = np.meshgrid(np.linspace(-49,49,99), np.linspace(-49,49,99))\n",
    "x = np.sqrt(xx**2 + yy**2)/5 +1e-6\n",
    "PSF = (2*jv(1, x)/x)**2 + 1e-4 # the PSF can be any image, here we construct an airy disk\n",
    "target = ap.image.Target_Image(data = np.zeros((100,100)), pixelscale = 1, psf = PSF) # the target image holds the PSF for itself\n",
    "\n",
    "M = ap.models.AutoProf_Model(name = \"psf star\", model_type = \"psf star model\", target = target, parameters = {\"center\": [49.5,49.5], \"flux\": 1})\n",
    "print(M.parameter_order())\n",
    "print(tuple(M.parameters[P].units for P in M.parameter_order()))\n",
    "M.initialize()\n",
    "\n",
    "fig, ax = plt.subplots(1,2, figsize = (14,6))\n",
    "ap.plots.model_image(fig, ax[0], M)\n",
    "x = np.linspace(-49,49,99)/5 + 1e-6\n",
    "ax[1].plot(x, np.log10((2*jv(1, x)/x)**2))\n",
    "plt.show()"
   ]
  },
  {
   "cell_type": "markdown",
   "metadata": {},
   "source": [
    "### Gaussian Star"
   ]
  },
  {
   "cell_type": "code",
   "execution_count": null,
   "metadata": {},
   "outputs": [],
   "source": [
    "M = ap.models.AutoProf_Model(name = \"gaussian star\", model_type = \"gaussian star model\", parameters = {\"center\":[50,50], \"sigma\": 10, \"flux\": 1}, target = basic_target)\n",
    "print(M.parameter_order())\n",
    "print(tuple(M.parameters[P].units for P in M.parameter_order()))\n",
    "M.initialize()\n",
    "\n",
    "fig, ax = plt.subplots(1,2, figsize = (14,6))\n",
    "ap.plots.model_image(fig, ax[0], M)\n",
    "ax[1].plot(np.linspace(0,50,100), M.radial_model(torch.linspace(0,50,100)).detach().cpu().numpy())\n",
    "plt.show()"
   ]
  },
  {
   "cell_type": "markdown",
   "metadata": {},
   "source": [
    "### Moffat Star"
   ]
  },
  {
   "cell_type": "code",
   "execution_count": null,
   "metadata": {},
   "outputs": [],
   "source": [
    "M = ap.models.AutoProf_Model(name = \"moffat star\", model_type = \"moffat star model\", parameters = {\"center\":[50,50], \"n\": 2., \"Rd\": 10., \"I0\": 1.}, target = basic_target)\n",
    "print(M.parameter_order())\n",
    "print(tuple(M.parameters[P].units for P in M.parameter_order()))\n",
    "M.initialize()\n",
    "\n",
    "fig, ax = plt.subplots(1,2, figsize = (14,6))\n",
    "ap.plots.model_image(fig, ax[0], M)\n",
    "ax[1].plot(np.linspace(0,50,100), M.radial_model(torch.linspace(0,50,100)).detach().cpu().numpy())\n",
    "plt.show()"
   ]
  },
  {
   "cell_type": "markdown",
   "metadata": {},
   "source": [
    "# Galaxy Models"
   ]
  },
  {
   "cell_type": "markdown",
   "metadata": {},
   "source": [
    "### NonParametric Galaxy Model"
   ]
  },
  {
   "cell_type": "code",
   "execution_count": null,
   "metadata": {},
   "outputs": [],
   "source": [
    "# Here we make an arbitrary nonparametric profile out of a sine wave and a line\n",
    "x = np.linspace(0,10,14)\n",
    "nonparametric_profile = np.sin(x*2+2)/20 + 1 - x/20\n",
    "# Here we write down some corresponding radii for the points in the non-parametric profile. AutoProf will make \n",
    "# radii to match an input profile, but it is generally better to manually provide values so you have some control \n",
    "# over their placement. Just note that it is assumed the first point will be at R = 0.\n",
    "NP_prof = [0] + list(np.logspace(np.log10(2),np.log10(50),13))\n",
    "\n",
    "M = ap.models.AutoProf_Model(name = \"nonparametric galaxy\", model_type = \"nonparametric galaxy model\", parameters = {\"center\": [50,50], \"q\": 0.6, \"PA\": 60*np.pi/180, \"I(R)\": {\"value\": nonparametric_profile, \"prof\": NP_prof}}, target = basic_target)\n",
    "print(M.parameter_order())\n",
    "print(tuple(M.parameters[P].units for P in M.parameter_order()))\n",
    "M.initialize()\n",
    "\n",
    "fig, ax = plt.subplots(1,2, figsize = (14,6))\n",
    "ap.plots.model_image(fig, ax[0], M)\n",
    "ap.plots.galaxy_light_profile(fig,ax[1],M)\n",
    "plt.show()"
   ]
  },
  {
   "cell_type": "markdown",
   "metadata": {},
   "source": [
    "### Sersic Galaxy Model"
   ]
  },
  {
   "cell_type": "code",
   "execution_count": null,
   "metadata": {},
   "outputs": [],
   "source": [
    "M = ap.models.AutoProf_Model(name = \"sersic galaxy\", model_type = \"sersic galaxy model\", parameters = {\"center\": [50,50], \"q\": 0.6, \"PA\": 60*np.pi/180, \"n\": 3, \"Re\": 10, \"Ie\": 1}, target = basic_target)\n",
    "print(M.parameter_order())\n",
    "print(tuple(M.parameters[P].units for P in M.parameter_order()))\n",
    "M.initialize()\n",
    "\n",
    "fig, ax = plt.subplots(1,2, figsize = (14,6))\n",
    "ap.plots.model_image(fig, ax[0], M)\n",
    "ap.plots.galaxy_light_profile(fig,ax[1],M)\n",
    "plt.show()"
   ]
  },
  {
   "cell_type": "markdown",
   "metadata": {},
   "source": [
    "### Exponential Galaxy Model"
   ]
  },
  {
   "cell_type": "code",
   "execution_count": null,
   "metadata": {},
   "outputs": [],
   "source": [
    "M = ap.models.AutoProf_Model(name = \"exponential galaxy\", model_type = \"exponential galaxy model\", parameters = {\"center\": [50,50], \"q\": 0.6, \"PA\": 60*np.pi/180, \"Re\": 10, \"Ie\": 1}, target = basic_target)\n",
    "print(M.parameter_order())\n",
    "print(tuple(M.parameters[P].units for P in M.parameter_order()))\n",
    "M.initialize()\n",
    "\n",
    "fig, ax = plt.subplots(1,2, figsize = (14,6))\n",
    "ap.plots.model_image(fig, ax[0], M)\n",
    "ap.plots.galaxy_light_profile(fig,ax[1],M)\n",
    "plt.show()"
   ]
  },
  {
   "cell_type": "markdown",
   "metadata": {},
   "source": [
    "### Gaussian Galaxy Model"
   ]
  },
  {
   "cell_type": "code",
   "execution_count": null,
   "metadata": {},
   "outputs": [],
   "source": [
    "M = ap.models.AutoProf_Model(name = \"Gaussian\", model_type = \"gaussian galaxy model\", parameters = {\"center\": [50,50], \"q\": 0.6, \"PA\": 60*np.pi/180, \"sigma\": 5, \"flux\": 1}, target = basic_target)\n",
    "print(M.parameter_order())\n",
    "print(tuple(M.parameters[P].units for P in M.parameter_order()))\n",
    "M.initialize()\n",
    "\n",
    "fig, ax = plt.subplots(1,2, figsize = (14,6))\n",
    "ap.plots.model_image(fig, ax[0], M)\n",
    "ap.plots.galaxy_light_profile(fig,ax[1],M)\n",
    "plt.show()"
   ]
  },
  {
   "cell_type": "markdown",
   "metadata": {},
   "source": [
    "### Nuker Galaxy Model"
   ]
  },
  {
   "cell_type": "code",
   "execution_count": null,
   "metadata": {},
   "outputs": [],
   "source": [
    "M = ap.models.AutoProf_Model(name = \"Nuker\", model_type = \"nuker galaxy model\", parameters = {\"center\": [50,50], \"q\": 0.6, \"PA\": 60*np.pi/180, \"Rb\": 10., \"Ib\": 1., \"alpha\": 4., \"beta\": 3., \"gamma\": -0.2}, target = basic_target)\n",
    "print(M.parameter_order())\n",
    "print(tuple(M.parameters[P].units for P in M.parameter_order()))\n",
    "M.initialize()\n",
    "\n",
    "fig, ax = plt.subplots(1,2, figsize = (14,6))\n",
    "ap.plots.model_image(fig, ax[0], M)\n",
    "ap.plots.galaxy_light_profile(fig,ax[1],M)\n",
    "plt.show()"
   ]
  },
  {
   "cell_type": "markdown",
   "metadata": {},
   "source": [
    "## Super Ellipse Models\n",
    "\n",
    "A super ellipse is a regular ellipse, except the radius metric changes from R = sqrt(x^2 + y^2) to the more general: R = (x^C + y^C)^1/C. The parameter C = 2 for a regular ellipse, for 0<C<2 the shape becomes more \"disky\" and for C > 2 the shape becomes more \"boxy.\" In AutoProf we use the parameter C0 = C-2 for simplicity."
   ]
  },
  {
   "cell_type": "markdown",
   "metadata": {},
   "source": [
    "### NonParametric SuperEllipse"
   ]
  },
  {
   "cell_type": "code",
   "execution_count": null,
   "metadata": {},
   "outputs": [],
   "source": [
    "M = ap.models.AutoProf_Model(name = \"nonparametric superellipse\", model_type = \"nonparametric superellipse galaxy model\", parameters = {\"center\": [50,50], \"q\": 0.6, \"PA\": 60*np.pi/180, \"C0\": 2, \"I(R)\": {\"value\": nonparametric_profile, \"prof\": NP_prof}}, target = basic_target)\n",
    "print(M.parameter_order())\n",
    "print(tuple(M.parameters[P].units for P in M.parameter_order()))\n",
    "M.initialize()\n",
    "\n",
    "fig, ax = plt.subplots(1,2, figsize = (14,6))\n",
    "ap.plots.model_image(fig, ax[0], M)\n",
    "ap.plots.galaxy_light_profile(fig,ax[1],M)\n",
    "plt.show()"
   ]
  },
  {
   "cell_type": "markdown",
   "metadata": {},
   "source": [
    "### Sersic SuperEllipse"
   ]
  },
  {
   "cell_type": "code",
   "execution_count": null,
   "metadata": {},
   "outputs": [],
   "source": [
    "M = ap.models.AutoProf_Model(name = \"sersic superellipse\", model_type = \"sersic superellipse galaxy model\", parameters = {\"center\": [50,50], \"q\": 0.6, \"PA\": 60*np.pi/180, \"C0\": 2, \"n\": 3, \"Re\": 10, \"Ie\": 1}, target = basic_target)\n",
    "print(M.parameter_order())\n",
    "print(tuple(M.parameters[P].units for P in M.parameter_order()))\n",
    "M.initialize()\n",
    "\n",
    "fig, ax = plt.subplots(1,2, figsize = (14,6))\n",
    "ap.plots.model_image(fig, ax[0], M)\n",
    "ap.plots.galaxy_light_profile(fig,ax[1],M)\n",
    "plt.show()"
   ]
  },
  {
   "cell_type": "markdown",
   "metadata": {},
   "source": [
    "### Exponential SuperEllipse"
   ]
  },
  {
   "cell_type": "code",
   "execution_count": null,
   "metadata": {},
   "outputs": [],
   "source": [
    "M = ap.models.AutoProf_Model(name = \"exponential superellipse\", model_type = \"exponential superellipse galaxy model\", parameters = {\"center\": [50,50], \"q\": 0.6, \"PA\": 60*np.pi/180, \"C0\": 2, \"Re\": 10, \"Ie\": 1}, target = basic_target)\n",
    "print(M.parameter_order())\n",
    "print(tuple(M.parameters[P].units for P in M.parameter_order()))\n",
    "M.initialize()\n",
    "\n",
    "fig, ax = plt.subplots(1,2, figsize = (14,6))\n",
    "ap.plots.model_image(fig, ax[0], M)\n",
    "ap.plots.galaxy_light_profile(fig,ax[1],M)\n",
    "plt.show()"
   ]
  },
  {
   "cell_type": "markdown",
   "metadata": {},
   "source": [
    "### Gaussian SuperEllipse"
   ]
  },
  {
   "cell_type": "code",
   "execution_count": null,
   "metadata": {},
   "outputs": [],
   "source": [
    "M = ap.models.AutoProf_Model(name = \"gaussian superellipse\", model_type = \"gaussian superellipse galaxy model\", parameters = {\"center\": [50,50], \"q\": 0.6, \"PA\": 60*np.pi/180, \"C0\": 2, \"sigma\": 5, \"flux\": 1}, target = basic_target)\n",
    "print(M.parameter_order())\n",
    "print(tuple(M.parameters[P].units for P in M.parameter_order()))\n",
    "M.initialize()\n",
    "\n",
    "fig, ax = plt.subplots(1,2, figsize = (14,6))\n",
    "ap.plots.model_image(fig, ax[0], M)\n",
    "ap.plots.galaxy_light_profile(fig,ax[1],M)\n",
    "plt.show()"
   ]
  },
  {
   "cell_type": "markdown",
   "metadata": {},
   "source": [
    "### Nuker SuperEllipse"
   ]
  },
  {
   "cell_type": "code",
   "execution_count": null,
   "metadata": {},
   "outputs": [],
   "source": [
    "M = ap.models.AutoProf_Model(name = \"nuker superellipse\", model_type = \"nuker superellipse galaxy model\", parameters = {\"center\": [50,50], \"q\": 0.6, \"PA\": 60*np.pi/180, \"C0\": 2, \"Rb\": 10., \"Ib\": 1., \"alpha\": 4., \"beta\": 3., \"gamma\": -0.2}, target = basic_target)\n",
    "print(M.parameter_order())\n",
    "print(tuple(M.parameters[P].units for P in M.parameter_order()))\n",
    "M.initialize()\n",
    "\n",
    "fig, ax = plt.subplots(1,2, figsize = (14,6))\n",
    "ap.plots.model_image(fig, ax[0], M)\n",
    "ap.plots.galaxy_light_profile(fig,ax[1],M)\n",
    "plt.show()"
   ]
  },
  {
   "cell_type": "markdown",
   "metadata": {},
   "source": [
    "## Fourier Ellipse Models\n",
    "\n",
    "A Fourier ellipse is a scaling on the radius values as a function of theta. It takes the form: $R' = R * exp(\\sum_m am*cos(m*theta + phim))$, where am and phim are the parameters which describe the Fourier perturbations. Using the \"modes\" argument as a tuple, users can select which Fourier modes are used. As a rough intuition: mode 1 acts like a shift of the model; mode 2 acts like ellipticity; mode 3 makes a lopsided model (triangular in the extreme); and mode 4 makes peanut/diamond perturbations. "
   ]
  },
  {
   "cell_type": "markdown",
   "metadata": {},
   "source": [
    "### NonParametric Fourier"
   ]
  },
  {
   "cell_type": "code",
   "execution_count": null,
   "metadata": {},
   "outputs": [],
   "source": [
    "fourier_am = np.array([0.1, 0.3, -0.2])\n",
    "fourier_phim = np.array([10*np.pi/180, 0, 40*np.pi/180])\n",
    "M = ap.models.AutoProf_Model(name = \"nonparametric fourier\", model_type = \"nonparametric fourier galaxy model\", parameters = {\"center\": [50,50], \"q\": 0.6, \"PA\": 60*np.pi/180, \"am\": fourier_am, \"phim\": fourier_phim, \"I(R)\": {\"value\": nonparametric_profile, \"prof\": NP_prof}}, target = basic_target)\n",
    "print(M.parameter_order())\n",
    "print(tuple(M.parameters[P].units for P in M.parameter_order()))\n",
    "M.initialize()\n",
    "\n",
    "fig, ax = plt.subplots(1,2, figsize = (14,6))\n",
    "ap.plots.model_image(fig, ax[0], M)\n",
    "ap.plots.galaxy_light_profile(fig,ax[1],M)\n",
    "plt.show()"
   ]
  },
  {
   "cell_type": "markdown",
   "metadata": {},
   "source": [
    "### Sersic Fourier"
   ]
  },
  {
   "cell_type": "code",
   "execution_count": null,
   "metadata": {},
   "outputs": [],
   "source": [
    "M = ap.models.AutoProf_Model(name = \"sersic fourier\", model_type = \"sersic fourier galaxy model\", parameters = {\"center\": [50,50], \"q\": 0.6, \"PA\": 60*np.pi/180, \"am\": fourier_am, \"phim\": fourier_phim, \"n\": 3, \"Re\": 10, \"Ie\": 1}, target = basic_target)\n",
    "print(M.parameter_order())\n",
    "print(tuple(M.parameters[P].units for P in M.parameter_order()))\n",
    "M.initialize()\n",
    "\n",
    "fig, ax = plt.subplots(1,2, figsize = (14,6))\n",
    "ap.plots.model_image(fig, ax[0], M)\n",
    "ap.plots.galaxy_light_profile(fig,ax[1],M)\n",
    "plt.show()"
   ]
  },
  {
   "cell_type": "markdown",
   "metadata": {},
   "source": [
    "### Exponential Fourier"
   ]
  },
  {
   "cell_type": "code",
   "execution_count": null,
   "metadata": {},
   "outputs": [],
   "source": [
    "M = ap.models.AutoProf_Model(name = \"exponential fourier\", model_type = \"exponential fourier galaxy model\", parameters = {\"center\": [50,50], \"q\": 0.6, \"PA\": 60*np.pi/180, \"am\": fourier_am, \"phim\": fourier_phim, \"Re\": 10, \"Ie\": 1}, target = basic_target)\n",
    "print(M.parameter_order())\n",
    "print(tuple(M.parameters[P].units for P in M.parameter_order()))\n",
    "M.initialize()\n",
    "\n",
    "fig, ax = plt.subplots(1,2, figsize = (14,6))\n",
    "ap.plots.model_image(fig, ax[0], M)\n",
    "ap.plots.galaxy_light_profile(fig,ax[1],M)\n",
    "plt.show()"
   ]
  },
  {
   "cell_type": "markdown",
   "metadata": {},
   "source": [
    "### Gaussian Fourier"
   ]
  },
  {
   "cell_type": "code",
   "execution_count": null,
   "metadata": {},
   "outputs": [],
   "source": [
    "M = ap.models.AutoProf_Model(name = \"gaussian fourier\", model_type = \"gaussian fourier galaxy model\", parameters = {\"center\": [50,50], \"q\": 0.6, \"PA\": 60*np.pi/180, \"am\": fourier_am, \"phim\": fourier_phim, \"sigma\": 5, \"flux\": 1}, target = basic_target)\n",
    "print(M.parameter_order())\n",
    "print(tuple(M.parameters[P].units for P in M.parameter_order()))\n",
    "M.initialize()\n",
    "\n",
    "fig, ax = plt.subplots(1,2, figsize = (14,6))\n",
    "ap.plots.model_image(fig, ax[0], M)\n",
    "ap.plots.galaxy_light_profile(fig,ax[1],M)\n",
    "plt.show()"
   ]
  },
  {
   "cell_type": "markdown",
   "metadata": {},
   "source": [
    "### Nuker Fourier"
   ]
  },
  {
   "cell_type": "code",
   "execution_count": null,
   "metadata": {},
   "outputs": [],
   "source": [
    "M = ap.models.AutoProf_Model(name = \"nuker fourier\", model_type = \"nuker fourier galaxy model\", parameters = {\"center\": [50,50], \"q\": 0.6, \"PA\": 60*np.pi/180, \"am\": fourier_am, \"phim\": fourier_phim, \"Rb\": 10., \"Ib\": 1., \"alpha\": 4., \"beta\": 3., \"gamma\": -0.2}, target = basic_target)\n",
    "print(M.parameter_order())\n",
    "print(tuple(M.parameters[P].units for P in M.parameter_order()))\n",
    "M.initialize()\n",
    "\n",
    "fig, ax = plt.subplots(1,2, figsize = (14,6))\n",
    "ap.plots.model_image(fig, ax[0], M)\n",
    "ap.plots.galaxy_light_profile(fig,ax[1],M)\n",
    "plt.show()"
   ]
  },
  {
   "cell_type": "markdown",
   "metadata": {},
   "source": [
    "## Warp Model\n",
    "\n",
    "A warp model performs a radially varying coordinate transform. Essentially instead of applying a rotation matrix **Rot** on all coordinates X,Y we instead construct a unique rotation matrix for each coordinate pair **Rot(R)** where $R = \\sqrt(X^2 + Y^2)$. We also apply a radially dependent axis ratio **q(R)** to all the coordinates:\n",
    "\n",
    "$R = \\sqrt(X^2 + Y^2)$\n",
    "\n",
    "$X, Y = Rotate(X, Y, PA(R))$\n",
    "\n",
    "$Y = Y / q(R)$\n",
    "\n",
    "The net effect is a radially varying PA and axis ratio which allows the model to represent spiral arms, bulges, or other features that change the apparent shape of a galaxy in a radially varying way."
   ]
  },
  {
   "cell_type": "markdown",
   "metadata": {},
   "source": [
    "### NonParametric Warp"
   ]
  },
  {
   "cell_type": "code",
   "execution_count": null,
   "metadata": {},
   "outputs": [],
   "source": [
    "warp_q = np.linspace(0.1,0.4,14)\n",
    "warp_pa = np.linspace(0,np.pi-0.2,14)\n",
    "M = ap.models.AutoProf_Model(name = \"nonparametric warp\", model_type = \"nonparametric warp galaxy model\", parameters = {\"center\": [50,50], \"q\": 0.6, \"PA\": 60*np.pi/180, \"q(R)\": warp_q, \"PA(R)\": warp_pa, \"I(R)\": {\"value\": nonparametric_profile, \"prof\": NP_prof}}, target = basic_target)\n",
    "print(M.parameter_order())\n",
    "print(tuple(M.parameters[P].units for P in M.parameter_order()))\n",
    "M.initialize()\n",
    "\n",
    "fig, ax = plt.subplots(1,2, figsize = (14,6))\n",
    "ap.plots.model_image(fig, ax[0], M)\n",
    "ap.plots.galaxy_light_profile(fig,ax[1],M)\n",
    "plt.show()"
   ]
  },
  {
   "cell_type": "markdown",
   "metadata": {},
   "source": [
    "### Sersic Warp"
   ]
  },
  {
   "cell_type": "code",
   "execution_count": null,
   "metadata": {},
   "outputs": [],
   "source": [
    "M = ap.models.AutoProf_Model(name = \"sersic warp\", model_type = \"sersic warp galaxy model\", parameters = {\"center\": [50,50], \"q\": 0.6, \"PA\": 60*np.pi/180, \"q(R)\": warp_q, \"PA(R)\": warp_pa, \"n\": 3, \"Re\": 10, \"Ie\": 1}, target = basic_target)\n",
    "print(M.parameter_order())\n",
    "print(tuple(M.parameters[P].units for P in M.parameter_order()))\n",
    "M.initialize()\n",
    "\n",
    "fig, ax = plt.subplots(1,2, figsize = (14,6))\n",
    "ap.plots.model_image(fig, ax[0], M)\n",
    "ap.plots.galaxy_light_profile(fig,ax[1],M)\n",
    "plt.show()"
   ]
  },
  {
   "cell_type": "markdown",
   "metadata": {},
   "source": [
    "### Exponential Warp"
   ]
  },
  {
   "cell_type": "code",
   "execution_count": null,
   "metadata": {},
   "outputs": [],
   "source": [
    "M = ap.models.AutoProf_Model(name = \"exp warp\", model_type = \"exponential warp galaxy model\", parameters = {\"center\": [50,50], \"q\": 0.6, \"PA\": 60*np.pi/180, \"q(R)\": warp_q, \"PA(R)\": warp_pa, \"Re\": 10, \"Ie\": 1}, target = basic_target)\n",
    "print(M.parameter_order())\n",
    "print(tuple(M.parameters[P].units for P in M.parameter_order()))\n",
    "M.initialize()\n",
    "\n",
    "fig, ax = plt.subplots(1,2, figsize = (14,6))\n",
    "ap.plots.model_image(fig, ax[0], M)\n",
    "ap.plots.galaxy_light_profile(fig,ax[1],M)\n",
    "plt.show()"
   ]
  },
  {
   "cell_type": "markdown",
   "metadata": {},
   "source": [
    "### Gaussian Warp"
   ]
  },
  {
   "cell_type": "code",
   "execution_count": null,
   "metadata": {},
   "outputs": [],
   "source": [
    "M = ap.models.AutoProf_Model(name = \"gauss warp\", model_type = \"gaussian warp galaxy model\", parameters = {\"center\": [50,50], \"q\": 0.6, \"PA\": 60*np.pi/180, \"q(R)\": warp_q, \"PA(R)\": warp_pa, \"sigma\": 5, \"flux\": 1}, target = basic_target)\n",
    "print(M.parameter_order())\n",
    "print(tuple(M.parameters[P].units for P in M.parameter_order()))\n",
    "M.initialize()\n",
    "\n",
    "fig, ax = plt.subplots(1,2, figsize = (14,6))\n",
    "ap.plots.model_image(fig, ax[0], M)\n",
    "ap.plots.galaxy_light_profile(fig,ax[1],M)\n",
    "plt.show()"
   ]
  },
  {
   "cell_type": "markdown",
   "metadata": {},
   "source": [
    "### Nuker Warp"
   ]
  },
  {
   "cell_type": "code",
   "execution_count": null,
   "metadata": {},
   "outputs": [],
   "source": [
    "M = ap.models.AutoProf_Model(name = \"nuker warp\", model_type = \"nuker warp galaxy model\", parameters = {\"center\": [50,50], \"q\": 0.6, \"PA\": 60*np.pi/180, \"q(R)\": warp_q, \"PA(R)\": warp_pa, \"Rb\": 10., \"Ib\": 1., \"alpha\": 4., \"beta\": 3., \"gamma\": -0.2}, target = basic_target)\n",
    "print(M.parameter_order())\n",
    "print(tuple(M.parameters[P].units for P in M.parameter_order()))\n",
    "M.initialize()\n",
    "\n",
    "fig, ax = plt.subplots(1,2, figsize = (14,6))\n",
    "ap.plots.model_image(fig, ax[0], M)\n",
    "ap.plots.galaxy_light_profile(fig,ax[1],M)\n",
    "plt.show()"
   ]
  },
  {
   "cell_type": "markdown",
   "metadata": {},
   "source": [
    "## Ray Model\n",
    "\n",
    "A ray model allows the user to break the galaxy up into regions that can be fit separately. There are two basic kinds of ray model: symmetric and asymetric. A symmetric ray model (symmetric_rays = True) assumes 180 degree symmetry of the galaxy and so each ray is reflected through the center. This means that essentially the major axes and the minor axes are being fit separately. For an asymmetric ray model (symmetric_rays = False) each ray is it's own profile to be fit separately. \n",
    "\n",
    "In a ray model there is a smooth boundary between the rays. This smoothness is acomplished by applying a $(\\cos(r*theta)+1)/2$ weight to each profile, where r is dependent on the number of rays and theta is shifted to center on each ray in turn. The exact cosine weighting is dependent on if the rays are symmetric and if there is an even or odd number of rays. "
   ]
  },
  {
   "cell_type": "markdown",
   "metadata": {},
   "source": [
    "### NonParametric Ray"
   ]
  },
  {
   "cell_type": "code",
   "execution_count": null,
   "metadata": {
    "scrolled": false
   },
   "outputs": [],
   "source": [
    "M = ap.models.AutoProf_Model(name = \"nonparametric ray\", model_type = \"nonparametric ray galaxy model\", symmetric_rays = True, rays = 2, parameters = {\"center\": [50,50], \"q\": 0.6, \"PA\": 60*np.pi/180, \"I(R)\": {\"value\": np.array([nonparametric_profile, nonparametric_profile*2]), \"prof\": NP_prof}}, target = basic_target)\n",
    "print(M.parameter_order())\n",
    "print(tuple(M.parameters[P].units for P in M.parameter_order()))\n",
    "M.initialize()\n",
    "\n",
    "fig, ax = plt.subplots(1,2, figsize = (14,6))\n",
    "ap.plots.model_image(fig, ax[0], M)\n",
    "ap.plots.ray_light_profile(fig,ax[1],M)\n",
    "plt.show()"
   ]
  },
  {
   "cell_type": "markdown",
   "metadata": {},
   "source": [
    "### Sersic Ray"
   ]
  },
  {
   "cell_type": "code",
   "execution_count": null,
   "metadata": {},
   "outputs": [],
   "source": [
    "M = ap.models.AutoProf_Model(name = \"sersic ray\", model_type = \"sersic ray galaxy model\", symmetric_rays = True, rays = 2, parameters = {\"center\": [50,50], \"q\": 0.6, \"PA\": 60*np.pi/180, \"n\": [1,3], \"Re\": [10,5],\"Ie\": [1,0.5]}, target = basic_target)\n",
    "print(M.parameter_order())\n",
    "print(tuple(M.parameters[P].units for P in M.parameter_order()))\n",
    "M.initialize()\n",
    "\n",
    "fig, ax = plt.subplots(1,2, figsize = (14,6))\n",
    "ap.plots.model_image(fig, ax[0], M)\n",
    "ap.plots.ray_light_profile(fig,ax[1],M)\n",
    "plt.show()"
   ]
  },
  {
   "cell_type": "markdown",
   "metadata": {},
   "source": [
    "### Exponential Ray"
   ]
  },
  {
   "cell_type": "code",
   "execution_count": null,
   "metadata": {},
   "outputs": [],
   "source": [
    "M = ap.models.AutoProf_Model(name = \"exponential ray\", model_type = \"exponential ray galaxy model\", symmetric_rays = True, rays = 2, parameters = {\"center\": [50,50], \"q\": 0.6, \"PA\": 60*np.pi/180, \"Re\": [10,5], \"Ie\": [1,2]}, target = basic_target)\n",
    "print(M.parameter_order())\n",
    "print(tuple(M.parameters[P].units for P in M.parameter_order()))\n",
    "M.initialize()\n",
    "\n",
    "fig, ax = plt.subplots(1,2, figsize = (14,6))\n",
    "ap.plots.model_image(fig, ax[0], M)\n",
    "ap.plots.ray_light_profile(fig,ax[1],M)\n",
    "plt.show()"
   ]
  },
  {
   "cell_type": "markdown",
   "metadata": {},
   "source": [
    "### Gaussian Ray"
   ]
  },
  {
   "cell_type": "code",
   "execution_count": null,
   "metadata": {},
   "outputs": [],
   "source": [
    "M = ap.models.AutoProf_Model(name = \"gaussian ray\", model_type = \"gaussian ray galaxy model\", symmetric_rays = True, rays = 2, parameters = {\"center\": [50,50], \"q\": 0.6, \"PA\": 60*np.pi/180, \"sigma\": [5,8], \"flux\": [1.5,1.]}, target = basic_target)\n",
    "print(M.parameter_order())\n",
    "print(tuple(M.parameters[P].units for P in M.parameter_order()))\n",
    "M.initialize()\n",
    "\n",
    "fig, ax = plt.subplots(1,2, figsize = (14,6))\n",
    "ap.plots.model_image(fig, ax[0], M)\n",
    "ap.plots.ray_light_profile(fig,ax[1],M)\n",
    "plt.show()"
   ]
  },
  {
   "cell_type": "markdown",
   "metadata": {},
   "source": [
    "## Wedge Model\n",
    "\n",
    "A wedge model behaves just like a ray model, except the boundaries are sharp. This has the advantage that the wedges can be very different in brightness without the \"smoothing\" from the ray model washing out the dimmer one. It also has the advantage of less \"mixing\" of information between the rays, each one can be counted on to have fit only the pixels in it's wedge without any influence from a neighbor. However, it has the disadvantage that the discontinuity at the boundary makes fitting behave strangely when a bright spot lays near the boundary."
   ]
  },
  {
   "cell_type": "markdown",
   "metadata": {},
   "source": [
    "### NonParametric Wedge"
   ]
  },
  {
   "cell_type": "code",
   "execution_count": null,
   "metadata": {},
   "outputs": [],
   "source": [
    "M = ap.models.AutoProf_Model(name = \"nonparametric wedge\", model_type = \"nonparametric wedge galaxy model\", symmetric_wedges = True, wedges = 2, parameters = {\"center\": [50,50], \"q\": 0.6, \"PA\": 60*np.pi/180, \"I(R)\": {\"value\": np.array([nonparametric_profile, nonparametric_profile*2]), \"prof\": NP_prof}}, target = basic_target)\n",
    "print(M.parameter_order())\n",
    "print(tuple(M.parameters[P].units for P in M.parameter_order()))\n",
    "M.initialize()\n",
    "\n",
    "fig, ax = plt.subplots(1,2, figsize = (14,6))\n",
    "ap.plots.model_image(fig, ax[0], M)\n",
    "ap.plots.wedge_light_profile(fig,ax[1],M)\n",
    "plt.show()"
   ]
  },
  {
   "cell_type": "markdown",
   "metadata": {},
   "source": [
    "# High Order Warp Models\n",
    "\n",
    "The models below combine the Warp coordinate transform with radial behaviour transforms: SuperEllipse and Fourier. These higher order models can create higly complex shapes, though their scientific use-case is less clear. They are included for completeness as they may be useful in some specific instances. These models are also included to demonstrate the flexibility in making AutoProf models, in a future tutorial we will discuss how to make your own model types."
   ]
  },
  {
   "cell_type": "markdown",
   "metadata": {},
   "source": [
    "### NonParametric SuperEllipse Warp"
   ]
  },
  {
   "cell_type": "code",
   "execution_count": null,
   "metadata": {},
   "outputs": [],
   "source": [
    "M = ap.models.AutoProf_Model(name = \"nonparametric super warp\", model_type = \"nonparametric superellipse warp galaxy model\", parameters = {\"center\": [50,50], \"q\": 0.6, \"PA\": 60*np.pi/180, \"q(R)\": warp_q, \"PA(R)\": warp_pa, \"C0\": 2, \"I(R)\": {\"value\": nonparametric_profile, \"prof\": NP_prof}}, target = basic_target)\n",
    "print(M.parameter_order())\n",
    "print(tuple(M.parameters[P].units for P in M.parameter_order()))\n",
    "M.initialize()\n",
    "\n",
    "fig, ax = plt.subplots(1,2, figsize = (14,6))\n",
    "ap.plots.model_image(fig, ax[0], M)\n",
    "ap.plots.galaxy_light_profile(fig,ax[1],M)\n",
    "plt.show()"
   ]
  },
  {
   "cell_type": "markdown",
   "metadata": {},
   "source": [
    "### Sersic SuperEllipse Warp"
   ]
  },
  {
   "cell_type": "code",
   "execution_count": null,
   "metadata": {},
   "outputs": [],
   "source": [
    "M = ap.models.AutoProf_Model(name = \"sersic super warp\", model_type = \"sersic superellipse warp galaxy model\", parameters = {\"center\": [50,50], \"q\": 0.6, \"PA\": 60*np.pi/180, \"q(R)\": warp_q, \"PA(R)\": warp_pa, \"C0\": 2, \"n\": 3, \"Re\": 10, \"Ie\": 1}, target = basic_target)\n",
    "print(M.parameter_order())\n",
    "print(tuple(M.parameters[P].units for P in M.parameter_order()))\n",
    "M.initialize()\n",
    "\n",
    "fig, ax = plt.subplots(1,2, figsize = (14,6))\n",
    "ap.plots.model_image(fig, ax[0], M)\n",
    "ap.plots.galaxy_light_profile(fig,ax[1],M)\n",
    "plt.show()"
   ]
  },
  {
   "cell_type": "markdown",
   "metadata": {},
   "source": [
    "### Exponential SuperEllipse Warp"
   ]
  },
  {
   "cell_type": "code",
   "execution_count": null,
   "metadata": {},
   "outputs": [],
   "source": [
    "M = ap.models.AutoProf_Model(name = \"exponential super warp\", model_type = \"exponential superellipse warp galaxy model\", parameters = {\"center\": [50,50], \"q\": 0.6, \"PA\": 60*np.pi/180, \"q(R)\": warp_q, \"PA(R)\": warp_pa, \"C0\": 2, \"Re\": 10, \"Ie\": 1}, target = basic_target)\n",
    "print(M.parameter_order())\n",
    "print(tuple(M.parameters[P].units for P in M.parameter_order()))\n",
    "M.initialize()\n",
    "\n",
    "fig, ax = plt.subplots(1,2, figsize = (14,6))\n",
    "ap.plots.model_image(fig, ax[0], M)\n",
    "ap.plots.galaxy_light_profile(fig,ax[1],M)\n",
    "plt.show()"
   ]
  },
  {
   "cell_type": "markdown",
   "metadata": {},
   "source": [
    "### Gaussian SuperEllipse Warp"
   ]
  },
  {
   "cell_type": "code",
   "execution_count": null,
   "metadata": {},
   "outputs": [],
   "source": [
    "M = ap.models.AutoProf_Model(name = \"gauss super warp\", model_type = \"gaussian superellipse warp galaxy model\", parameters = {\"center\": [50,50], \"q\": 0.6, \"PA\": 60*np.pi/180, \"q(R)\": warp_q, \"PA(R)\": warp_pa, \"C0\": 2, \"sigma\": 5, \"flux\": 1}, target = basic_target)\n",
    "print(M.parameter_order())\n",
    "print(tuple(M.parameters[P].units for P in M.parameter_order()))\n",
    "M.initialize()\n",
    "\n",
    "fig, ax = plt.subplots(1,2, figsize = (14,6))\n",
    "ap.plots.model_image(fig, ax[0], M)\n",
    "ap.plots.galaxy_light_profile(fig,ax[1],M)\n",
    "plt.show()"
   ]
  },
  {
   "cell_type": "markdown",
   "metadata": {},
   "source": [
    "### NonParametric Fourier Warp\n",
    "\n",
    "not sure how this abomination would fit a galaxy, but you are welcome to try"
   ]
  },
  {
   "cell_type": "code",
   "execution_count": null,
   "metadata": {},
   "outputs": [],
   "source": [
    "M = ap.models.AutoProf_Model(name = \"nonparametric fourier warp\", model_type = \"nonparametric fourier warp galaxy model\", modes = (1,3,4), parameters = {\"center\": [50,50], \"q\": 0.6, \"PA\": 60*np.pi/180, \"q(R)\": warp_q, \"PA(R)\": warp_pa, \"am\": fourier_am, \"phim\": fourier_phim, \"I(R)\": {\"value\": nonparametric_profile, \"prof\": NP_prof}}, target = basic_target)\n",
    "print(M.parameter_order())\n",
    "print(tuple(M.parameters[P].units for P in M.parameter_order()))\n",
    "M.initialize()\n",
    "\n",
    "fig, ax = plt.subplots(1,2, figsize = (14,6))\n",
    "ap.plots.model_image(fig, ax[0], M)\n",
    "ap.plots.galaxy_light_profile(fig,ax[1],M)\n",
    "plt.show()"
   ]
  },
  {
   "cell_type": "markdown",
   "metadata": {},
   "source": [
    "### Sersic Fourier Warp"
   ]
  },
  {
   "cell_type": "code",
   "execution_count": null,
   "metadata": {},
   "outputs": [],
   "source": [
    "M = ap.models.AutoProf_Model(name = \"sersic fourier warp\", model_type = \"sersic fourier warp galaxy model\", parameters = {\"center\": [50,50], \"q\": 0.6, \"PA\": 60*np.pi/180, \"q(R)\": warp_q, \"PA(R)\": warp_pa, \"am\": fourier_am, \"phim\": fourier_phim, \"n\": 3, \"Re\": 10, \"Ie\": 1}, target = basic_target)\n",
    "print(M.parameter_order())\n",
    "print(tuple(M.parameters[P].units for P in M.parameter_order()))\n",
    "M.initialize()\n",
    "\n",
    "fig, ax = plt.subplots(1,2, figsize = (14,6))\n",
    "ap.plots.model_image(fig, ax[0], M)\n",
    "ap.plots.galaxy_light_profile(fig,ax[1],M)\n",
    "plt.show()"
   ]
  },
  {
   "cell_type": "markdown",
   "metadata": {},
   "source": [
    "### Exponential Fourier Warp"
   ]
  },
  {
   "cell_type": "code",
   "execution_count": null,
   "metadata": {},
   "outputs": [],
   "source": [
    "M = ap.models.AutoProf_Model(name = \"exp fourier warp\", model_type = \"exponential fourier warp galaxy model\", parameters = {\"center\": [50,50], \"q\": 0.6, \"PA\": 60*np.pi/180, \"q(R)\": warp_q, \"PA(R)\": warp_pa, \"am\": fourier_am, \"phim\": fourier_phim, \"Re\": 10, \"Ie\": 1}, target = basic_target)\n",
    "print(M.parameter_order())\n",
    "print(tuple(M.parameters[P].units for P in M.parameter_order()))\n",
    "M.initialize()\n",
    "\n",
    "fig, ax = plt.subplots(1,2, figsize = (14,6))\n",
    "ap.plots.model_image(fig, ax[0], M)\n",
    "ap.plots.galaxy_light_profile(fig,ax[1],M)\n",
    "plt.show()"
   ]
  },
  {
   "cell_type": "markdown",
   "metadata": {},
   "source": [
    "### Gassian Fourier Warp"
   ]
  },
  {
   "cell_type": "code",
   "execution_count": null,
   "metadata": {},
   "outputs": [],
   "source": [
    "M = ap.models.AutoProf_Model(name = \"gaussian fourier warp\", model_type = \"gaussian fourier warp galaxy model\", parameters = {\"center\": [50,50], \"q\": 0.6, \"PA\": 60*np.pi/180, \"q(R)\": warp_q, \"PA(R)\": warp_pa, \"am\": fourier_am, \"phim\": fourier_phim, \"sigma\": 5, \"flux\": 1}, target = basic_target)\n",
    "print(M.parameter_order())\n",
    "print(tuple(M.parameters[P].units for P in M.parameter_order()))\n",
    "M.initialize()\n",
    "\n",
    "fig, ax = plt.subplots(1,2, figsize = (14,6))\n",
    "ap.plots.model_image(fig, ax[0], M)\n",
    "ap.plots.galaxy_light_profile(fig,ax[1],M)\n",
    "plt.show()"
   ]
  },
  {
   "cell_type": "code",
   "execution_count": null,
   "metadata": {},
   "outputs": [],
   "source": []
  }
 ],
 "metadata": {
  "kernelspec": {
   "display_name": "Python 3",
   "language": "python",
   "name": "python3"
  },
  "language_info": {
   "codemirror_mode": {
    "name": "ipython",
    "version": 3
   },
   "file_extension": ".py",
   "mimetype": "text/x-python",
   "name": "python",
   "nbconvert_exporter": "python",
   "pygments_lexer": "ipython3",
   "version": "3.8.10"
  }
 },
 "nbformat": 4,
 "nbformat_minor": 4
}
