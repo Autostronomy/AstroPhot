{
 "cells": [
  {
   "cell_type": "markdown",
   "metadata": {},
   "source": [
    "# Model Zoo\n",
    "\n",
    "In this notebook you will see every kind of model in AutoProf. Many models have unique capabilities and features, this will be introduced here, though fully taking advantage of them will be dependent on your science case.\n",
    "\n",
    "For a family tree of all the AutoProf models see: link\n",
    "\n",
    "Note, we will not be covering Super_Model or Batch_Model here as those require a dedicated discussion. See the notebook: CombinedModels for that introduction."
   ]
  },
  {
   "cell_type": "code",
   "execution_count": null,
   "metadata": {},
   "outputs": [],
   "source": [
    "import autoprof as ap"
   ]
  },
  {
   "cell_type": "markdown",
   "metadata": {},
   "source": [
    "## Sky Models"
   ]
  },
  {
   "cell_type": "markdown",
   "metadata": {},
   "source": [
    "### Flat Sky Model"
   ]
  },
  {
   "cell_type": "code",
   "execution_count": null,
   "metadata": {},
   "outputs": [],
   "source": [
    "M = ap.models.AutoProf_Model(name = \"flat sky\", model_type = \"flat sky model\")\n",
    "print(M.parameter_order)"
   ]
  },
  {
   "cell_type": "markdown",
   "metadata": {},
   "source": [
    "### Plane Sky Model"
   ]
  },
  {
   "cell_type": "code",
   "execution_count": null,
   "metadata": {},
   "outputs": [],
   "source": [
    "M = ap.models.AutoProf_Model(name = \"plane sky\", model_type = \"plane sky model\")\n",
    "print(M.parameter_order)"
   ]
  },
  {
   "cell_type": "markdown",
   "metadata": {},
   "source": [
    "## Galaxy Models"
   ]
  },
  {
   "cell_type": "markdown",
   "metadata": {},
   "source": [
    "### NonParametric Galaxy Model"
   ]
  },
  {
   "cell_type": "code",
   "execution_count": null,
   "metadata": {},
   "outputs": [],
   "source": [
    "M = ap.models.AutoProf_Model(name = \"nonparametric galaxy\", model_type = \"nonparametric galaxy model\")\n",
    "print(M.parameter_order)"
   ]
  },
  {
   "cell_type": "markdown",
   "metadata": {},
   "source": [
    "### Sersic Galaxy Model"
   ]
  },
  {
   "cell_type": "code",
   "execution_count": null,
   "metadata": {},
   "outputs": [],
   "source": [
    "M = ap.models.AutoProf_Model(name = \"sersic galaxy\", model_type = \"sersic galaxy model\")\n",
    "print(M.parameter_order)"
   ]
  },
  {
   "cell_type": "markdown",
   "metadata": {},
   "source": [
    "### Exponential Galaxy Model"
   ]
  },
  {
   "cell_type": "code",
   "execution_count": null,
   "metadata": {},
   "outputs": [],
   "source": [
    "M = ap.models.AutoProf_Model(name = \"exponential galaxy\", model_type = \"exponential galaxy model\")\n",
    "print(M.parameter_order)"
   ]
  },
  {
   "cell_type": "markdown",
   "metadata": {},
   "source": [
    "### Gaussian Galaxy Model"
   ]
  },
  {
   "cell_type": "code",
   "execution_count": null,
   "metadata": {},
   "outputs": [],
   "source": [
    "M = ap.models.AutoProf_Model(name = \"Gaussian\", model_type = \"gaussian galaxy model\")\n",
    "print(M.parameter_order)"
   ]
  },
  {
   "cell_type": "markdown",
   "metadata": {},
   "source": [
    "### NonParametric SuperEllipse"
   ]
  },
  {
   "cell_type": "code",
   "execution_count": null,
   "metadata": {},
   "outputs": [],
   "source": [
    "M = ap.models.AutoProf_Model(name = \"nonparametric superellipse\", model_type = \"nonparametric superellipse galaxy model\")\n",
    "print(M.parameter_order)"
   ]
  },
  {
   "cell_type": "markdown",
   "metadata": {},
   "source": [
    "### Sersic SuperEllipse"
   ]
  },
  {
   "cell_type": "code",
   "execution_count": null,
   "metadata": {},
   "outputs": [],
   "source": [
    "M = ap.models.AutoProf_Model(name = \"sersic superellipse\", model_type = \"sersic superellipse galaxy model\")\n",
    "print(M.parameter_order)"
   ]
  },
  {
   "cell_type": "markdown",
   "metadata": {},
   "source": [
    "### Exponential SuperEllipse"
   ]
  },
  {
   "cell_type": "code",
   "execution_count": null,
   "metadata": {},
   "outputs": [],
   "source": [
    "M = ap.models.AutoProf_Model(name = \"exponential superellipse\", model_type = \"exponential superellipse galaxy model\")\n",
    "print(M.parameter_order)"
   ]
  },
  {
   "cell_type": "markdown",
   "metadata": {},
   "source": [
    "### Gaussian SuperEllipse"
   ]
  },
  {
   "cell_type": "code",
   "execution_count": null,
   "metadata": {},
   "outputs": [],
   "source": [
    "M = ap.models.AutoProf_Model(name = \"gaussian superellipse\", model_type = \"gaussian superellipse galaxy model\")\n",
    "print(M.parameter_order)"
   ]
  },
  {
   "cell_type": "markdown",
   "metadata": {},
   "source": [
    "### NonParametric Fourier"
   ]
  },
  {
   "cell_type": "code",
   "execution_count": null,
   "metadata": {},
   "outputs": [],
   "source": [
    "M = ap.models.AutoProf_Model(name = \"nonparametric fourier\", model_type = \"nonparametric fourier galaxy model\")\n",
    "print(M.parameter_order)"
   ]
  },
  {
   "cell_type": "markdown",
   "metadata": {},
   "source": [
    "### Sersic Fourier"
   ]
  },
  {
   "cell_type": "code",
   "execution_count": null,
   "metadata": {},
   "outputs": [],
   "source": [
    "M = ap.models.AutoProf_Model(name = \"sersic fourier\", model_type = \"sersic fourier galaxy model\")\n",
    "print(M.parameter_order)"
   ]
  },
  {
   "cell_type": "markdown",
   "metadata": {},
   "source": [
    "### Exponential Fourier"
   ]
  },
  {
   "cell_type": "code",
   "execution_count": null,
   "metadata": {},
   "outputs": [],
   "source": [
    "M = ap.models.AutoProf_Model(name = \"exponential fourier\", model_type = \"exponential fourier galaxy model\")\n",
    "print(M.parameter_order)"
   ]
  },
  {
   "cell_type": "markdown",
   "metadata": {},
   "source": [
    "### Gaussian Fourier"
   ]
  },
  {
   "cell_type": "code",
   "execution_count": null,
   "metadata": {},
   "outputs": [],
   "source": [
    "M = ap.models.AutoProf_Model(name = \"gaussian fourier\", model_type = \"gaussian fourier galaxy model\")\n",
    "print(M.parameter_order)"
   ]
  },
  {
   "cell_type": "markdown",
   "metadata": {},
   "source": [
    "### NonParametric Warp"
   ]
  },
  {
   "cell_type": "code",
   "execution_count": null,
   "metadata": {},
   "outputs": [],
   "source": [
    "M = ap.models.AutoProf_Model(name = \"nonparametric warp\", model_type = \"nonparametric warp galaxy model\")\n",
    "print(M.parameter_order)"
   ]
  },
  {
   "cell_type": "markdown",
   "metadata": {},
   "source": [
    "### Sersic Warp"
   ]
  },
  {
   "cell_type": "code",
   "execution_count": null,
   "metadata": {},
   "outputs": [],
   "source": [
    "M = ap.models.AutoProf_Model(name = \"sersic warp\", model_type = \"sersic warp galaxy model\")\n",
    "print(M.parameter_order)"
   ]
  },
  {
   "cell_type": "markdown",
   "metadata": {},
   "source": [
    "### Exponential Warp"
   ]
  },
  {
   "cell_type": "code",
   "execution_count": null,
   "metadata": {},
   "outputs": [],
   "source": [
    "M = ap.models.AutoProf_Model(name = \"exp warp\", model_type = \"exponential warp galaxy model\")\n",
    "print(M.parameter_order)"
   ]
  },
  {
   "cell_type": "markdown",
   "metadata": {},
   "source": [
    "### Gaussian Warp"
   ]
  },
  {
   "cell_type": "code",
   "execution_count": null,
   "metadata": {},
   "outputs": [],
   "source": [
    "M = ap.models.AutoProf_Model(name = \"gauss warp\", model_type = \"gaussian warp galaxy model\")\n",
    "print(M.parameter_order)"
   ]
  },
  {
   "cell_type": "markdown",
   "metadata": {},
   "source": [
    "### NonParametric SuperEllipse Warp"
   ]
  },
  {
   "cell_type": "code",
   "execution_count": null,
   "metadata": {},
   "outputs": [],
   "source": [
    "M = ap.models.AutoProf_Model(name = \"nonparametric super warp\", model_type = \"nonparametric superellipse warp galaxy model\")\n",
    "print(M.parameter_order)"
   ]
  },
  {
   "cell_type": "markdown",
   "metadata": {},
   "source": [
    "### Sersic SuperEllipse Warp"
   ]
  },
  {
   "cell_type": "code",
   "execution_count": null,
   "metadata": {},
   "outputs": [],
   "source": [
    "M = ap.models.AutoProf_Model(name = \"sersic super warp\", model_type = \"sersic superellipse warp galaxy model\")\n",
    "print(M.parameter_order)"
   ]
  },
  {
   "cell_type": "markdown",
   "metadata": {},
   "source": [
    "### Exponential SuperEllipse Warp"
   ]
  },
  {
   "cell_type": "code",
   "execution_count": null,
   "metadata": {},
   "outputs": [],
   "source": [
    "M = ap.models.AutoProf_Model(name = \"exponential super warp\", model_type = \"exponential superellipse warp galaxy model\")\n",
    "print(M.parameter_order)"
   ]
  },
  {
   "cell_type": "markdown",
   "metadata": {},
   "source": [
    "### Gaussian SuperEllipse Warp"
   ]
  },
  {
   "cell_type": "code",
   "execution_count": null,
   "metadata": {},
   "outputs": [],
   "source": [
    "M = ap.models.AutoProf_Model(name = \"gauss super warp\", model_type = \"gaussian superellipse warp galaxy model\")\n",
    "print(M.parameter_order)"
   ]
  },
  {
   "cell_type": "code",
   "execution_count": null,
   "metadata": {},
   "outputs": [],
   "source": []
  }
 ],
 "metadata": {
  "kernelspec": {
   "display_name": "Python 3",
   "language": "python",
   "name": "python3"
  },
  "language_info": {
   "codemirror_mode": {
    "name": "ipython",
    "version": 3
   },
   "file_extension": ".py",
   "mimetype": "text/x-python",
   "name": "python",
   "nbconvert_exporter": "python",
   "pygments_lexer": "ipython3",
   "version": "3.8.10"
  }
 },
 "nbformat": 4,
 "nbformat_minor": 4
}
