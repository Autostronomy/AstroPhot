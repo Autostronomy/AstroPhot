{
 "cells": [
  {
   "cell_type": "markdown",
   "id": "89a1ca60",
   "metadata": {},
   "source": [
    "# Advanced PSF modeling\n",
    "\n"
   ]
  },
  {
   "cell_type": "code",
   "execution_count": null,
   "id": "720f0871",
   "metadata": {},
   "outputs": [],
   "source": [
    "import autophot as ap\n",
    "import numpy as np\n",
    "import torch\n",
    "from astropy.io import fits\n",
    "import matplotlib.pyplot as plt\n",
    "from time import time\n",
    "%matplotlib inline\n"
   ]
  },
  {
   "cell_type": "markdown",
   "id": "5c745a6d",
   "metadata": {},
   "source": [
    "# PSF modeling without stars\n",
    "\n",
    "Can it be done? Let's see!"
   ]
  },
  {
   "cell_type": "code",
   "execution_count": null,
   "id": "43ba34ca",
   "metadata": {},
   "outputs": [],
   "source": [
    "# Lets make some data that we need to fit\n",
    "\n",
    "true_psf = ap.utils.initialize.moffat_psf(\n",
    "    2., # n                                !!!!! Take note, we want to get n = 2. !!!!!! \n",
    "    3., # Rd                               !!!!! Take note, we want to get Rd = 3.!!!!!!\n",
    "    51, # pixels\n",
    "    1.  # pixelscale\n",
    ")\n",
    "\n",
    "target = ap.image.Target_Image(\n",
    "    data = torch.zeros(100,100), \n",
    "    pixelscale = 1.,\n",
    "    psf = true_psf,\n",
    ")\n",
    "\n",
    "true_model = ap.models.AutoPhot_Model(\n",
    "    name = \"true model\",\n",
    "    model_type = \"sersic galaxy model\",\n",
    "    target = target,\n",
    "    parameters = {\n",
    "        \"center\": [50,50],\n",
    "        \"q\": 0.4,\n",
    "        \"PA\": np.pi/3,\n",
    "        \"n\": 2,\n",
    "        \"Re\": 25,\n",
    "        \"Ie\": 1,\n",
    "    },\n",
    "    psf_mode = \"full\",\n",
    ")\n",
    "\n",
    "# use the true model to make some data\n",
    "sample = true_model()\n",
    "torch.manual_seed(1618033988)\n",
    "target.data = sample.data + torch.normal(torch.zeros_like(sample.data), 0.1)\n",
    "\n",
    "fig, ax = plt.subplots(1,2, figsize = (16,7))\n",
    "ap.plots.model_image(fig, ax[0], true_model)\n",
    "ap.plots.target_image(fig, ax[1], target)\n",
    "ax[0].set_title(\"true sersic+psf model\")\n",
    "ax[1].set_title(\"mock observed data\")\n",
    "plt.show()"
   ]
  },
  {
   "cell_type": "code",
   "execution_count": null,
   "id": "05b7775d",
   "metadata": {},
   "outputs": [],
   "source": [
    "# Now we will try and fit the data\n",
    "\n",
    "# Here we set up a sersic model for the galaxy\n",
    "galaxy_model = ap.models.AutoPhot_Model(\n",
    "    name = \"galaxy model\",\n",
    "    model_type = \"sersic galaxy model\",\n",
    "    target = target,\n",
    "    psf_mode = \"full\",\n",
    ")\n",
    "\n",
    "# Here we create a moffat auxiliary model for the PSF. Auxiliary models don't actually contribute \n",
    "# light to the image, they modify the behaviour of other models in some way that requires expanding \n",
    "# the parameters in fitting.\n",
    "psf_model = ap.models.AutoPhot_Model(\n",
    "    name = \"psf model\",\n",
    "    model_type = \"moffat circular psf aux model\",\n",
    "    target = target,\n",
    "    parameters = {\n",
    "        \"n*\": 1., # True value is 2.\n",
    "        \"Rd*\": 2., # True value is 3.\n",
    "    }\n",
    ")\n",
    "\n",
    "# Here we bind the PSF model to the galaxy model, this will add the psf_model parameters to the galaxy_model\n",
    "# object since it now depends on those.\n",
    "galaxy_model.set_aux_psf(psf_model)\n",
    "\n",
    "# Let AutoPhot determine its own intial parameters, so it has to start with whatever it decides automatically, \n",
    "# just like a real fit.\n",
    "galaxy_model.initialize()\n",
    "\n",
    "result = ap.fit.LM(galaxy_model, verbose = 1).fit()\n",
    "print(result.message)"
   ]
  },
  {
   "cell_type": "code",
   "execution_count": null,
   "id": "e2c9e109",
   "metadata": {},
   "outputs": [],
   "source": [
    "print(\"fitted n for moffat PSF: \", galaxy_model[\"n*\"].value.item(), \"we were hoping to get 2!\")\n",
    "print(\"fitted Rd for moffat PSF: \", galaxy_model[\"Rd*\"].value.item(), \"we were hoping to get 3!\")"
   ]
  },
  {
   "cell_type": "markdown",
   "id": "b94afc75",
   "metadata": {},
   "source": [
    "This is truly remarkable! With no stars available we were still able to extract an accurate PSF from the image! To be fair, this example is essentially perfect for this kind of fitting and we knew the true model types (sersic and moffat) from the start. Still, this is a powerful capability in certain scenarios. For many applications (e.g. weak lensing) it is essential to get the absolute best PSF model possible. Here we have shown that not only stars, but galaxies in the field can be useful tools for measuring the PSF!"
   ]
  },
  {
   "cell_type": "code",
   "execution_count": null,
   "id": "822bb692",
   "metadata": {},
   "outputs": [],
   "source": [
    "fig, ax = plt.subplots(1,2, figsize = (16,7))\n",
    "ap.plots.model_image(fig, ax[0], galaxy_model)\n",
    "ap.plots.residual_image(fig, ax[1], galaxy_model)\n",
    "ax[0].set_title(\"fitted sersic+psf model\")\n",
    "ax[1].set_title(\"residuals\")\n",
    "plt.show()"
   ]
  },
  {
   "cell_type": "markdown",
   "id": "6d118e26",
   "metadata": {},
   "source": [
    "There are regions of parameter space that are degenerate and so even in this idealized scenario the PSF model can get stuck. If you rerun the notebook with different random number seeds for pytorch you may find some where the optimizer \"fails by immobility\" this is when it get's stuck in the parameter space and can't find any way to improve the likelihood. In fact most of these \"fail\" fits do return really good values for the PSF model, so keep in mind that the \"fail\" flag only means the possibility of a truly failed fit. Unfortunatly, detecting convergence is hard."
   ]
  },
  {
   "cell_type": "code",
   "execution_count": null,
   "id": "cb131041",
   "metadata": {},
   "outputs": [],
   "source": []
  }
 ],
 "metadata": {
  "kernelspec": {
   "display_name": "Python 3 (ipykernel)",
   "language": "python",
   "name": "python3"
  },
  "language_info": {
   "codemirror_mode": {
    "name": "ipython",
    "version": 3
   },
   "file_extension": ".py",
   "mimetype": "text/x-python",
   "name": "python",
   "nbconvert_exporter": "python",
   "pygments_lexer": "ipython3",
   "version": "3.9.5"
  }
 },
 "nbformat": 4,
 "nbformat_minor": 5
}
