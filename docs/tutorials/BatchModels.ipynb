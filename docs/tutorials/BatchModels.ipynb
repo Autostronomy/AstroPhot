{
 "cells": [
  {
   "cell_type": "markdown",
   "id": "376dfd07",
   "metadata": {},
   "source": [
    "# Batch models\n",
    "\n",
    "Here we will describe how to perform batch modelling. This is a specific application where one needs many instances of the same kind of model, and those models do not take up much space. An example to keep in mind is a survey for which many of the objects are PSF limited galaxies, or faint stars; in this case a small cutout is sufficent and the same model (e.g. sersic galaxy model) may be applied to all of them. The reason one may want to do this is purely for performance improvements, because each operation is now being applied to an array instead of a single value, the code spends more time computing in the efficient numerical libraries instead of the slow python language.\n",
    "\n",
    "Conceptually, a batch model is the same as a regular model, except in a few key places one replaces a single value with an array of values. The PyTorch backend is able to perform operations (addition, multiplication, etc.) on these arrays instead of the single values and effectively work with many models simultaneously. However, the restriction is that all of these batch models are sharing the same configuration. PSF convolution, for example, must be applied to all models or none. Similarly, if you wish to fix the inclination, you must do so for all the batch models."
   ]
  },
  {
   "cell_type": "code",
   "execution_count": null,
   "id": "65d350d7",
   "metadata": {},
   "outputs": [],
   "source": [
    "%load_ext autoreload\n",
    "%autoreload 2\n",
    "import os\n",
    "import autoprof as ap\n",
    "import numpy as np\n",
    "import torch\n",
    "from astropy.io import fits\n",
    "import matplotlib.pyplot as plt\n",
    "from time import time\n",
    "%matplotlib inline"
   ]
  },
  {
   "cell_type": "code",
   "execution_count": null,
   "id": "73c0aaba",
   "metadata": {},
   "outputs": [],
   "source": [
    "hdu = fits.open(\"https://www.legacysurvey.org/viewer/fits-cutout?ra=36.4684&dec=-45.889&size=100&layer=ls-dr9&pixscale=0.262&bands=r\")\n",
    "target_data = np.array(hdu[0].data, dtype = np.float64)\n",
    "\n",
    "# Create a target object with specified pixelscale and zeropoint\n",
    "target = ap.image.Target_Image(\n",
    "    data = target_data,\n",
    "    pixelscale = 0.262, # Every target image needs to know it's pixelscale in arcsec/pixel\n",
    "    zeropoint = 22.5, # optionally, you can give a zeropoint to tell AutoProf what the pixel flux units are\n",
    "    variance = np.ones(target_data.shape)/1e3, # set the variance for this image (in general it should be more accurate than this)\n",
    ")\n",
    "\n",
    "# The default AutoProf target plotting method uses log scaling in bright areas and histogram scaling in faint areas\n",
    "fig3, ax3 = plt.subplots(figsize = (8,8))\n",
    "ap.plots.target_image(fig3, ax3, target)\n",
    "plt.show()"
   ]
  },
  {
   "cell_type": "code",
   "execution_count": null,
   "id": "07cf5d24",
   "metadata": {},
   "outputs": [],
   "source": [
    "model1 = ap.models.AutoProf_Model(\n",
    "    name = \"model1\", \n",
    "    model_type = \"sersic galaxy model\", \n",
    "    parameters = {\n",
    "        \"center\": [[7.,22.],[18.,4.],[18.,16.]], \n",
    "        \"q\": [0.8,0.8,0.8], \n",
    "        \"PA\": [0.,0.,0.], \n",
    "        \"n\": [2.,3.,4.], \n",
    "        \"Re\": [1.,1.,1.], \n",
    "        \"Ie\": [-1.,-1.,-1.], # notice that every parameter value is now an array of three values\n",
    "    },\n",
    "    window = ap.image.Window(shape = [0.262*20, 0.262*20], \n",
    "                             origin = torch.tensor(0.262*np.array([\n",
    "                                 [int(7./0.262)-10., int(22./0.262)-10.],\n",
    "                                 [int(18./0.262)-10.,int(4./0.262)-10],\n",
    "                                 [int(18./0.262)-10,int(16./0.262)-10] # Notice that the origin changes for each batch model, but the shape CANNOT change, it must be the same for all of them\n",
    "                             ]))),\n",
    "    target = target, \n",
    "    batched = True, # This flag lets AutoProf know that this model is batched so that it can handle this properly\n",
    "    integrate_mode = \"full\",\n",
    ")\n",
    "\n",
    "sample = model1()\n",
    "print(sample)\n",
    "\n",
    "fig4, ax4 = plt.subplots(1, 2, figsize = (16,7))\n",
    "ap.plots.model_image(fig4, ax4[0], model1)\n",
    "ap.plots.residual_image(fig4, ax4[1], model1)\n",
    "plt.show()"
   ]
  },
  {
   "cell_type": "code",
   "execution_count": null,
   "id": "eaec6068",
   "metadata": {},
   "outputs": [],
   "source": []
  }
 ],
 "metadata": {
  "kernelspec": {
   "display_name": "PY39",
   "language": "python",
   "name": "py39"
  },
  "language_info": {
   "codemirror_mode": {
    "name": "ipython",
    "version": 3
   },
   "file_extension": ".py",
   "mimetype": "text/x-python",
   "name": "python",
   "nbconvert_exporter": "python",
   "pygments_lexer": "ipython3",
   "version": "3.9.5"
  }
 },
 "nbformat": 4,
 "nbformat_minor": 5
}
