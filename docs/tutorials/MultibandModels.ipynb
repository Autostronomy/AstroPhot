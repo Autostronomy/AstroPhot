{
 "cells": [
  {
   "cell_type": "markdown",
   "metadata": {},
   "source": [
    "# Multiband Models\n",
    "\n",
    "In this tutorial you will learn how to set up multiband model fits. These are formatted similarly to Group_Model objects, the main difference being that every model has a unique target to fit. That said, one \"model\" for a multiband model object could itself be a full Group_Model object so in truth there are no limitations to what can be fit across multiple bands! \n",
    "\n",
    "It is, of course, more work to set up a fit across multiple wavelength bands. However, the tradeoff can be well worth it in some cases. Perhaps there is space-based data with high resolution, but groundbased data has better S/N. Or perhaps each band individually does not have enough signal for a confident fit, but all three together just might. Perhaps colour information is of paramount importance for a science goal, one would hope that both bands could be treated on equal footing but in a consistent way when extracting profile information. There are a number of reasons why one might wish to try and fit a multiband picture of a galaxy simultaneously. \n",
    "\n",
    "When fitting multiple bands one often resorts to forced photometry, somtimes also blurring each image to the same approximate PSF. With AutoProf this is entirely unecessary as one can fit each image in its native PSF simultaneously. The final fits are more meaningful and can encorporate all of the available structure information."
   ]
  },
  {
   "cell_type": "code",
   "execution_count": null,
   "metadata": {},
   "outputs": [],
   "source": [
    "import autoprof as ap\n",
    "import numpy as np\n",
    "import torch\n",
    "from astropy.io import fits\n",
    "import matplotlib.pyplot as plt\n",
    "from scipy.stats import iqr"
   ]
  },
  {
   "cell_type": "code",
   "execution_count": null,
   "metadata": {},
   "outputs": [],
   "source": [
    "# First we need some data to work with, let's use LEDA 41136 as our example galaxy\n",
    "\n",
    "# Our first image is from the DESI Legacy-Survey r-band. This image has a pixelscale of 0.262 arcsec/pixel and is 500 pixels across\n",
    "target_r = ap.image.Target_Image(\n",
    "    data = np.array(fits.open(\"https://www.legacysurvey.org/viewer/fits-cutout?ra=187.3119&dec=12.9783&size=500&layer=ls-dr9&pixscale=0.262&bands=r\")[0].data, dtype = np.float64),\n",
    "    pixelscale = 0.262,\n",
    "    zeropoint = 22.5,\n",
    "    variance = np.ones((500,500))*0.008**2, # note that the variance is important to ensure all images are compared with proper statistical weight. Here we just use the IQR^2 of the pixel values as the variance, for science data one would use a more accurate variance value\n",
    "    psf = ap.utils.initialize.gaussian_psf(1.12/2.355, 51, 0.262) # we construct a basic gaussian psf for each image by giving the simga (arcsec), image width (pixels), and pixelscale (arcsec/pixel)\n",
    ")\n",
    "\n",
    "# The second image is a unWISE W1 band image. This image has a pixelscale of 2.75 arcsec/pixel and is 52 pixels across\n",
    "target_W1 = ap.image.Target_Image(\n",
    "    data = np.array(fits.open(\"https://www.legacysurvey.org/viewer/fits-cutout?ra=187.3119&dec=12.9783&size=52&layer=unwise-neo7&pixscale=2.75&bands=1\")[0].data, dtype = np.float64),\n",
    "    pixelscale = 2.75,\n",
    "    zeropoint = 25.199,\n",
    "    variance = np.ones((52,52))*4.9**2,\n",
    "    psf = ap.utils.initialize.gaussian_psf(6.1/2.355, 21, 2.75),\n",
    "    origin = (np.array([500,500]))*0.262/2 - (np.array([52,52]))*2.75/2, # here we ensure that the images line up by slightly adjusting the origin\n",
    ")\n",
    "\n",
    "# The third image is a GALEX NUV band image. This image has a pixelscale of 1.5 arcsec/pixel and is 90 pixels across\n",
    "target_NUV = ap.image.Target_Image(\n",
    "    data = np.array(fits.open(\"https://www.legacysurvey.org/viewer/fits-cutout?ra=187.3119&dec=12.9783&size=90&layer=galex&pixscale=1.5&bands=n\")[0].data, dtype = np.float64),\n",
    "    pixelscale = 1.5,\n",
    "    zeropoint = 20.08,\n",
    "    variance = np.ones((90,90))*0.0007**2,\n",
    "    psf = ap.utils.initialize.gaussian_psf(5.4/2.355, 21, 1.5),\n",
    "    origin = (np.array([500,500]))*0.262/2 - (np.array([90,90]))*1.5/2,\n",
    ")\n",
    "\n",
    "fig1, ax1 = plt.subplots(1, 3, figsize = (18,6))\n",
    "ap.plots.target_image(fig1, ax1[0], target_r)\n",
    "ax1[0].set_title(\"r-band image\")\n",
    "ap.plots.target_image(fig1, ax1[1], target_W1)\n",
    "ax1[1].set_title(\"W1-band image\")\n",
    "ap.plots.target_image(fig1, ax1[2], target_NUV)\n",
    "ax1[2].set_title(\"NUV-band image\")\n",
    "plt.show()"
   ]
  },
  {
   "cell_type": "code",
   "execution_count": null,
   "metadata": {},
   "outputs": [],
   "source": [
    "# The multiband model will need a target to try and fit, but now that we have multiple images the \"target\" is\n",
    "# a Target_Image_List object which points to all three.\n",
    "target_full = ap.image.Target_Image_List((target_r, target_W1, target_NUV))\n",
    "# It doesn't really need any other information since everything is already available in the individual targets"
   ]
  },
  {
   "cell_type": "code",
   "execution_count": null,
   "metadata": {},
   "outputs": [],
   "source": [
    "# To make things easy to start, lets just fit a sersic model to all three. In principle one can use arbitrary \n",
    "# group models designed for each band individually, but that would be unecessarily complex for a tutorial\n",
    "\n",
    "model_r = ap.models.AutoProf_Model(\n",
    "    name = \"rband model\",\n",
    "    model_type = \"sersic galaxy model\",\n",
    "    target = target_r,\n",
    ")\n",
    "model_W1 = ap.models.AutoProf_Model(\n",
    "    name = \"W1band model\",\n",
    "    model_type = \"sersic galaxy model\",\n",
    "    target = target_W1,\n",
    ")\n",
    "model_NUV = ap.models.AutoProf_Model(\n",
    "    name = \"NUVband model\",\n",
    "    model_type = \"sersic galaxy model\",\n",
    "    target = target_NUV,\n",
    ")\n",
    "\n",
    "# At this point we would just be fitting three separate models at the same time, not very interesting. Next \n",
    "# we add constraints so that some parameters are shared between all the models. It makes sense to fix \n",
    "# structure parameters while letting brightness parameters vary between bands so that's what we do here.\n",
    "model_W1.add_equality_constraint(model_r, [\"center\", \"q\", \"PA\", \"n\", \"Re\"])\n",
    "model_NUV.add_equality_constraint(model_r, [\"center\", \"q\", \"PA\", \"n\", \"Re\"])\n",
    "# Now every model will have a unique Ie, but every other parameter is shared for all three"
   ]
  },
  {
   "cell_type": "code",
   "execution_count": null,
   "metadata": {},
   "outputs": [],
   "source": [
    "# We can now make the multiband model object\n",
    "\n",
    "model_full = ap.models.Multiband_Model(\n",
    "    name = \"LEDA 41136\",\n",
    "    model_list = [model_r, model_W1, model_NUV],\n",
    "    target = target_full,\n",
    ")\n",
    "\n",
    "model_full.initialize()"
   ]
  },
  {
   "cell_type": "code",
   "execution_count": null,
   "metadata": {},
   "outputs": [],
   "source": [
    "result = ap.fit.LM(model_full, method = 0, verbose = 1, relative_tolerance = 1e-5).fit() # here we set a very tight tolerance since the r-band image with 100X more pixels will mostly control the Chi^2, its not necessary but this is good insurance\n",
    "print(result.message)"
   ]
  },
  {
   "cell_type": "code",
   "execution_count": null,
   "metadata": {},
   "outputs": [],
   "source": [
    "# here we plot the results of the fitting, notice that each band has a different PSF and pixelscale. Also, notice\n",
    "# that the colour bars represent significantly different ranges since each model was allowed to fit its own Ie.\n",
    "# meanwhile the center, PA, q, and Re is the same for every model.\n",
    "fig1, ax1 = plt.subplots(1, 3, figsize = (18,6))\n",
    "ap.plots.model_image(fig1, ax1[0], model_r)\n",
    "ax1[0].set_title(\"r-band model image\")\n",
    "ap.plots.model_image(fig1, ax1[1], model_W1)\n",
    "ax1[1].set_title(\"W1-band model image\")\n",
    "ap.plots.model_image(fig1, ax1[2], model_NUV)\n",
    "ax1[2].set_title(\"NUV-band model image\")\n",
    "plt.show()"
   ]
  },
  {
   "cell_type": "code",
   "execution_count": null,
   "metadata": {},
   "outputs": [],
   "source": [
    "# We can also plot the residual images. As can be seen, the galaxy is fit in all three bands simultaneously\n",
    "# with the majority of the light removed in all bands. A slight residual can be seen in the W1 and NUV bands.\n",
    "# This is likely due to the very simplistic gaussian PSF used for the sake of this tutorial.\n",
    "fig1, ax1 = plt.subplots(1, 3, figsize = (18,6))\n",
    "ap.plots.residual_image(fig1, ax1[0], model_r)\n",
    "ax1[0].set_title(\"r-band residual image\")\n",
    "ap.plots.residual_image(fig1, ax1[1], model_W1)\n",
    "ax1[1].set_title(\"W1-band residual image\")\n",
    "ap.plots.residual_image(fig1, ax1[2], model_NUV)\n",
    "ax1[2].set_title(\"NUV-band residual image\")\n",
    "plt.show()"
   ]
  },
  {
   "cell_type": "code",
   "execution_count": null,
   "metadata": {},
   "outputs": [],
   "source": []
  }
 ],
 "metadata": {
  "kernelspec": {
   "display_name": "Python 3",
   "language": "python",
   "name": "python3"
  },
  "language_info": {
   "codemirror_mode": {
    "name": "ipython",
    "version": 3
   },
   "file_extension": ".py",
   "mimetype": "text/x-python",
   "name": "python",
   "nbconvert_exporter": "python",
   "pygments_lexer": "ipython3",
   "version": "3.8.10"
  }
 },
 "nbformat": 4,
 "nbformat_minor": 4
}
