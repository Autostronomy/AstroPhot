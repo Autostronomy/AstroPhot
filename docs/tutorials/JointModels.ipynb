{
 "cells": [
  {
   "cell_type": "markdown",
   "metadata": {},
   "source": [
    "# Joint Modelling\n",
    "\n",
    "In this tutorial you will learn how to set up a joint modelling fit which encoporates the data from multiple images. These use `Group_Model` objects just like in the `GroupModels.ipynb` tutorial, the main difference being how the `Target_Image` object is constructed and that more care must be taken when assigning targets to models.  \n",
    "\n",
    "It is, of course, more work to set up a fit across multiple target images. However, the tradeoff can be well worth it. Perhaps there is space-based data with high resolution, but groundbased data has better S/N. Or perhaps each band individually does not have enough signal for a confident fit, but all three together just might. Perhaps colour information is of paramount importance for a science goal, one would hope that both bands could be treated on equal footing but in a consistent way when extracting profile information. There are a number of reasons why one might wish to try and fit a multi image picture of a galaxy simultaneously. \n",
    "\n",
    "When fitting multiple bands one often resorts to forced photometry, somtimes also blurring each image to the same approximate PSF. With AutoProf this is entirely unecessary as one can fit each image in its native PSF simultaneously. The final fits are more meaningful and can encorporate all of the available structure information."
   ]
  },
  {
   "cell_type": "code",
   "execution_count": null,
   "metadata": {},
   "outputs": [],
   "source": [
    "import autoprof as ap\n",
    "import numpy as np\n",
    "import torch\n",
    "from astropy.io import fits\n",
    "import matplotlib.pyplot as plt\n",
    "from scipy.stats import iqr"
   ]
  },
  {
   "cell_type": "code",
   "execution_count": null,
   "metadata": {},
   "outputs": [],
   "source": [
    "# First we need some data to work with, let's use LEDA 41136 as our example galaxy\n",
    "\n",
    "# Our first image is from the DESI Legacy-Survey r-band. This image has a pixelscale of 0.262 arcsec/pixel and is 500 pixels across\n",
    "target_r = ap.image.Target_Image(\n",
    "    data = np.array(fits.open(\"https://www.legacysurvey.org/viewer/fits-cutout?ra=187.3119&dec=12.9783&size=500&layer=ls-dr9&pixscale=0.262&bands=r\")[0].data, dtype = np.float64),\n",
    "    pixelscale = 0.262,\n",
    "    zeropoint = 22.5,\n",
    "    variance = np.ones((500,500))*0.008**2, # note that the variance is important to ensure all images are compared with proper statistical weight. Here we just use the IQR^2 of the pixel values as the variance, for science data one would use a more accurate variance value\n",
    "    psf = ap.utils.initialize.gaussian_psf(1.12/2.355, 51, 0.262) # we construct a basic gaussian psf for each image by giving the simga (arcsec), image width (pixels), and pixelscale (arcsec/pixel)\n",
    ")\n",
    "\n",
    "# The second image is a unWISE W1 band image. This image has a pixelscale of 2.75 arcsec/pixel and is 52 pixels across\n",
    "target_W1 = ap.image.Target_Image(\n",
    "    data = np.array(fits.open(\"https://www.legacysurvey.org/viewer/fits-cutout?ra=187.3119&dec=12.9783&size=52&layer=unwise-neo7&pixscale=2.75&bands=1\")[0].data, dtype = np.float64),\n",
    "    pixelscale = 2.75,\n",
    "    zeropoint = 25.199,\n",
    "    variance = np.ones((52,52))*4.9**2,\n",
    "    psf = ap.utils.initialize.gaussian_psf(6.1/2.355, 21, 2.75),\n",
    "    origin = (np.array([500,500]))*0.262/2 - (np.array([52,52]))*2.75/2, # here we ensure that the images line up by slightly adjusting the origin\n",
    ")\n",
    "\n",
    "# The third image is a GALEX NUV band image. This image has a pixelscale of 1.5 arcsec/pixel and is 90 pixels across\n",
    "target_NUV = ap.image.Target_Image(\n",
    "    data = np.array(fits.open(\"https://www.legacysurvey.org/viewer/fits-cutout?ra=187.3119&dec=12.9783&size=90&layer=galex&pixscale=1.5&bands=n\")[0].data, dtype = np.float64),\n",
    "    pixelscale = 1.5,\n",
    "    zeropoint = 20.08,\n",
    "    variance = np.ones((90,90))*0.0007**2,\n",
    "    psf = ap.utils.initialize.gaussian_psf(5.4/2.355, 21, 1.5),\n",
    "    origin = (np.array([500,500]))*0.262/2 - (np.array([90,90]))*1.5/2,\n",
    ")\n",
    "\n",
    "fig1, ax1 = plt.subplots(1, 3, figsize = (18,6))\n",
    "ap.plots.target_image(fig1, ax1[0], target_r)\n",
    "ax1[0].set_title(\"r-band image\")\n",
    "ap.plots.target_image(fig1, ax1[1], target_W1)\n",
    "ax1[1].set_title(\"W1-band image\")\n",
    "ap.plots.target_image(fig1, ax1[2], target_NUV)\n",
    "ax1[2].set_title(\"NUV-band image\")\n",
    "plt.show()"
   ]
  },
  {
   "cell_type": "code",
   "execution_count": null,
   "metadata": {},
   "outputs": [],
   "source": [
    "# The joint model will need a target to try and fit, but now that we have multiple images the \"target\" is\n",
    "# a Target_Image_List object which points to all three.\n",
    "target_full = ap.image.Target_Image_List((target_r, target_W1, target_NUV))\n",
    "# It doesn't really need any other information since everything is already available in the individual targets"
   ]
  },
  {
   "cell_type": "code",
   "execution_count": null,
   "metadata": {},
   "outputs": [],
   "source": [
    "# To make things easy to start, lets just fit a sersic model to all three. In principle one can use arbitrary \n",
    "# group models designed for each band individually, but that would be unecessarily complex for a tutorial\n",
    "\n",
    "model_r = ap.models.AutoProf_Model(\n",
    "    name = \"rband model\",\n",
    "    model_type = \"sersic galaxy model\",\n",
    "    target = target_r,\n",
    "    psf_mode = \"full\",\n",
    ")\n",
    "model_W1 = ap.models.AutoProf_Model(\n",
    "    name = \"W1band model\",\n",
    "    model_type = \"sersic galaxy model\",\n",
    "    target = target_W1,\n",
    "    psf_mode = \"full\",\n",
    ")\n",
    "model_NUV = ap.models.AutoProf_Model(\n",
    "    name = \"NUVband model\",\n",
    "    model_type = \"sersic galaxy model\",\n",
    "    target = target_NUV,\n",
    "    psf_mode = \"full\",\n",
    ")\n",
    "\n",
    "# At this point we would just be fitting three separate models at the same time, not very interesting. Next \n",
    "# we add constraints so that some parameters are shared between all the models. It makes sense to fix \n",
    "# structure parameters while letting brightness parameters vary between bands so that's what we do here.\n",
    "model_W1.add_equality_constraint(model_r, [\"center\", \"q\", \"PA\", \"n\", \"Re\"])\n",
    "model_NUV.add_equality_constraint(model_r, [\"center\", \"q\", \"PA\", \"n\", \"Re\"])\n",
    "# Now every model will have a unique Ie, but every other parameter is shared for all three"
   ]
  },
  {
   "cell_type": "code",
   "execution_count": null,
   "metadata": {},
   "outputs": [],
   "source": [
    "# We can now make the joint model object\n",
    "\n",
    "model_full = ap.models.AutoProf_Model(\n",
    "    name = \"LEDA 41136\",\n",
    "    model_type = \"group model\",\n",
    "    model_list = [model_r, model_W1, model_NUV],\n",
    "    target = target_full,\n",
    ")\n",
    "\n",
    "model_full.initialize()"
   ]
  },
  {
   "cell_type": "code",
   "execution_count": null,
   "metadata": {},
   "outputs": [],
   "source": [
    "result = ap.fit.LM(model_full, verbose = 1).fit()\n",
    "print(result.message)"
   ]
  },
  {
   "cell_type": "code",
   "execution_count": null,
   "metadata": {},
   "outputs": [],
   "source": [
    "# here we plot the results of the fitting, notice that each band has a different PSF and pixelscale. Also, notice\n",
    "# that the colour bars represent significantly different ranges since each model was allowed to fit its own Ie.\n",
    "# meanwhile the center, PA, q, and Re is the same for every model.\n",
    "fig1, ax1 = plt.subplots(1, 3, figsize = (18,6))\n",
    "ap.plots.model_image(fig1, ax1, model_full)\n",
    "ax1[0].set_title(\"r-band model image\")\n",
    "ax1[1].set_title(\"W1-band model image\")\n",
    "ax1[2].set_title(\"NUV-band model image\")\n",
    "plt.show()"
   ]
  },
  {
   "cell_type": "code",
   "execution_count": null,
   "metadata": {},
   "outputs": [],
   "source": [
    "# We can also plot the residual images. As can be seen, the galaxy is fit in all three bands simultaneously\n",
    "# with the majority of the light removed in all bands. A residual can be seen in the r band. This is likely \n",
    "# due to there being more structure in the r-band than just a sersic. The W1 and NUV bands look excellent though\n",
    "fig1, ax1 = plt.subplots(1, 3, figsize = (18,6))\n",
    "ap.plots.residual_image(fig1, ax1, model_full)\n",
    "ax1[0].set_title(\"r-band residual image\")\n",
    "ax1[1].set_title(\"W1-band residual image\")\n",
    "ax1[2].set_title(\"NUV-band residual image\")\n",
    "plt.show()"
   ]
  },
  {
   "cell_type": "markdown",
   "metadata": {},
   "source": [
    "## Joint models with multiple models\n",
    "\n",
    "If you want to analyze more than a single astronomical object, you will need to combine many models for each image in a reasonable structure. There are a number of ways to do this that will work, though may not be as scalable. For small images, just about any arrangement is fine when using the LM optimizer. But as images and number of models scales very large, it may be neccessary to sub divide the problem to save memory. To do this you should arrange your models in a hierarchy so that AutoProf has some information about the structure of your problem. There are two ways to do this. First, you can create a group of models where each sub-model is a group which holds all the objects for one image. Second, you can create a group of models where each sub-model is a group which holds all the representations of a single astronomical object across each image. The second method is preferred. See the diagram below to help clarify what this means.\n",
    "\n",
    "__[JointGroupModels](https://raw.githubusercontent.com/ConnorStoneAstro/AutoProf/main/media/groupjointmodels.png)__\n",
    "\n",
    "Here we will see an example of a multiband fit of an image which has multiple astronomical objects."
   ]
  },
  {
   "cell_type": "code",
   "execution_count": null,
   "metadata": {},
   "outputs": [],
   "source": [
    "# First we need some data to work with, let's use another LEDA object, this time a group of galaxies: LEDA 389779, 389797, 389681\n",
    "\n",
    "RA = 320.5003\n",
    "DEC = -57.4585\n",
    "# Our first image is from the DESI Legacy-Survey r-band. This image has a pixelscale of 0.262 arcsec/pixel\n",
    "rsize = 250\n",
    "target_r = ap.image.Target_Image(\n",
    "    data = np.array(fits.open(f\"https://www.legacysurvey.org/viewer/fits-cutout?ra={RA}&dec={DEC}&size={rsize}&layer=ls-dr9&pixscale=0.262&bands=r\")[0].data, dtype = np.float64),\n",
    "    pixelscale = 0.262,\n",
    "    zeropoint = 22.5,\n",
    "    variance = np.ones((rsize,rsize))*0.008**2, # note that the variance is important to ensure all images are compared with proper statistical weight. Here we just use the IQR^2 of the pixel values as the variance, for science data one would use a more accurate variance value\n",
    "    psf = ap.utils.initialize.gaussian_psf(1.12/2.355, 51, 0.262) # we construct a basic gaussian psf for each image by giving the simga (arcsec), image width (pixels), and pixelscale (arcsec/pixel)\n",
    ")\n",
    "\n",
    "# The second image is a unWISE W1 band image. This image has a pixelscale of 2.75 arcsec/pixel\n",
    "wsize = 25\n",
    "target_W1 = ap.image.Target_Image(\n",
    "    data = np.array(fits.open(f\"https://www.legacysurvey.org/viewer/fits-cutout?ra={RA}&dec={DEC}&size={wsize}&layer=unwise-neo7&pixscale=2.75&bands=1\")[0].data, dtype = np.float64),\n",
    "    pixelscale = 2.75,\n",
    "    zeropoint = 25.199,\n",
    "    variance = np.ones((wsize,wsize))*4.9**2,\n",
    "    psf = ap.utils.initialize.gaussian_psf(6.1/2.355, 21, 2.75),\n",
    "    origin = (np.array([rsize,rsize]))*0.262/2 - (np.array([wsize,wsize]))*2.75/2, # here we ensure that the images line up by slightly adjusting the origin\n",
    ")\n",
    "\n",
    "# The third image is a GALEX NUV band image. This image has a pixelscale of 1.5 arcsec/pixel\n",
    "gsize = 40\n",
    "target_NUV = ap.image.Target_Image(\n",
    "    data = np.array(fits.open(f\"https://www.legacysurvey.org/viewer/fits-cutout?ra={RA}&dec={DEC}&size={gsize}&layer=galex&pixscale=1.5&bands=n\")[0].data, dtype = np.float64),\n",
    "    pixelscale = 1.5,\n",
    "    zeropoint = 20.08,\n",
    "    variance = np.ones((gsize,gsize))*0.0007**2,\n",
    "    psf = ap.utils.initialize.gaussian_psf(5.4/2.355, 21, 1.5),\n",
    "    origin = (np.array([rsize,rsize]))*0.262/2 - (np.array([gsize,gsize]))*1.5/2,\n",
    ")\n",
    "target_full = ap.image.Target_Image_List((target_r, target_W1, target_NUV))\n",
    "\n",
    "fig1, ax1 = plt.subplots(1, 3, figsize = (18,6))\n",
    "ap.plots.target_image(fig1, ax1, target_full)\n",
    "ax1[0].set_title(\"r-band image\")\n",
    "ax1[1].set_title(\"W1-band image\")\n",
    "ax1[2].set_title(\"NUV-band image\")\n",
    "plt.show()"
   ]
  },
  {
   "cell_type": "markdown",
   "metadata": {},
   "source": [
    "There is barely any signal in the GALEX data and it would be entirely impossible to analyze on its own. With simultaneous multiband fitting it is a breeze to get relatively robust results!\n",
    "\n",
    "Next we need to construct models for each galaxy. This is understandably more complex than in the single band case, since now we have three times the amout of data to keep track of. Recall that we will create a number of joint models to represent each astronomical object, then put them all together in a larger group model."
   ]
  },
  {
   "cell_type": "code",
   "execution_count": null,
   "metadata": {},
   "outputs": [],
   "source": [
    "# Here we enter the window parameters by hand, in general one would use a segmentation map or some other automated proceedure to pick out the area for many objects\n",
    "windows = [\n",
    "    {\"r\":[[72,152],[140,234]], \"W1\": [[5,16],[13,24]], \"NUV\": [[8,27],[20,39]]},\n",
    "    {\"r\":[[43,155],[138,237]], \"W1\": [[3,15],[12,25]], \"NUV\": [[4,22],[19,39]]},\n",
    "    {\"r\":[[115,210],[100,228]], \"W1\": [[10,21],[10,23]], \"NUV\": [[17,35],[13,38]]},\n",
    "    {\"r\":[[69,170],[10,115]], \"W1\": [[7,17],[1,13]], \"NUV\": [[8,30],[1,18]]},\n",
    "]\n",
    "\n",
    "model_list = []\n",
    "\n",
    "for i, window in enumerate(windows):\n",
    "    # create the submodels for this object\n",
    "    sub_list = []\n",
    "    sub_list.append(\n",
    "        ap.models.AutoProf_Model(\n",
    "            name = f\"rband model {i}\",\n",
    "            model_type = \"nonparametric galaxy model\", # we use nonparametric models for the r-band since it is well resolved\n",
    "            target = target_r,\n",
    "            window = window[\"r\"],\n",
    "            psf_mode = \"full\",\n",
    "        )\n",
    "    )\n",
    "    sub_list.append(\n",
    "        ap.models.AutoProf_Model(\n",
    "            name = f\"W1band model {i}\",\n",
    "            model_type = \"sersic galaxy model\", # we use sersic models for W1 and NUV since there isn't much visible detail, a simple model is sufficient\n",
    "            target = target_W1,\n",
    "            window = window[\"W1\"],\n",
    "            psf_mode = \"full\",\n",
    "        )\n",
    "    )\n",
    "    sub_list.append(\n",
    "        ap.models.AutoProf_Model(\n",
    "            name = f\"NUVband model {i}\",\n",
    "            model_type = \"sersic galaxy model\",\n",
    "            target = target_NUV,\n",
    "            window = window[\"NUV\"],\n",
    "            psf_mode = \"full\",\n",
    "        )\n",
    "    )  \n",
    "    # ensure equality constraints\n",
    "    sub_list[1].add_equality_constraint(sub_list[0], [\"center\", \"q\", \"PA\"])\n",
    "    sub_list[2].add_equality_constraint(sub_list[0], [\"center\", \"q\", \"PA\"])\n",
    "    # Make the multiband model for this object\n",
    "    model_list.append(\n",
    "        ap.models.AutoProf_Model(\n",
    "            name = f\"model {i}\",\n",
    "            model_type = \"group model\",\n",
    "            target = target_full,\n",
    "            model_list = sub_list,\n",
    "        )\n",
    "    )\n",
    "# Make the full model for this system of objects\n",
    "MODEL = ap.models.AutoProf_Model(\n",
    "    name = f\"full model\",\n",
    "    model_type = \"group model\",\n",
    "    target = target_full,\n",
    "    model_list = model_list,\n",
    ")\n",
    "fig, ax = plt.subplots(1,3, figsize = (16,7))\n",
    "ap.plots.target_image(fig, ax, MODEL.target)\n",
    "ap.plots.model_window(fig, ax, MODEL)\n",
    "ax1[0].set_title(\"r-band image\")\n",
    "ax1[1].set_title(\"W1-band image\")\n",
    "ax1[2].set_title(\"NUV-band image\")\n",
    "plt.show()"
   ]
  },
  {
   "cell_type": "code",
   "execution_count": null,
   "metadata": {},
   "outputs": [],
   "source": [
    "MODEL.initialize()\n",
    "result = ap.fit.LM(MODEL, verbose = 1, epsilon4 = 0.05).fit()\n",
    "print(result.message)"
   ]
  },
  {
   "cell_type": "code",
   "execution_count": null,
   "metadata": {},
   "outputs": [],
   "source": [
    "fig1, ax1 = plt.subplots(1, 3, figsize = (18,6))\n",
    "ap.plots.model_image(fig1, ax1, MODEL)\n",
    "ax1[0].set_title(\"r-band model image\")\n",
    "ax1[1].set_title(\"W1-band model image\")\n",
    "ax1[2].set_title(\"NUV-band model image\")\n",
    "plt.show()"
   ]
  },
  {
   "cell_type": "markdown",
   "metadata": {},
   "source": [
    "The models look excellent! The power of multiband fitting lets us know that we have extracted all the available information here, no forced photometry required!"
   ]
  },
  {
   "cell_type": "code",
   "execution_count": null,
   "metadata": {},
   "outputs": [],
   "source": [
    "fig, ax = plt.subplots(1, 3, figsize = (18,6))\n",
    "ap.plots.residual_image(fig, ax, MODEL)\n",
    "ax[0].set_title(\"r-band residual image\")\n",
    "ax[1].set_title(\"W1-band residual image\")\n",
    "ax[2].set_title(\"NUV-band residual image\")\n",
    "plt.show()"
   ]
  },
  {
   "cell_type": "markdown",
   "metadata": {},
   "source": [
    "The residuals look acceptable, but clearly there is more structure to be found in these galaxies, this is especially apparent in the r-band data. At least for the lower galaxy, we can see in the observed image that there are spiral arms, those can easily cause large scale residual patterns."
   ]
  },
  {
   "cell_type": "markdown",
   "metadata": {},
   "source": [
    "### Dithered images\n",
    "\n",
    "Note that it is not necessary to use images from different bands. Using dithered images one can effectively achieve higher resolution. It is possible to simultaneously fit dithered images with AutoProf instead of postprocessing the two images together. This will of course be slower, but may be worthwhile for cases where extra care is needed.\n",
    "\n",
    "### Stacked images\n",
    "\n",
    "Like dithered images, one may wish to combine the statistical power of multiple images but for some reason it is not clear how to add them. In this case one can simply have AutoProf fit the images simultaneously. Again this is slower than if the image could be combined, but should extract all the statistical power from the data.\n",
    "\n",
    "### Time series\n",
    "\n",
    "Some objects change over time. For example they may get brighter and dimmer, or may have a transient feature appear. However, the structure of an object may remain constant. An example of this is a supernova and its host galaxy. The host galaxy likely doesn't change across images, but the supernova does. It is possible to fit a time series dataset with a shared galaxy model across multiple images, and a shared position for the supernova, but a variable brightness for the supernova over each image. \n",
    "\n",
    "It is possible to get quite creative with joint models as they allow one to fix selective features of a model over a wide range of data. If you have a situation which may benefit from joint modelling but are having a hard time determining how to format everything, please do contact us!"
   ]
  },
  {
   "cell_type": "code",
   "execution_count": null,
   "metadata": {},
   "outputs": [],
   "source": []
  }
 ],
 "metadata": {
  "kernelspec": {
   "display_name": "Python 3",
   "language": "python",
   "name": "python3"
  },
  "language_info": {
   "codemirror_mode": {
    "name": "ipython",
    "version": 3
   },
   "file_extension": ".py",
   "mimetype": "text/x-python",
   "name": "python",
   "nbconvert_exporter": "python",
   "pygments_lexer": "ipython3",
   "version": "3.8.10"
  }
 },
 "nbformat": 4,
 "nbformat_minor": 4
}
