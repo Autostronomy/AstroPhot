{
 "cells": [
  {
   "cell_type": "markdown",
   "metadata": {
    "editable": true,
    "slideshow": {
     "slide_type": ""
    },
    "tags": []
   },
   "source": [
    "# Group Models\n",
    "\n",
    "Here you will learn how to combine models together into a larger, more complete, model of a given system. This is a powerful and necessary capability when analysing objects in crowded environments. As telescopes achieve ever deeper photometry we have learned that all environments are crowded when projected onto the sky!"
   ]
  },
  {
   "cell_type": "code",
   "execution_count": null,
   "metadata": {},
   "outputs": [],
   "source": [
    "import astrophot as ap\n",
    "import numpy as np\n",
    "import torch\n",
    "from astropy.io import fits\n",
    "import matplotlib.pyplot as plt\n",
    "from scipy.stats import iqr"
   ]
  },
  {
   "cell_type": "code",
   "execution_count": null,
   "metadata": {},
   "outputs": [],
   "source": [
    "# first let's download an image to play with\n",
    "hdu = fits.open(\n",
    "    \"https://www.legacysurvey.org/viewer/fits-cutout?ra=155.7720&dec=15.1494&size=150&layer=ls-dr9&pixscale=0.262&bands=r\"\n",
    ")\n",
    "target_data = np.array(hdu[0].data, dtype=np.float64)\n",
    "\n",
    "fig1, ax1 = plt.subplots(figsize=(8, 8))\n",
    "plt.imshow(np.arctan(target_data / 0.05), origin=\"lower\", cmap=\"inferno\")\n",
    "plt.axis(\"off\")\n",
    "plt.show()"
   ]
  },
  {
   "cell_type": "code",
   "execution_count": null,
   "metadata": {},
   "outputs": [],
   "source": [
    "#########################################\n",
    "# NOTE: photutils is not a dependency of AstroPhot, make sure you run: pip install photutils\n",
    "# if you dont already have that package. Also note that you can use any segmentation map\n",
    "# code, we just use photutils here because it is very easy.\n",
    "#########################################\n",
    "from photutils.segmentation import detect_sources, deblend_sources\n",
    "\n",
    "initsegmap = detect_sources(target_data, threshold=0.02, npixels=5)\n",
    "segmap = deblend_sources(target_data, initsegmap, npixels=5).data\n",
    "fig8, ax8 = plt.subplots(figsize=(8, 8))\n",
    "ax8.imshow(segmap, origin=\"lower\", cmap=\"inferno\")\n",
    "plt.show()"
   ]
  },
  {
   "cell_type": "code",
   "execution_count": null,
   "metadata": {},
   "outputs": [],
   "source": [
    "pixelscale = 0.262\n",
    "target = ap.image.Target_Image(\n",
    "    data=target_data,\n",
    "    pixelscale=pixelscale,\n",
    "    zeropoint=22.5,\n",
    "    variance=np.ones_like(target_data) * np.std(target_data[segmap == 0]) ** 2,\n",
    ")\n",
    "fig2, ax2 = plt.subplots(figsize=(8, 8))\n",
    "ap.plots.target_image(fig2, ax2, target)\n",
    "plt.show()"
   ]
  },
  {
   "cell_type": "markdown",
   "metadata": {},
   "source": [
    "## Group Model\n",
    "\n",
    "A group model takes a list of other AstroPhot_Model objects and tracks them such that they can be treated as a single larger model. When \"initialize\" is called on the group model, it simply calls \"initialize\" on all the individual models. The same is true for a number of other functions. For fitting, however, the group model will collect the parameters from all the models together and pass them along as one group to the optimizer. When saving a group model, all the model states will be collected together into one large file. \n",
    "\n",
    "The main difference when constructing a group model is that you must first create all the sub models that will go in it. Once constructed, a group model behaves just like any other model, in fact they are all built from the same base class. "
   ]
  },
  {
   "cell_type": "code",
   "execution_count": null,
   "metadata": {},
   "outputs": [],
   "source": [
    "# This will convert the segmentation map into boxes that enclose the identified pixels\n",
    "windows = ap.utils.initialize.windows_from_segmentation_map(segmap)\n",
    "# Next we scale up the windows so that AstroPhot can fit the faint parts of each object as well\n",
    "windows = ap.utils.initialize.scale_windows(\n",
    "    windows, image_shape=target_data.shape, expand_scale=1.5, expand_border=10\n",
    ")\n",
    "# Here we get some basic starting parameters for the galaxies (center, position angle, axis ratio)\n",
    "centers = ap.utils.initialize.centroids_from_segmentation_map(segmap, target_data)\n",
    "PAs = ap.utils.initialize.PA_from_segmentation_map(segmap, target_data, centers)\n",
    "qs = ap.utils.initialize.q_from_segmentation_map(segmap, target_data, centers, PAs)"
   ]
  },
  {
   "cell_type": "code",
   "execution_count": null,
   "metadata": {},
   "outputs": [],
   "source": [
    "# Now we use all the windows to add to the list of models\n",
    "seg_models = []\n",
    "for win in windows:\n",
    "    seg_models.append(\n",
    "        ap.models.AstroPhot_Model(\n",
    "            name=f\"object {win:02d}\",\n",
    "            window=windows[win],\n",
    "            model_type=\"sersic galaxy model\",\n",
    "            target=target,\n",
    "            parameters={\n",
    "                \"center\": np.array(centers[win]) * pixelscale,\n",
    "                \"PA\": PAs[win],\n",
    "                \"q\": qs[win],\n",
    "            },\n",
    "        )\n",
    "    )\n",
    "sky = ap.models.AstroPhot_Model(\n",
    "    name=f\"sky level\",\n",
    "    model_type=\"flat sky model\",\n",
    "    target=target,\n",
    ")\n",
    "\n",
    "# We build the group model just like any other, except we pass a list of other models\n",
    "groupmodel = ap.models.AstroPhot_Model(\n",
    "    name=\"group\", models=[sky] + seg_models, target=target, model_type=\"group model\"\n",
    ")\n",
    "\n",
    "groupmodel.initialize()"
   ]
  },
  {
   "cell_type": "code",
   "execution_count": null,
   "metadata": {},
   "outputs": [],
   "source": [
    "fig, ax = plt.subplots(1, 2, figsize=(18, 8))\n",
    "ap.plots.target_image(fig, ax[0], groupmodel.target)\n",
    "ap.plots.model_window(fig, ax[0], groupmodel)\n",
    "ax[0].set_title(\"Sub model fitting windows\")\n",
    "ap.plots.model_image(fig, ax[1], groupmodel)\n",
    "ax[1].set_title(\"auto initialized parameters\")\n",
    "plt.show()"
   ]
  },
  {
   "cell_type": "code",
   "execution_count": null,
   "metadata": {
    "editable": true,
    "slideshow": {
     "slide_type": ""
    },
    "tags": []
   },
   "outputs": [],
   "source": [
    "# This is now a very complex model composed of 9 sub-models! In total 57 parameters!\n",
    "# Here we will limit it to 1 iteration so that it runs quickly. In general you should let it run to convergence\n",
    "result = ap.fit.Iter(groupmodel, verbose=1, max_iter=1).fit()"
   ]
  },
  {
   "cell_type": "code",
   "execution_count": null,
   "metadata": {},
   "outputs": [],
   "source": [
    "# Now we can see what the fitting has produced\n",
    "fig10, ax10 = plt.subplots(1, 2, figsize=(16, 7))\n",
    "ap.plots.model_image(fig10, ax10[0], groupmodel)\n",
    "ap.plots.residual_image(fig10, ax10[1], groupmodel)\n",
    "plt.show()"
   ]
  },
  {
   "cell_type": "markdown",
   "metadata": {},
   "source": [
    "Which is a pretty good fit! We haven't accounted for the PSF yet, so some of the central regions are not very well fit. It is very easy to add a PSF model to AstroPhot for fitting. Check out the Basic PSF Models tutorial for more information."
   ]
  }
 ],
 "metadata": {
  "language_info": {
   "codemirror_mode": {
    "name": "ipython",
    "version": 3
   },
   "file_extension": ".py",
   "mimetype": "text/x-python",
   "name": "python",
   "nbconvert_exporter": "python",
   "pygments_lexer": "ipython3"
  }
 },
 "nbformat": 4,
 "nbformat_minor": 4
}
