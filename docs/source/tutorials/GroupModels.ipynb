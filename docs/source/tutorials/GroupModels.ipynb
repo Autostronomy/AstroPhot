{
 "cells": [
  {
   "cell_type": "markdown",
   "metadata": {},
   "source": [
    "# Group Models\n",
    "\n",
    "Here you will learn how to combine models together into a larger, more complete, model of a given system. This is a powerful and necessary capability when analysing objects in crowded environments. As telescopes achieve ever deeper photometry we have learned that all environments are crowded when projected onto the sky!"
   ]
  },
  {
   "cell_type": "code",
   "execution_count": null,
   "metadata": {},
   "outputs": [],
   "source": [
    "import astrophot as ap\n",
    "import numpy as np\n",
    "import torch\n",
    "from astropy.io import fits\n",
    "import matplotlib.pyplot as plt\n",
    "from scipy.stats import iqr"
   ]
  },
  {
   "cell_type": "code",
   "execution_count": null,
   "metadata": {},
   "outputs": [],
   "source": [
    "# first let's download an image to play with\n",
    "hdu = fits.open(\n",
    "    \"https://www.legacysurvey.org/viewer/fits-cutout?ra=4.5934&dec=30.0702&size=750&layer=ls-dr9&pixscale=0.262&bands=r\"\n",
    ")\n",
    "target_data = np.array(hdu[0].data, dtype=np.float64)\n",
    "\n",
    "target1 = ap.image.Target_Image(\n",
    "    data=target_data,\n",
    "    pixelscale=0.262,\n",
    "    zeropoint=22.5,\n",
    ")\n",
    "\n",
    "fig1, ax1 = plt.subplots(figsize=(8, 8))\n",
    "ap.plots.target_image(fig1, ax1, target1)\n",
    "plt.show()"
   ]
  },
  {
   "cell_type": "code",
   "execution_count": null,
   "metadata": {},
   "outputs": [],
   "source": [
    "# We can see that there are some blown out stars in the image. There isn't much that can be done with them except\n",
    "# to mask them. A very careful modeller would only mask the blown out pixels and then try to fit the rest, but\n",
    "# today we are not very careful modellers.\n",
    "mask = np.zeros(target_data.shape, dtype=bool)\n",
    "mask[410:445, 371:402] = True\n",
    "mask[296:357, 151:206] = True\n",
    "mask[558:590, 291:322] = True\n",
    "# Note that it is also possible to set a mask just for an individual model. Simply create a mask in the same way as\n",
    "# above. Just note that the mask should have the same shape as the model window instead of the whole image.\n",
    "\n",
    "pixelscale = 0.262\n",
    "target2 = ap.image.Target_Image(\n",
    "    data=target_data,\n",
    "    pixelscale=pixelscale,\n",
    "    zeropoint=22.5,\n",
    "    mask=mask,  # now the target image has a mask of bad pixels\n",
    "    variance=0.001\n",
    "    * np.abs(\n",
    "        target_data + iqr(target_data, rng=[16, 84]) / 2\n",
    "    ),  # we create a variance image, if the image is in counts then variance image = image, in this case the sky has been subtracted so we add back in a certain amount of variance\n",
    ")\n",
    "\n",
    "fig2, ax2 = plt.subplots(figsize=(8, 8))\n",
    "ap.plots.target_image(fig2, ax2, target2)\n",
    "plt.show()"
   ]
  },
  {
   "cell_type": "markdown",
   "metadata": {},
   "source": [
    "## Group Model\n",
    "\n",
    "A group model takes a list of other AstroPhot_Model objects and tracks them such that they can be treated as a single larger model. When \"initialize\" is called on the group model, it simply calls \"initialize\" on all the individual models. The same is true for a number of other functions like finalize, sample, and so on. For fitting, however, the group model will collect the parameters from all the models together and pass them along as one group to the optimizer. When saving a group model, all the model states will be collected together into one large file. \n",
    "\n",
    "The main difference when constructing a group model is that you must first create all the sub models that will go in it. Once constructed, a group model behaves just like any other model, in fact they are all built from the same base class. "
   ]
  },
  {
   "cell_type": "code",
   "execution_count": null,
   "metadata": {},
   "outputs": [],
   "source": [
    "# first we make the list of models to fit\n",
    "\n",
    "# Note that we do not assign a target to these models at construction. This is just a choice of style, it is possible\n",
    "# to provide the target to each model separately if you wish. Note as well that since a target isn't provided we need\n",
    "# to give the windows in arcsec instead of pixels, to do this we provide the window in the format (xmin,xmax,ymin,ymax)\n",
    "model_kwargs = [\n",
    "    {\"name\": \"sky\", \"model_type\": \"flat sky model\", \"window\": [[0, 750], [0, 750]]},\n",
    "    {\"name\": \"NGC0070\", \"model_type\": \"spline galaxy model\", \"window\": [[133, 581], [229, 744]]},\n",
    "    {\"name\": \"NGC0071\", \"model_type\": \"spline galaxy model\", \"window\": [[43, 622], [72, 513]]},\n",
    "    {\"name\": \"NGC0068\", \"model_type\": \"spline galaxy model\", \"window\": [[390, 726], [204, 607]]},\n",
    "]\n",
    "\n",
    "model_list = []\n",
    "for M in model_kwargs:\n",
    "    model_list.append(ap.models.AstroPhot_Model(target=target2, **M))\n",
    "\n",
    "VV166Group = ap.models.AstroPhot_Model(\n",
    "    name=\"VV166 Group\", model_type=\"group model\", models=model_list, target=target2\n",
    ")\n",
    "\n",
    "fig3, ax3 = plt.subplots(figsize=(8, 8))\n",
    "ap.plots.target_image(fig3, ax3, VV166Group.target)\n",
    "ap.plots.model_window(fig3, ax3, VV166Group)\n",
    "plt.show()"
   ]
  },
  {
   "cell_type": "code",
   "execution_count": null,
   "metadata": {},
   "outputs": [],
   "source": [
    "# See if AstroPhot can figure out starting parameters for these galaxies\n",
    "VV166Group.initialize()\n",
    "\n",
    "# The results are reasonable starting points, though far from a good model\n",
    "fig4, ax4 = plt.subplots(1, 2, figsize=(16, 7))\n",
    "ap.plots.model_image(fig4, ax4[0], VV166Group)\n",
    "for M in VV166Group.models.values():\n",
    "    if M.name == \"sky\":\n",
    "        continue\n",
    "    ap.plots.radial_light_profile(fig4, ax4[1], M)\n",
    "plt.legend()\n",
    "plt.show()"
   ]
  },
  {
   "cell_type": "code",
   "execution_count": null,
   "metadata": {},
   "outputs": [],
   "source": [
    "# Allow AstroPhot to fit the target image with all 3 models simultaneously. In total this is about 80 parameters!\n",
    "result = ap.fit.LM(VV166Group, verbose=1).fit()\n",
    "print(result.message)"
   ]
  },
  {
   "cell_type": "code",
   "execution_count": null,
   "metadata": {},
   "outputs": [],
   "source": [
    "# Now we can see what the fitting has produced\n",
    "fig5, ax5 = plt.subplots(1, 3, figsize=(17, 5))\n",
    "ap.plots.model_image(fig5, ax5[0], VV166Group)\n",
    "for M in VV166Group.models.values():\n",
    "    if M.name == \"sky\":\n",
    "        continue\n",
    "    ap.plots.radial_light_profile(fig5, ax5[1], M)\n",
    "    ap.plots.radial_median_profile(fig5, ax5[1], M)\n",
    "ax5[1].legend()\n",
    "ap.plots.residual_image(fig5, ax5[2], VV166Group)\n",
    "plt.show()\n",
    "\n",
    "# we can also see that the data profiles which just take a median for all pixels at a given radius are no longer\n",
    "# helpful when we have overlapping systems. The medians are biased high by the neighboring galaxies"
   ]
  },
  {
   "cell_type": "code",
   "execution_count": null,
   "metadata": {},
   "outputs": [],
   "source": [
    "# To access parameters in a group model you use the same syntax as usual, but with the model name as well:\n",
    "print(VV166Group[\"NGC0070:PA\"])\n",
    "print(VV166Group[\"NGC0071:PA\"])"
   ]
  },
  {
   "cell_type": "code",
   "execution_count": null,
   "metadata": {},
   "outputs": [],
   "source": [
    "# The model will improve the more galaxies in the system we include\n",
    "# By adding models now, we keep the fitted parameters from before.\n",
    "VV166Group.add_model(\n",
    "    ap.models.AstroPhot_Model(\n",
    "        name=\"little 1\",\n",
    "        model_type=\"sersic galaxy model\",\n",
    "        target=target2,\n",
    "        window=[[325, 400], [295, 386]],\n",
    "    )\n",
    ")\n",
    "VV166Group.add_model(\n",
    "    ap.models.AstroPhot_Model(\n",
    "        name=\"little 2\",\n",
    "        model_type=\"sersic galaxy model\",\n",
    "        target=target2,\n",
    "        window=[[412, 504], [127, 231]],\n",
    "    )\n",
    ")\n",
    "VV166Group.add_model(\n",
    "    ap.models.AstroPhot_Model(\n",
    "        name=\"little 3\",\n",
    "        model_type=\"sersic galaxy model\",\n",
    "        target=target2,\n",
    "        window=[[214, 288], [583, 662]],\n",
    "    )\n",
    ")"
   ]
  },
  {
   "cell_type": "code",
   "execution_count": null,
   "metadata": {},
   "outputs": [],
   "source": [
    "fig6, ax6 = plt.subplots(figsize=(8, 8))\n",
    "ap.plots.target_image(fig6, ax6, VV166Group.target)\n",
    "ap.plots.model_window(fig6, ax6, VV166Group)\n",
    "plt.show()"
   ]
  },
  {
   "cell_type": "code",
   "execution_count": null,
   "metadata": {},
   "outputs": [],
   "source": [
    "# Initialize will only set parameter values for the new models, the old ones will just be skipped\n",
    "VV166Group.initialize()"
   ]
  },
  {
   "cell_type": "code",
   "execution_count": null,
   "metadata": {},
   "outputs": [],
   "source": [
    "result = ap.fit.LM(VV166Group, verbose=1).fit()\n",
    "print(result.message)"
   ]
  },
  {
   "cell_type": "code",
   "execution_count": null,
   "metadata": {},
   "outputs": [],
   "source": [
    "# Now we can see what the fitting has produced\n",
    "fig7, ax7 = plt.subplots(1, 3, figsize=(17, 5))\n",
    "ap.plots.model_image(fig7, ax7[0], VV166Group)\n",
    "# let's just plot the 3 main object profiles\n",
    "for M in VV166Group.models.values():\n",
    "    if not \"NGC\" in M.name:\n",
    "        continue\n",
    "    ap.plots.radial_light_profile(fig7, ax7[1], M)\n",
    "ax7[1].legend()\n",
    "ax7[1].set_ylim([27, 15])\n",
    "ap.plots.residual_image(fig7, ax7[2], VV166Group)\n",
    "plt.show()"
   ]
  },
  {
   "cell_type": "markdown",
   "metadata": {},
   "source": [
    "Which is even better than before. As more models are added, the fit should improve. In principle one could model eventually add models for every little smudge in the image. In practice, it is often better to just mask anything below a certain size. "
   ]
  },
  {
   "cell_type": "markdown",
   "metadata": {},
   "source": [
    "## Working with segmentation maps\n",
    "\n",
    "A segmentation map provides information about the contents of an image. It gives the location and shape of any object which the algorithm was able to separate out and identify. This is exactly the information needed to construct the windows for a collection of AstroPhot models.\n",
    "\n",
    "Photutils provides an easy to use segmentation map implementation so we use it here for simplicity. In many cases it may be required to use a more detailed segmentation map algorithm such as those implemented in Source Extractor and ProFound (among others), the principle is the same however since the end product for all of them has the same format."
   ]
  },
  {
   "cell_type": "code",
   "execution_count": null,
   "metadata": {},
   "outputs": [],
   "source": [
    "#########################################\n",
    "# NOTE: photutils is not a dependency of AstroPhot, make sure you run: pip install photutils\n",
    "# if you dont already have that package. Also note that you can use any segmentation map\n",
    "# code, we just use photutils here because it is very easy.\n",
    "#########################################\n",
    "from photutils.segmentation import detect_sources\n",
    "\n",
    "segmap = detect_sources(\n",
    "    target_data, threshold=0.1, npixels=20, mask=mask\n",
    ")  # threshold and npixels determined just by playing around with the values\n",
    "fig8, ax8 = plt.subplots(figsize=(8, 8))\n",
    "ax8.imshow(segmap, origin=\"lower\")\n",
    "plt.show()"
   ]
  },
  {
   "cell_type": "code",
   "execution_count": null,
   "metadata": {},
   "outputs": [],
   "source": [
    "# This will convert the segmentation map into boxes that enclose the identified pixels\n",
    "windows = ap.utils.initialize.windows_from_segmentation_map(segmap.data)\n",
    "# Next we filter out any segments which are too big, these are the NGC models we already have set up\n",
    "windows = ap.utils.initialize.filter_windows(windows, max_size=100)\n",
    "# Next we scale up the windows so that AstroPhot can fit the faint parts of each object as well\n",
    "windows = ap.utils.initialize.scale_windows(\n",
    "    windows, image_shape=target_data.shape, expand_scale=3, expand_border=10\n",
    ")\n",
    "\n",
    "del windows[20]  # this is a segmented chunk of spiral arm, not a galaxy\n",
    "del windows[23]  # this is a segmented chunk of spiral arm, not a galaxy\n",
    "del windows[24]  # this is a segmented chunk of spiral arm, not a galaxy\n",
    "del windows[28]  # this is a segmented chunk of spiral arm, not a galaxy\n",
    "del windows[29]  # this is a repeat of little 2\n",
    "del windows[7]  # this is a repeat of little 3\n",
    "print(windows)"
   ]
  },
  {
   "cell_type": "code",
   "execution_count": null,
   "metadata": {},
   "outputs": [],
   "source": [
    "# Now we use all the windows to add to the list of models\n",
    "seg_models = []\n",
    "for win in windows:\n",
    "    seg_models.append(\n",
    "        {\n",
    "            \"name\": f\"minor object {win:02d}\",\n",
    "            \"window\": windows[win],\n",
    "            \"model_type\": \"sersic galaxy model\",\n",
    "            \"target\": target2,\n",
    "        }\n",
    "    )\n",
    "\n",
    "# we make a new set of models for simplicity\n",
    "for M in seg_models:\n",
    "    VV166Group.add_model(ap.models.AstroPhot_Model(**M))\n",
    "\n",
    "VV166Group.initialize()"
   ]
  },
  {
   "cell_type": "code",
   "execution_count": null,
   "metadata": {},
   "outputs": [],
   "source": [
    "fig9, ax9 = plt.subplots(figsize=(8, 8))\n",
    "ap.plots.target_image(fig9, ax9, VV166Group.target)\n",
    "ap.plots.model_window(fig9, ax9, VV166Group)\n",
    "plt.show()"
   ]
  },
  {
   "cell_type": "code",
   "execution_count": null,
   "metadata": {},
   "outputs": [],
   "source": [
    "# This is now a very complex model composed of about 30 sub-models! In total 253 parameters! While it is\n",
    "# possible for the AstroPhot Levenberg-Marquardt (LM) algorithm to fully optimize this model, it is faster in this\n",
    "# case to apply an iterative fit. AstroPhot will apply LM optimization one model at a time and cycle through all\n",
    "# the models until the results converge. See the tutorial on AstroPhot fitting for more details on the fit methods.\n",
    "result = ap.fit.Iter(VV166Group, verbose=1, method_kwargs={\"max_iter\": 5}).fit()\n",
    "print(result.message)\n",
    "\n",
    "# Other technqiues that can help for difficult fits:\n",
    "# - Try running some gradient descent steps (maybe 100) before doing LM\n",
    "# - Try changing the initial parameters. AstroPhot seeks a local minimum so make sure its the right one!\n",
    "# - Fit the large models in the frame first, then add in the smaller ones (that's what we've done in this tutorial)\n",
    "# - Fit a simpler model (say a sersic or exponential instead of spline) first, then use that to initialize the complex model\n",
    "# - Mix and match optimizers, if one gets stuck another may be better suited for that area of parameter space"
   ]
  },
  {
   "cell_type": "code",
   "execution_count": null,
   "metadata": {},
   "outputs": [],
   "source": [
    "# Indeed the fit converges successfully! These tricks are really useful for complex fits.\n",
    "\n",
    "# Now we can see what the fitting has produced\n",
    "fig10, ax10 = plt.subplots(1, 2, figsize=(16, 7))\n",
    "ap.plots.model_image(fig10, ax10[0], VV166Group)\n",
    "ap.plots.residual_image(fig10, ax10[1], VV166Group)\n",
    "plt.show()"
   ]
  },
  {
   "cell_type": "markdown",
   "metadata": {},
   "source": [
    "Now that's starting to look like a complete model, and the Chi^2/ndf is much lower! And all for very little effort considering the level of detail. Looking at the residuals there is a clear improvement from the other attempts, that said there is a lot of structure in the residuals around the small objects, suggesting that a sersic alone is not the best model for these galaxies. That's not too surprising, at the very least we should apply PSF convolution to the models to get the proper blurring. PSF convolution is very slow though, so it would be best to do on a GPU, which you can try out if you have access to one! Simply set psf_mode = \"full\" and run fit again. For now though, we'll forgo the PSF convolution in the interest of time."
   ]
  },
  {
   "cell_type": "code",
   "execution_count": null,
   "metadata": {},
   "outputs": [],
   "source": [
    "# and we can also take a look at the three main object profiles\n",
    "\n",
    "fig8, ax8 = plt.subplots(figsize=(8, 8))\n",
    "# let's just plot the 3 main object profiles\n",
    "for M in VV166Group.models.values():\n",
    "    if not \"NGC\" in M.name:\n",
    "        continue\n",
    "    ap.plots.radial_light_profile(fig8, ax8, M)\n",
    "ax8.legend()\n",
    "ax8.set_ylim([26, 16])\n",
    "plt.show()"
   ]
  },
  {
   "cell_type": "code",
   "execution_count": null,
   "metadata": {},
   "outputs": [],
   "source": []
  }
 ],
 "metadata": {
  "language_info": {
   "codemirror_mode": {
    "name": "ipython",
    "version": 3
   },
   "file_extension": ".py",
   "mimetype": "text/x-python",
   "name": "python",
   "nbconvert_exporter": "python",
   "pygments_lexer": "ipython3"
  }
 },
 "nbformat": 4,
 "nbformat_minor": 4
}
