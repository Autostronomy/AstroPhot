{
 "cells": [
  {
   "cell_type": "code",
   "execution_count": null,
   "metadata": {},
   "outputs": [],
   "source": [
    "import astrophot as ap\n",
    "import numpy as np\n",
    "import torch\n",
    "from astropy.io import fits\n",
    "import matplotlib.pyplot as plt\n",
    "\n",
    "%matplotlib inline"
   ]
  },
  {
   "cell_type": "markdown",
   "metadata": {},
   "source": [
    "# Modelling Point Sources"
   ]
  },
  {
   "cell_type": "markdown",
   "metadata": {},
   "source": [
    "## Making a PSF model\n",
    "\n",
    "Before we can optimize a PSF model, we need to make the model and get some starting parameters. If you already have a good guess at some starting parameters then you can just enter them yourself, however if you don't then AstroPhot provides another option; if you have an empirical PSF estimate (a stack of a few stars from the field), then you can have a PSF model initialize itself on the empirical PSF just like how other AstroPhot models can initialize themselves on target images. Let's see how that works!"
   ]
  },
  {
   "cell_type": "code",
   "execution_count": null,
   "metadata": {},
   "outputs": [],
   "source": [
    "# First make a mock empirical PSF image\n",
    "# np.random.seed(124)\n",
    "psf = ap.utils.initialize.moffat_psf(2.0, 3.0, 101, 0.5)\n",
    "variance = psf**2 / 100\n",
    "psf += np.random.normal(scale=np.sqrt(variance))\n",
    "# psf[psf < 0] = 0 #ap.utils.initialize.moffat_psf(2.0, 3.0, 101, 0.5)[psf < 0]\n",
    "\n",
    "psf_target = ap.image.PSF_Image(\n",
    "    data=psf,\n",
    "    pixelscale=0.5,\n",
    ")\n",
    "\n",
    "# To ensure the PSF has a normalized flux of 1, we call\n",
    "psf_target.normalize()\n",
    "\n",
    "fig, ax = plt.subplots()\n",
    "ap.plots.psf_image(fig, ax, psf_target)\n",
    "ax.set_title(\"mock empirical PSF\")\n",
    "plt.show()"
   ]
  },
  {
   "cell_type": "code",
   "execution_count": null,
   "metadata": {},
   "outputs": [],
   "source": [
    "# Now we initialize on the image\n",
    "psf_model = ap.models.AstroPhot_Model(\n",
    "    name=\"init psf\",\n",
    "    model_type=\"moffat psf model\",\n",
    "    target=psf_target,\n",
    ")\n",
    "\n",
    "psf_model.initialize()\n",
    "\n",
    "# PSF model can be fit to it's own target for good initial values\n",
    "# Note we provide the weight map (1/variance) since a PSF_Image can't store that information.\n",
    "ap.fit.LM(psf_model, verbose=1, W=1 / variance).fit()\n",
    "\n",
    "fig, ax = plt.subplots(1, 2, figsize=(13, 5))\n",
    "ap.plots.psf_image(fig, ax[0], psf_model)\n",
    "ax[0].set_title(\"PSF model fit to mock empirical PSF\")\n",
    "ap.plots.residual_image(fig, ax[1], psf_model, normalize_residuals=torch.tensor(variance))\n",
    "ax[1].set_title(\"residuals\")\n",
    "plt.show()"
   ]
  },
  {
   "cell_type": "markdown",
   "metadata": {},
   "source": [
    "That's pretty good! It doesn't need to be perfect, so this is already in the right ballpark, just based on the size of the main light concentration. For the examples below, we will just start with some simple given initial parameters, but for real analysis this is quite handy."
   ]
  },
  {
   "cell_type": "markdown",
   "metadata": {},
   "source": [
    "## Fitting to Multiple Stars"
   ]
  },
  {
   "cell_type": "markdown",
   "metadata": {},
   "source": [
    "## Multi-Component PSF Models (`psf group model`)\n",
    "\n",
    "Often when you really look at the data, a single ``moffat psf model`` won't quite cut it for accuracy, but it is very close. You may be able to get a better fit by combining psf models just like how you combine other models to handle an astronomical image. Here we will go over a basic example of producing a ``psf group model`` to see how it works."
   ]
  },
  {
   "cell_type": "code",
   "execution_count": null,
   "metadata": {},
   "outputs": [],
   "source": [
    "# First make a mock empirical PSF image\n",
    "np.random.seed(124)\n",
    "pixelscale = 1.0\n",
    "psf1 = ap.utils.initialize.moffat_psf(1.0, 4.0, 101, pixelscale, normalize=False)\n",
    "psf2 = ap.utils.initialize.moffat_psf(3.0, 2.0, 101, pixelscale, normalize=False)\n",
    "psf = psf1 + 0.5 * psf2\n",
    "psf /= psf.sum()\n",
    "star = psf * 10  # flux of 10\n",
    "variance = star / 1e5\n",
    "star += np.random.normal(scale=np.sqrt(variance))\n",
    "\n",
    "psf_target2 = ap.image.PSF_Image(\n",
    "    data=star.copy() / star.sum(),  # empirical PSF from cutout\n",
    "    pixelscale=pixelscale,\n",
    ")\n",
    "psf_target2.normalize()\n",
    "\n",
    "point_target = ap.image.Target_Image(\n",
    "    data=star,  # cutout of star\n",
    "    pixelscale=pixelscale,\n",
    "    variance=variance,\n",
    ")\n",
    "\n",
    "fig, ax = plt.subplots()\n",
    "ap.plots.psf_image(fig, ax, psf_target2)\n",
    "ax.set_title(\"mock empirical two component PSF\")\n",
    "plt.show()"
   ]
  },
  {
   "cell_type": "code",
   "execution_count": null,
   "metadata": {},
   "outputs": [],
   "source": [
    "# Here we build a multi component PSF model\n",
    "\n",
    "moffat_component1 = ap.models.AstroPhot_Model(\n",
    "    name=\"psf part1\",\n",
    "    model_type=\"moffat psf model\",\n",
    "    target=psf_target2,\n",
    "    parameters={\n",
    "        \"n\": 1.5,\n",
    "        \"Rd\": 4.5,\n",
    "        \"I0\": {\"value\": -3.0, \"locked\": False},\n",
    "    },\n",
    "    normalize_psf=False,\n",
    ")\n",
    "\n",
    "moffat_component2 = ap.models.AstroPhot_Model(\n",
    "    name=\"psf part2\",\n",
    "    model_type=\"moffat psf model\",\n",
    "    target=psf_target2,\n",
    "    parameters={\n",
    "        \"n\": 2.6,\n",
    "        \"Rd\": 1.7,\n",
    "        \"I0\": {\"value\": -2.3, \"locked\": False},\n",
    "    },\n",
    "    normalize_psf=False,\n",
    ")\n",
    "\n",
    "full_psf_model = ap.models.AstroPhot_Model(\n",
    "    name=\"full psf\",\n",
    "    model_type=\"psf group model\",\n",
    "    target=psf_target2,\n",
    "    models=[moffat_component1, moffat_component2],\n",
    "    normalize_psf=True,\n",
    ")\n",
    "full_psf_model.initialize()\n",
    "\n",
    "fig, ax = plt.subplots(1, 2, figsize=(13, 5))\n",
    "ap.plots.psf_image(fig, ax[0], full_psf_model)\n",
    "ax[0].set_title(\"PSF model initialization\")\n",
    "ap.plots.residual_image(fig, ax[1], full_psf_model, normalize_residuals=torch.tensor(variance))\n",
    "ax[1].set_title(\"initial residuals\")\n",
    "plt.show()"
   ]
  },
  {
   "cell_type": "markdown",
   "metadata": {},
   "source": [
    "Using a star cutout (or multiple cutouts like above) is the best way to fit a PSF model. In this case you are fitting a `point model` with a live PSF model. "
   ]
  },
  {
   "cell_type": "code",
   "execution_count": null,
   "metadata": {},
   "outputs": [],
   "source": [
    "# Here we build the point model which has a live PSF model\n",
    "\n",
    "target = ap.image.Target_Image(\n",
    "    data=psf,\n",
    "    pixelscale=1.0,\n",
    "    variance=variance,\n",
    ")\n",
    "model = ap.models.AstroPhot_Model(\n",
    "    name=\"star\",\n",
    "    model_type=\"point model\",\n",
    "    target=point_target,\n",
    "    psf=full_psf_model,\n",
    ")\n",
    "model.initialize()"
   ]
  },
  {
   "cell_type": "code",
   "execution_count": null,
   "metadata": {},
   "outputs": [],
   "source": [
    "ap.fit.LM(model, verbose=1).fit()\n",
    "print(model)\n",
    "fig, ax = plt.subplots(1, 2, figsize=(13, 5))\n",
    "ap.plots.psf_image(fig, ax[0], full_psf_model)\n",
    "ax[0].set_title(\"PSF model fit to mock empirical PSF\")\n",
    "ap.plots.residual_image(fig, ax[1], full_psf_model, normalize_residuals=torch.tensor(variance))\n",
    "ax[1].set_title(\"residuals\")\n",
    "plt.show()"
   ]
  },
  {
   "cell_type": "code",
   "execution_count": null,
   "metadata": {},
   "outputs": [],
   "source": []
  }
 ],
 "metadata": {
  "language_info": {
   "codemirror_mode": {
    "name": "ipython",
    "version": 3
   },
   "file_extension": ".py",
   "mimetype": "text/x-python",
   "name": "python",
   "nbconvert_exporter": "python",
   "pygments_lexer": "ipython3"
  }
 },
 "nbformat": 4,
 "nbformat_minor": 2
}
