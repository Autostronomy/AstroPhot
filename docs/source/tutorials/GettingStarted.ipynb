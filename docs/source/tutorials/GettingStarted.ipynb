{
 "cells": [
  {
   "cell_type": "markdown",
   "metadata": {},
   "source": [
    "# Getting Started with AstroPhot\n",
    "\n",
    "In this notebook you will walk through the very basics of AstroPhot functionality. Here you will learn how to make models; how to set them up for fitting; and how to view the results. These core elements will come up every time you use AstroPhot, though in future notebooks you will learn how to take advantage of the advanced features in AstroPhot."
   ]
  },
  {
   "cell_type": "code",
   "execution_count": null,
   "metadata": {},
   "outputs": [],
   "source": [
    "%load_ext autoreload\n",
    "%autoreload 2\n",
    "\n",
    "import astrophot as ap\n",
    "import numpy as np\n",
    "import torch\n",
    "from astropy.io import fits\n",
    "from astropy.wcs import WCS\n",
    "import matplotlib.pyplot as plt\n",
    "\n",
    "%matplotlib inline"
   ]
  },
  {
   "cell_type": "markdown",
   "metadata": {},
   "source": [
    "## Your first model\n",
    "\n",
    "The basic format for making an AstroPhot model is given below. Once a model object is constructed, it can be manipulated and updated in various ways."
   ]
  },
  {
   "cell_type": "code",
   "execution_count": null,
   "metadata": {},
   "outputs": [],
   "source": [
    "model1 = ap.models.Model(\n",
    "    name=\"model1\",  # every model must have a unique name\n",
    "    model_type=\"sersic galaxy model\",  # this specifies the kind of model\n",
    "    center=[50, 50],  # here we set initial values for each parameter\n",
    "    q=0.6,\n",
    "    PA=60 * np.pi / 180,\n",
    "    n=2,\n",
    "    Re=10,\n",
    "    logIe=1,\n",
    "    target=ap.image.TargetImage(\n",
    "        data=np.zeros((100, 100)), zeropoint=22.5, pixelscale=1.0\n",
    "    ),  # every model needs a target, more on this later\n",
    ")\n",
    "model1.initialize()  # before using the model it is good practice to call initialize so the model can get itself ready\n",
    "\n",
    "# We can print the model's current state\n",
    "print(model1)"
   ]
  },
  {
   "cell_type": "code",
   "execution_count": null,
   "metadata": {},
   "outputs": [],
   "source": [
    "# AstroPhot has built in methods to plot relevant information. We didn't specify the region on the sky for\n",
    "# this model to focus on, so we just made a 100x100 window. Unless you are very lucky this won't\n",
    "# line up with what you're trying to fit, so next we'll see how to give the model a target.\n",
    "fig, ax = plt.subplots(figsize=(8, 7))\n",
    "ap.plots.model_image(fig, ax, model1)\n",
    "plt.show()"
   ]
  },
  {
   "cell_type": "markdown",
   "metadata": {},
   "source": [
    "## Giving the model a Target\n",
    "\n",
    "Typically, the main goal when constructing an AstroPhot model is to fit to an image. We need to give the model access to the image and some information about it to get started."
   ]
  },
  {
   "cell_type": "code",
   "execution_count": null,
   "metadata": {},
   "outputs": [],
   "source": [
    "# first let's download an image to play with\n",
    "hdu = fits.open(\n",
    "    \"https://www.legacysurvey.org/viewer/fits-cutout?ra=36.3684&dec=-25.6389&size=700&layer=ls-dr9&pixscale=0.262&bands=r\"\n",
    ")\n",
    "target_data = np.array(hdu[0].data, dtype=np.float64)\n",
    "plt.imshow(\n",
    "    target_data,\n",
    "    origin=\"lower\",\n",
    "    cmap=\"gray_r\",\n",
    "    vmin=np.percentile(target_data, 1),\n",
    "    vmax=np.percentile(target_data, 99),\n",
    ")\n",
    "plt.colorbar()\n",
    "plt.title(\"Target Image\")\n",
    "\n",
    "\n",
    "# Create a target object with specified pixelscale and zeropoint\n",
    "target = ap.image.TargetImage(\n",
    "    data=target_data,\n",
    "    pixelscale=0.262,  # Every target image needs to know it's pixelscale in arcsec/pixel\n",
    "    zeropoint=22.5,  # optionally, you can give a zeropoint to tell AstroPhot what the pixel flux units are\n",
    "    variance=\"auto\",  # Automatic variance estimate for testing and demo purposes, in real analysis use weight maps, counts, gain, etc to compute variance!\n",
    ")\n",
    "i, j = target.pixel_center_meshgrid()\n",
    "print(torch.all(torch.tensor(target_data) == target_data[i.int(), j.int()]))\n",
    "\n",
    "# The default AstroPhot target plotting method uses log scaling in bright areas and histogram scaling in faint areas\n",
    "fig3, ax3 = plt.subplots(figsize=(8, 8))\n",
    "ap.plots.target_image(fig3, ax3, target)\n",
    "plt.show()"
   ]
  },
  {
   "cell_type": "code",
   "execution_count": null,
   "metadata": {},
   "outputs": [],
   "source": [
    "# This model now has a target that it will attempt to match\n",
    "model2 = ap.models.Model(\n",
    "    name=\"model with target\",\n",
    "    model_type=\"sersic galaxy model\",  # feel free to swap out sersic with other profile types\n",
    "    target=target,  # now the model knows what its trying to match\n",
    ")\n",
    "\n",
    "# Instead of giving initial values for all the parameters, it is possible to simply call \"initialize\" and AstroPhot\n",
    "# will try to guess initial values for every parameter assuming the galaxy is roughly centered. It is also possible\n",
    "# to set just a few parameters and let AstroPhot try to figure out the rest. For example you could give it an initial\n",
    "# Guess for the center and it will work from there.\n",
    "model2.initialize()\n",
    "\n",
    "# Plotting the initial parameters and residuals, we see it gets the rough shape of the galaxy right, but still has some fitting to do\n",
    "fig4, ax4 = plt.subplots(1, 2, figsize=(16, 6))\n",
    "ap.plots.model_image(fig4, ax4[0], model2)\n",
    "ap.plots.residual_image(fig4, ax4[1], model2)\n",
    "plt.show()"
   ]
  },
  {
   "cell_type": "code",
   "execution_count": null,
   "metadata": {},
   "outputs": [],
   "source": [
    "# Now that the model has been set up with a target and initialized with parameter values, it is time to fit the image\n",
    "result = ap.fit.LM(model2, verbose=1).fit()\n",
    "\n",
    "# See that we use ap.fit.LM, this is the Levenberg-Marquardt Chi^2 minimization method, it is the recommended technique\n",
    "# for most least-squares problems. However, there are situations in which different optimizers may be more desirable\n",
    "# so the ap.fit package includes a few options to pick from. The various fitting methods will be described in a\n",
    "# different tutorial.\n",
    "print(\"Fit message:\", result.message)  # the fitter will return a message about its convergence"
   ]
  },
  {
   "cell_type": "code",
   "execution_count": null,
   "metadata": {},
   "outputs": [],
   "source": [
    "print(model2)\n",
    "# we now plot the fitted model and the image residuals\n",
    "fig5, ax5 = plt.subplots(1, 2, figsize=(16, 6))\n",
    "ap.plots.model_image(fig5, ax5[0], model2)\n",
    "ap.plots.residual_image(fig5, ax5[1], model2, normalize_residuals=True)\n",
    "plt.show()"
   ]
  },
  {
   "cell_type": "code",
   "execution_count": null,
   "metadata": {},
   "outputs": [],
   "source": [
    "# Plot surface brightness profile\n",
    "\n",
    "# we now plot the model profile and a data profile. The model profile is determined from the model parameters\n",
    "# the data profile is determined by taking the median of pixel values at a given radius. Notice that the model\n",
    "# profile is slightly higher than the data profile? This is because there are other objects in the image which\n",
    "# are not being modelled, the data profile uses a median so they are ignored, but for the model we fit all pixels.\n",
    "fig10, ax10 = plt.subplots(figsize=(8, 8))\n",
    "ap.plots.radial_light_profile(fig10, ax10, model2)\n",
    "ap.plots.radial_median_profile(fig10, ax10, model2)\n",
    "plt.show()"
   ]
  },
  {
   "cell_type": "markdown",
   "metadata": {},
   "source": [
    "## Update uncertainty estimates\n",
    "\n",
    "After running a fit, the `ap.fit.LM` optimizer can update the uncertainty for each parameter. In fact it can return the full covariance matrix if needed. For a demo of what can be done with the covariance matrix see the `FittingMethods` tutorial. One important note is that the variance image needs to be correct for the uncertainties to be meaningful!"
   ]
  },
  {
   "cell_type": "code",
   "execution_count": null,
   "metadata": {},
   "outputs": [],
   "source": [
    "result.update_uncertainty()\n",
    "print(model2)"
   ]
  },
  {
   "cell_type": "markdown",
   "metadata": {},
   "source": [
    "Note that these uncertainties are pure statistical uncertainties that come from evaluating the structure of the $\\chi^2$ minimum. Systematic uncertainties are not included and these often significantly outweigh the standard errors. As can be seen in the residual plot above, there is certainly plenty of unmodelled structure there. Use caution when interpreting the errors from these fits."
   ]
  },
  {
   "cell_type": "code",
   "execution_count": null,
   "metadata": {},
   "outputs": [],
   "source": [
    "# Plot the uncertainty matrix\n",
    "\n",
    "# While the scale of the uncertainty may not be meaningful if the image variance is not accurate, we\n",
    "# can still see how the covariance of the parameters plays out in a given fit.\n",
    "fig, ax = ap.plots.covariance_matrix(\n",
    "    result.covariance_matrix.detach().cpu().numpy(),\n",
    "    model2.build_params_array().detach().cpu().numpy(),\n",
    "    model2.build_params_array_names(),\n",
    ")\n",
    "plt.show()"
   ]
  },
  {
   "cell_type": "markdown",
   "metadata": {},
   "source": [
    "## Giving the model a specific target window\n",
    "\n",
    "Sometimes an object isn't nicely centered in the image, and may not even be the dominant object in the image. It is therefore nice to be able to specify what part of the image we should analyze."
   ]
  },
  {
   "cell_type": "code",
   "execution_count": null,
   "metadata": {},
   "outputs": [],
   "source": [
    "# note, we don't provide a name here. A unique name will automatically be generated using the model type\n",
    "model3 = ap.models.Model(\n",
    "    model_type=\"sersic galaxy model\",\n",
    "    target=target,\n",
    "    window=[555, 665, 480, 595],  # this is a region in pixel coordinates (imin,imax,jmin,jmax)\n",
    ")\n",
    "\n",
    "print(f\"automatically generated name: '{model3.name}'\")\n",
    "\n",
    "# We can plot the \"model window\" to show us what part of the image will be analyzed by that model\n",
    "fig6, ax6 = plt.subplots(figsize=(8, 8))\n",
    "ap.plots.target_image(fig6, ax6, model3.target)\n",
    "ap.plots.model_window(fig6, ax6, model3)\n",
    "plt.show()"
   ]
  },
  {
   "cell_type": "code",
   "execution_count": null,
   "metadata": {},
   "outputs": [],
   "source": [
    "model3.initialize()\n",
    "result = ap.fit.LM(model3, verbose=1).fit()"
   ]
  },
  {
   "cell_type": "code",
   "execution_count": null,
   "metadata": {},
   "outputs": [],
   "source": [
    "# Note that when only a window is fit, the default plotting methods will only show that window\n",
    "print(model3)\n",
    "fig7, ax7 = plt.subplots(1, 2, figsize=(16, 6))\n",
    "ap.plots.model_image(fig7, ax7[0], model3)\n",
    "ap.plots.residual_image(fig7, ax7[1], model3, normalize_residuals=True)\n",
    "plt.show()"
   ]
  },
  {
   "cell_type": "markdown",
   "metadata": {},
   "source": [
    "## Setting parameter constraints\n",
    "\n",
    "A common feature of fitting parameters is that they have some constraint on their behaviour and cannot be sampled at any value from (-inf, inf). AstroPhot circumvents this by remapping any constrained parameter to a space where it can take any real value, at least for the sake of fitting. For most parameters these constraints are applied by default; for example the axis ratio q is required to be in the range (0,1). Other parameters, such as the position angle (PA) are cyclic, they can be in the range (0,pi) but also can wrap around. It is possible to manually set these constraints while constructing a model.\n",
    "\n",
    "In general adding constraints makes fitting more difficult. There is a chance that the fitting process runs up against a constraint boundary and gets stuck. However, sometimes adding constraints is necessary and so the capability is included."
   ]
  },
  {
   "cell_type": "code",
   "execution_count": null,
   "metadata": {},
   "outputs": [],
   "source": [
    "# here we make a sersic model that can only have q and n in a narrow range\n",
    "# Also, we give PA and initial value and lock that so it does not change during fitting\n",
    "constrained_param_model = ap.models.Model(\n",
    "    name=\"constrained parameters\",\n",
    "    model_type=\"sersic galaxy model\",\n",
    "    q={\"valid\": (0.4, 0.6)},\n",
    "    n={\"valid\": (2, 3)},\n",
    "    PA={\"value\": 60 * np.pi / 180},\n",
    "    target=target,\n",
    ")"
   ]
  },
  {
   "cell_type": "markdown",
   "metadata": {},
   "source": [
    "Aside from constraints on an individual parameter, it is sometimes desirable to have different models share parameter values. For example you may wish to combine multiple simple models into a more complex model (more on that in a different tutorial), and you may wish for them all to have the same center. This can be accomplished with \"equality constraints\" as shown below."
   ]
  },
  {
   "cell_type": "code",
   "execution_count": null,
   "metadata": {},
   "outputs": [],
   "source": [
    "# model 1 is a sersic model\n",
    "model_1 = ap.models.Model(\n",
    "    model_type=\"sersic galaxy model\", center=[50, 50], PA=np.pi / 4, target=target\n",
    ")\n",
    "# model 2 is an exponential model\n",
    "model_2 = ap.models.Model(model_type=\"exponential galaxy model\", target=target)\n",
    "\n",
    "# Here we add the constraint for \"PA\" to be the same for each model.\n",
    "# In doing so we provide the model and parameter name which should\n",
    "# be connected.\n",
    "model_2.PA = model_1.PA\n",
    "\n",
    "# Here we can see how the two models now both can modify this parameter\n",
    "print(\n",
    "    \"initial values: model_1 PA\",\n",
    "    model_1.PA.value.item(),\n",
    "    \"model_2 PA\",\n",
    "    model_2.PA.value.item(),\n",
    ")\n",
    "# Now we modify the PA for model_1\n",
    "model_1.PA.value = np.pi / 3\n",
    "print(\n",
    "    \"change model_1: model_1 PA\",\n",
    "    model_1.PA.value.item(),\n",
    "    \"model_2 PA\",\n",
    "    model_2.PA.value.item(),\n",
    ")"
   ]
  },
  {
   "cell_type": "markdown",
   "metadata": {},
   "source": [
    "## Basic things to do with a model\n",
    "\n",
    "Now that we know how to create a model and fit it to an image, lets get to know the model a bit better."
   ]
  },
  {
   "cell_type": "code",
   "execution_count": null,
   "metadata": {},
   "outputs": [],
   "source": [
    "# Save the model state to a file\n",
    "\n",
    "model2.save_state(\"current_spot.hdf5\", appendable=True)  # save as it is\n",
    "model2.q = 0.1  # do some updates to the model\n",
    "model2.PA = 0.1\n",
    "model2.n = 0.9\n",
    "model2.Re = 0.1\n",
    "model2.append_state(\"current_spot.hdf5\")  # save the updated model state as often as you like"
   ]
  },
  {
   "cell_type": "code",
   "execution_count": null,
   "metadata": {},
   "outputs": [],
   "source": [
    "# load a model state from a file\n",
    "\n",
    "model2.load_state(\"current_spot.hdf5\", index=0)  # load the first state from the file\n",
    "print(model2)  # see that the values are back to where they started"
   ]
  },
  {
   "cell_type": "code",
   "execution_count": null,
   "metadata": {},
   "outputs": [],
   "source": [
    "# Save the model image to a file\n",
    "\n",
    "model_image_sample = model2()\n",
    "model_image_sample.save(\"model2.fits\")\n",
    "\n",
    "saved_image_hdu = fits.open(\"model2.fits\")\n",
    "fig, ax = plt.subplots(figsize=(8, 8))\n",
    "ax.imshow(\n",
    "    np.log10(saved_image_hdu[0].data),\n",
    "    origin=\"lower\",\n",
    "    cmap=\"viridis\",\n",
    ")\n",
    "plt.show()"
   ]
  },
  {
   "cell_type": "code",
   "execution_count": null,
   "metadata": {},
   "outputs": [],
   "source": [
    "# Plot model image with discrete levels\n",
    "\n",
    "# this is very useful for visualizing subtle features and for eyeballing the brightness at a given location.\n",
    "# just add the \"cmap_levels\" keyword to the model_image call and tell it how many levels you want\n",
    "fig11, ax11 = plt.subplots(figsize=(8, 8))\n",
    "ap.plots.model_image(fig11, ax11, model2, cmap_levels=15)\n",
    "plt.show()"
   ]
  },
  {
   "cell_type": "code",
   "execution_count": null,
   "metadata": {},
   "outputs": [],
   "source": [
    "# Save and load a target image\n",
    "\n",
    "target.save(\"target.fits\")\n",
    "\n",
    "# Note that it is often also possible to load from regular FITS files\n",
    "new_target = ap.image.TargetImage(filename=\"target.fits\")\n",
    "\n",
    "fig, ax = plt.subplots(figsize=(8, 8))\n",
    "ap.plots.target_image(fig, ax, new_target)\n",
    "plt.show()"
   ]
  },
  {
   "cell_type": "code",
   "execution_count": null,
   "metadata": {},
   "outputs": [],
   "source": [
    "# Access the model image pixels directly\n",
    "\n",
    "fig2, ax2 = plt.subplots(figsize=(8, 8))\n",
    "\n",
    "pixels = model2().data.detach().cpu().numpy()\n",
    "\n",
    "im = plt.imshow(\n",
    "    np.log10(pixels),  # take log10 for better dynamic range\n",
    "    origin=\"lower\",\n",
    "    cmap=ap.plots.visuals.cmap_grad,  # gradient colourmap default for AstroPhot\n",
    ")\n",
    "plt.colorbar(im)\n",
    "plt.show()"
   ]
  },
  {
   "cell_type": "markdown",
   "metadata": {},
   "source": [
    "## Load target with WCS information"
   ]
  },
  {
   "cell_type": "code",
   "execution_count": null,
   "metadata": {},
   "outputs": [],
   "source": [
    "# first let's download an image to play with\n",
    "filename = \"https://www.legacysurvey.org/viewer/fits-cutout?ra=36.3684&dec=-25.6389&size=700&layer=ls-dr9&pixscale=0.262&bands=r\"\n",
    "hdu = fits.open(filename)\n",
    "target_data = np.array(hdu[0].data, dtype=np.float64)\n",
    "\n",
    "wcs = WCS(hdu[0].header)\n",
    "\n",
    "# Create a target object with WCS which will specify the pixelscale and origin for us!\n",
    "target = ap.image.TargetImage(\n",
    "    data=target_data,\n",
    "    zeropoint=22.5,\n",
    "    wcs=wcs,\n",
    ")\n",
    "\n",
    "fig3, ax3 = plt.subplots(figsize=(8, 8))\n",
    "ap.plots.target_image(fig3, ax3, target)\n",
    "plt.show()"
   ]
  },
  {
   "cell_type": "markdown",
   "metadata": {},
   "source": [
    "## Even better, just load directly from a FITS file\n",
    "\n",
    "AstroPhot recognizes standard FITS keywords to extract a target image. Note that this wont work for all FITS files, just ones that define the following keywords: `CTYPE1`, `CTYPE2`, `CRVAL1`, `CRVAL2`, `CRPIX1`, `CRPIX2`, `CD1_1`, `CD1_2`, `CD2_1`, `CD2_2`, and `MAGZP` with the usual meanings. AstroPhot can also handle SIP, see the SIP tutorial for details there.\n",
    "\n",
    "Further keywords specific to AstroPhot that it uses for some advanced features like multi-band fitting are: `CRTAN1`, `CRTAN2` used for aligning images, and `IDNTY` used for identifying when two images are actually cutouts of the same image. And AstroPhot also will store the `PSF`, `WEIGHT`, and `MASK` in extra extensions of the FITS file when it makes one."
   ]
  },
  {
   "cell_type": "code",
   "execution_count": null,
   "metadata": {},
   "outputs": [],
   "source": [
    "target = ap.image.TargetImage(filename=filename)\n",
    "\n",
    "fig3, ax3 = plt.subplots(figsize=(8, 8))\n",
    "ap.plots.target_image(fig3, ax3, target)\n",
    "plt.show()"
   ]
  },
  {
   "cell_type": "code",
   "execution_count": null,
   "metadata": {},
   "outputs": [],
   "source": [
    "# List all the available model names\n",
    "\n",
    "# AstroPhot keeps track of all the subclasses of the AstroPhot Model object, this list will\n",
    "# include all models even ones added by the user\n",
    "print(ap.models.Model.List_Models(usable=True, types=True))\n",
    "print(\"---------------------------\")\n",
    "# It is also possible to get all sub models of a specific Type\n",
    "print(\"only galaxy models: \", ap.models.GalaxyModel.List_Models(types=True))"
   ]
  },
  {
   "cell_type": "markdown",
   "metadata": {},
   "source": [
    "## Using GPU acceleration\n",
    "\n",
    "This one is easy! If you have a cuda enabled GPU available, AstroPhot will just automatically detect it and use that device. "
   ]
  },
  {
   "cell_type": "code",
   "execution_count": null,
   "metadata": {},
   "outputs": [],
   "source": [
    "# check if AstroPhot has detected your GPU\n",
    "print(ap.AP_config.ap_device)  # most likely this will say \"cpu\" unless you already have a cuda GPU,\n",
    "# in which case it should say \"cuda:0\""
   ]
  },
  {
   "cell_type": "code",
   "execution_count": null,
   "metadata": {},
   "outputs": [],
   "source": [
    "# If you have a GPU but want to use the cpu for some reason, just set:\n",
    "ap.AP_config.ap_device = \"cpu\"\n",
    "# BEFORE creating anything else (models, images, etc.)"
   ]
  },
  {
   "cell_type": "markdown",
   "metadata": {},
   "source": [
    "## Boost GPU acceleration with single precision float32\n",
    "\n",
    "If you are using a GPU you can get significant performance increases in both memory and speed by switching from double precision (the AstroPhot default) to single precision floating point numbers. The trade off is reduced precision, this can cause some unexpected behaviors. For example an optimizer may keep iterating forever if it is trying to optimize down to a precision below what the float32 will track. Typically, numbers with float32 are good down to 6 places and AstroPhot by default only attempts to minimize the Chi^2 to 3 places. However, to ensure the fit is secure to 3 places it often checks what is happenening down at 4 or 5 places. Hence, issues can arise. For the most part you can go ahead with float32 and if you run into a weird bug, try on float64 before looking further."
   ]
  },
  {
   "cell_type": "code",
   "execution_count": null,
   "metadata": {},
   "outputs": [],
   "source": [
    "# Again do this BEFORE creating anything else\n",
    "ap.AP_config.ap_dtype = torch.float32\n",
    "\n",
    "# Now new AstroPhot objects will be made with single bit precision\n",
    "T1 = ap.image.TargetImage(data=np.zeros((100, 100)), pixelscale=1.0)\n",
    "T1.to()\n",
    "print(\"now a single:\", T1.data.dtype)\n",
    "\n",
    "# Here we switch back to double precision\n",
    "ap.AP_config.ap_dtype = torch.float64\n",
    "T2 = ap.image.TargetImage(data=np.zeros((100, 100)), pixelscale=1.0)\n",
    "T2.to()\n",
    "print(\"back to double:\", T2.data.dtype)\n",
    "print(\"old image is still single!:\", T1.data.dtype)"
   ]
  },
  {
   "cell_type": "markdown",
   "metadata": {},
   "source": [
    "See how the window created as a float32 stays that way? That's really bad to have lying around! Make sure to change the data type before creating anything! "
   ]
  },
  {
   "cell_type": "markdown",
   "metadata": {},
   "source": [
    "## Tracking output\n",
    "\n",
    "The AstroPhot optimizers, and occasionally the other AstroPhot objects, will provide status updates about themselves which can be very useful for debugging problems or just keeping tabs on progress. There are a number of use cases for AstroPhot, each having different desired output behaviors. To accommodate all users, AstroPhot implements a general logging system. The object `ap.AP_config.ap_logger` is a logging object which by default writes to AstroPhot.log in the local directory. As the user, you can set that logger to be any logging object you like for arbitrary complexity. Most users will, however, simply want to control the filename, or have it output to screen instead of a file. Below you can see examples of how to do that."
   ]
  },
  {
   "cell_type": "code",
   "execution_count": null,
   "metadata": {},
   "outputs": [],
   "source": [
    "# note that the log file will be where these tutorial notebooks are in your filesystem\n",
    "\n",
    "# Here we change the settings so AstroPhot only prints to a log file\n",
    "ap.AP_config.set_logging_output(stdout=False, filename=\"AstroPhot.log\")\n",
    "ap.AP_config.ap_logger.info(\"message 1: this should only appear in the AstroPhot log file\")\n",
    "\n",
    "# Here we change the settings so AstroPhot only prints to console\n",
    "ap.AP_config.set_logging_output(stdout=True, filename=None)\n",
    "ap.AP_config.ap_logger.info(\"message 2: this should only print to the console\")\n",
    "\n",
    "# Here we change the settings so AstroPhot prints to both, which is the default\n",
    "ap.AP_config.set_logging_output(stdout=True, filename=\"AstroPhot.log\")\n",
    "ap.AP_config.ap_logger.info(\"message 3: this should appear in both the console and the log file\")"
   ]
  },
  {
   "cell_type": "markdown",
   "metadata": {},
   "source": [
    "You can also change the logging level and/or formatter for the stdout and filename options (see `help(ap.AP_config.set_logging_output)` for details). However, at that point you may want to simply make your own logger object and assign it to the `ap.AP_config.ap_logger` variable."
   ]
  },
  {
   "cell_type": "code",
   "execution_count": null,
   "metadata": {},
   "outputs": [],
   "source": []
  }
 ],
 "metadata": {
  "language_info": {
   "codemirror_mode": {
    "name": "ipython",
    "version": 3
   },
   "file_extension": ".py",
   "mimetype": "text/x-python",
   "name": "python",
   "nbconvert_exporter": "python",
   "pygments_lexer": "ipython3"
  }
 },
 "nbformat": 4,
 "nbformat_minor": 4
}
