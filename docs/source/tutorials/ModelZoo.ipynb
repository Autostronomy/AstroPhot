{
 "cells": [
  {
   "cell_type": "markdown",
   "metadata": {},
   "source": [
    "# Model Zoo\n",
    "\n",
    "In this notebook you will see every kind of model in AstroPhot. Printed in each cell will also be the list of parameters which the model looks for while fitting. Many models have unique capabilities and features, this will be introduced here, though fully taking advantage of them will be dependent on your science case.\n",
    "\n",
    "For a family tree of all the AstroPhot models see [this link](https://github.com/Autostronomy/AstroPhot/blob/main/media/AstroPhotModelOrgchart.png) \n",
    "\n",
    "Note, we will not be covering `Group_Model` here as that requires a dedicated discussion. See the dedicated notebook for that."
   ]
  },
  {
   "cell_type": "code",
   "execution_count": null,
   "metadata": {},
   "outputs": [],
   "source": [
    "%load_ext autoreload\n",
    "%autoreload 2\n",
    "\n",
    "import astrophot as ap\n",
    "import numpy as np\n",
    "import torch\n",
    "import matplotlib.pyplot as plt\n",
    "\n",
    "%matplotlib inline\n",
    "basic_target = ap.image.Target_Image(data=np.zeros((100, 100)), pixelscale=1, zeropoint=20)"
   ]
  },
  {
   "cell_type": "markdown",
   "metadata": {},
   "source": [
    "## Sky Models"
   ]
  },
  {
   "cell_type": "markdown",
   "metadata": {},
   "source": [
    "### Flat Sky Model"
   ]
  },
  {
   "cell_type": "code",
   "execution_count": null,
   "metadata": {},
   "outputs": [],
   "source": [
    "M = ap.models.AstroPhot_Model(\n",
    "    model_type=\"flat sky model\", parameters={\"center\": [50, 50], \"F\": 1}, target=basic_target\n",
    ")\n",
    "print(M.parameter_order)\n",
    "print(tuple(P.units for P in M.parameters))\n",
    "M.initialize()\n",
    "\n",
    "fig, ax = plt.subplots(figsize=(7, 6))\n",
    "ap.plots.model_image(fig, ax, M)\n",
    "ax.set_title(M.name)\n",
    "plt.show()"
   ]
  },
  {
   "cell_type": "markdown",
   "metadata": {},
   "source": [
    "### Plane Sky Model"
   ]
  },
  {
   "cell_type": "code",
   "execution_count": null,
   "metadata": {},
   "outputs": [],
   "source": [
    "M = ap.models.AstroPhot_Model(\n",
    "    model_type=\"plane sky model\",\n",
    "    parameters={\"center\": [50, 50], \"F\": 10, \"delta\": [1e-2, 2e-2]},\n",
    "    target=basic_target,\n",
    ")\n",
    "print(M.parameter_order)\n",
    "print(tuple(P.units for P in M.parameters))\n",
    "M.initialize()\n",
    "\n",
    "fig, ax = plt.subplots(figsize=(7, 6))\n",
    "ap.plots.model_image(fig, ax, M)\n",
    "ax.set_title(M.name)\n",
    "plt.show()"
   ]
  },
  {
   "cell_type": "markdown",
   "metadata": {},
   "source": [
    "## Point Source Function (PSF) Models\n",
    "\n",
    "These models are well suited to describe stars or any other point like source of light, they may also be used to convolve with other models during optimization. Some things to keep in mind about PSF models:\n",
    "\n",
    "- Their \"target\" should be a PSF_Image\n",
    "- They are always centered at (0,0) so there is no need to optimize the center position\n",
    "- Their total flux is typically normalized to 1, so no need to optimize any normalization parameters\n",
    "- They can be used in a lot of places that a PSF_Image can be used, such as the convolution kernel for a model\n",
    "\n",
    "They behave a bit differently than other models, see the point source model further down. A PSF describes the abstract point source light distribution, to actually model a star in a field you will need a point source object (further down) which is convolved by a PSF model."
   ]
  },
  {
   "cell_type": "code",
   "execution_count": null,
   "metadata": {},
   "outputs": [],
   "source": [
    "np.random.seed(124)\n",
    "psf = ap.utils.initialize.gaussian_psf(3.0, 101, 1.0)\n",
    "psf[50] += np.mean(psf)\n",
    "psf[:, 50] += np.mean(psf)\n",
    "psf += 1e-10\n",
    "psf += np.random.normal(scale=psf / 3)\n",
    "psf[psf < 0] = ap.utils.initialize.gaussian_psf(3.0, 101, 1.0)[psf < 0] + 1e-10\n",
    "\n",
    "psf_target = ap.image.PSF_Image(\n",
    "    data=psf / np.sum(psf),\n",
    "    pixelscale=1,\n",
    ")\n",
    "fig, ax = plt.subplots()\n",
    "ap.plots.psf_image(fig, ax, psf_target)\n",
    "ax.set_title(\"mock empirical PSF\")\n",
    "plt.show()"
   ]
  },
  {
   "cell_type": "markdown",
   "metadata": {},
   "source": [
    "### Pixelated point source\n",
    "\n",
    "Note that in this model you can define an arbitrary pixel map, for the sake of demonstration we build an extremely oversimplified mock diffraction spike model."
   ]
  },
  {
   "cell_type": "code",
   "execution_count": null,
   "metadata": {},
   "outputs": [],
   "source": [
    "from scipy.special import sinc\n",
    "\n",
    "xx, yy = np.meshgrid(np.linspace(-50, 50, 101), np.linspace(-50, 50, 101))\n",
    "x = np.sqrt(xx**2 + yy**2) / 15\n",
    "PSF = np.zeros_like(x) + 1e-6\n",
    "wgt = np.array((0.0001, 0.01, 1.0, 0.01, 0.0001))\n",
    "PSF[48:53] += (sinc(x[48:53]) ** 2) * wgt.reshape((-1, 1))\n",
    "PSF[:, 48:53] += (sinc(x[:, 48:53]) ** 2) * wgt\n",
    "PSF = ap.image.PSF_Image(data=PSF, pixelscale=psf_target.pixelscale)\n",
    "\n",
    "M = ap.models.AstroPhot_Model(\n",
    "    model_type=\"pixelated psf model\",\n",
    "    target=psf_target,\n",
    "    parameters={\"pixels\": np.log10(PSF.data / psf_target.pixel_area)},\n",
    ")\n",
    "print(M.parameter_order)\n",
    "print(tuple(P.units for P in M.parameters))\n",
    "M.initialize()\n",
    "\n",
    "fig, ax = plt.subplots(1, 2, figsize=(14, 6))\n",
    "ap.plots.psf_image(fig, ax[0], M)\n",
    "x = np.linspace(0, 49, 99) / 20\n",
    "ax[1].plot(x, sinc(x) ** 2 + 1e-5)\n",
    "ax[1].set_yscale(\"log\")\n",
    "ax[0].set_title(M.name)\n",
    "plt.show()"
   ]
  },
  {
   "cell_type": "markdown",
   "metadata": {},
   "source": [
    "### Gaussian PSF\n",
    "\n",
    "Never a great PSF model, but the Gaussian is simple. This makes it a good starting choice to get results before stepping up the complexity level."
   ]
  },
  {
   "cell_type": "code",
   "execution_count": null,
   "metadata": {},
   "outputs": [],
   "source": [
    "M = ap.models.AstroPhot_Model(\n",
    "    model_type=\"gaussian psf model\", parameters={\"sigma\": 10}, target=psf_target\n",
    ")\n",
    "print(M.parameter_order)\n",
    "print(tuple(P.units for P in M.parameters))\n",
    "M.initialize()\n",
    "\n",
    "fig, ax = plt.subplots(1, 2, figsize=(14, 6))\n",
    "ap.plots.psf_image(fig, ax[0], M)\n",
    "ap.plots.radial_light_profile(fig, ax[1], M)\n",
    "ax[0].set_title(M.name)\n",
    "plt.show()"
   ]
  },
  {
   "cell_type": "markdown",
   "metadata": {},
   "source": [
    "### Moffat PSF"
   ]
  },
  {
   "cell_type": "code",
   "execution_count": null,
   "metadata": {},
   "outputs": [],
   "source": [
    "M = ap.models.AstroPhot_Model(\n",
    "    model_type=\"moffat psf model\", parameters={\"n\": 2.0, \"Rd\": 10.0}, target=psf_target\n",
    ")\n",
    "print(M.parameter_order)\n",
    "print(tuple(P.units for P in M.parameters))\n",
    "M.initialize()\n",
    "\n",
    "fig, ax = plt.subplots(1, 2, figsize=(14, 6))\n",
    "ap.plots.psf_image(fig, ax[0], M)\n",
    "ap.plots.radial_light_profile(fig, ax[1], M)\n",
    "ax[0].set_title(M.name)\n",
    "plt.show()"
   ]
  },
  {
   "cell_type": "markdown",
   "metadata": {},
   "source": [
    "### Airy disk PSF"
   ]
  },
  {
   "cell_type": "code",
   "execution_count": null,
   "metadata": {},
   "outputs": [],
   "source": [
    "M = ap.models.AstroPhot_Model(\n",
    "    model_type=\"airy psf model\",\n",
    "    parameters={\"aRL\": 1.0 / 20},\n",
    "    target=psf_target,\n",
    ")\n",
    "print(M.parameter_order)\n",
    "print(tuple(P.units for P in M.parameters))\n",
    "M.initialize()\n",
    "\n",
    "fig, ax = plt.subplots(1, 2, figsize=(14, 6))\n",
    "ap.plots.psf_image(fig, ax[0], M)\n",
    "ap.plots.radial_light_profile(fig, ax[1], M)\n",
    "ax[0].set_title(M.name)\n",
    "plt.show()"
   ]
  },
  {
   "cell_type": "markdown",
   "metadata": {},
   "source": [
    "### Zernike Polynomial PSF"
   ]
  },
  {
   "cell_type": "code",
   "execution_count": null,
   "metadata": {},
   "outputs": [],
   "source": [
    "M = ap.models.AstroPhot_Model(\n",
    "    model_type=\"zernike psf model\", order_n=4, integrate_mode=\"none\", target=psf_target\n",
    ")\n",
    "print(M.parameter_order)\n",
    "print(tuple(P.units for P in M.parameters))\n",
    "M.initialize()\n",
    "\n",
    "fig, axarr = plt.subplots(3, 5, figsize=(18, 10))\n",
    "for i, ax in enumerate(axarr.flatten()):\n",
    "    Anm = torch.zeros_like(M[\"Anm\"].value)\n",
    "    Anm[0] = 1.0\n",
    "    Anm[i] = 1.0\n",
    "    M[\"Anm\"].value = Anm\n",
    "    ax.set_title(f\"n: {M.nm_list[i][0]} m: {M.nm_list[i][1]}\")\n",
    "    ap.plots.psf_image(fig, ax, M, norm=None)\n",
    "plt.show()"
   ]
  },
  {
   "cell_type": "markdown",
   "metadata": {},
   "source": [
    "### Eigen basis PSF point source\n",
    "\n",
    "An eigen basis is a set of images which can be combined to form a PSF model. The eigen basis model makes it possible to fit the coefficients for the basis as model parameters. In fact the zernike polynomials are a kind of basis, so we will use them as input to the eigen psf model."
   ]
  },
  {
   "cell_type": "code",
   "execution_count": null,
   "metadata": {},
   "outputs": [],
   "source": [
    "super_basic_target = ap.image.Target_Image(data=np.zeros((101, 101)), pixelscale=1)\n",
    "Z = ap.models.AstroPhot_Model(\n",
    "    model_type=\"zernike psf model\", order_n=4, integrate_mode=\"none\", target=psf_target\n",
    ")\n",
    "Z.initialize()\n",
    "basis = []\n",
    "for i in range(10):\n",
    "    Anm = torch.zeros_like(Z[\"Anm\"].value)\n",
    "    Anm[0] = 1.0\n",
    "    Anm[i] = 1.0\n",
    "    Z[\"Anm\"].value = Anm\n",
    "    basis.append(Z().data)\n",
    "basis = torch.stack(basis)\n",
    "\n",
    "W = np.linspace(1, 0.1, 10)\n",
    "M = ap.models.AstroPhot_Model(\n",
    "    model_type=\"eigen psf model\",\n",
    "    eigen_basis=basis,\n",
    "    eigen_pixelscale=1,\n",
    "    parameters={\"weights\": W},\n",
    "    target=psf_target,\n",
    ")\n",
    "print(M.parameter_order)\n",
    "print(tuple(P.units for P in M.parameters))\n",
    "M.initialize()\n",
    "\n",
    "fig, ax = plt.subplots(1, 2, figsize=(14, 6))\n",
    "ap.plots.psf_image(fig, ax[0], M, norm=None)\n",
    "W = np.random.rand(10)\n",
    "M[\"weights\"].value = W\n",
    "ap.plots.psf_image(fig, ax[1], M, norm=None)\n",
    "ax[0].set_title(M.name)\n",
    "ax[1].set_title(\"random weights\")\n",
    "plt.show()"
   ]
  },
  {
   "cell_type": "markdown",
   "metadata": {},
   "source": [
    "## The Point Source Model\n",
    "\n",
    "This model is used to represent point sources in the sky. It is effectively a delta function at a given position with a given flux. Otherwise it has no structure. You must provide it a PSF model so that it can project into the sky."
   ]
  },
  {
   "cell_type": "markdown",
   "metadata": {},
   "source": [
    "### Point Source using PSF_Image"
   ]
  },
  {
   "cell_type": "code",
   "execution_count": null,
   "metadata": {},
   "outputs": [],
   "source": [
    "M = ap.models.AstroPhot_Model(\n",
    "    model_type=\"point model\",\n",
    "    parameters={\"center\": [50, 50], \"flux\": 1},\n",
    "    psf=psf_target,\n",
    "    target=basic_target,\n",
    ")\n",
    "print(M.parameter_order)\n",
    "print(tuple(P.units for P in M.parameters))\n",
    "M.initialize()\n",
    "\n",
    "fig, ax = plt.subplots(figsize=(7, 6))\n",
    "ap.plots.model_image(fig, ax, M)\n",
    "ax.set_title(M.name)\n",
    "plt.show()"
   ]
  },
  {
   "cell_type": "markdown",
   "metadata": {},
   "source": [
    "### Point Source using PSF model"
   ]
  },
  {
   "cell_type": "code",
   "execution_count": null,
   "metadata": {},
   "outputs": [],
   "source": [
    "psf = ap.models.AstroPhot_Model(\n",
    "    model_type=\"moffat psf model\", parameters={\"n\": 2.0, \"Rd\": 10.0}, target=psf_target\n",
    ")\n",
    "psf.initialize()\n",
    "\n",
    "M = ap.models.AstroPhot_Model(\n",
    "    model_type=\"point model\",\n",
    "    parameters={\"center\": [50, 50], \"flux\": 1},\n",
    "    psf=psf,\n",
    "    target=basic_target,\n",
    ")\n",
    "print(M.parameter_order)\n",
    "print(tuple(P.units for P in M.parameters))\n",
    "M.initialize()\n",
    "\n",
    "# Note that the PSF model now shows up as a \"parameter\" for the point model. In fact this is just a pointer to the PSF parameter graph which you can see by printing the parameters\n",
    "print(M.parameters)\n",
    "\n",
    "fig, ax = plt.subplots(figsize=(7, 6))\n",
    "ap.plots.model_image(fig, ax, M)\n",
    "ax.set_title(M.name)\n",
    "plt.show()"
   ]
  },
  {
   "cell_type": "markdown",
   "metadata": {},
   "source": [
    "## Galaxy Models"
   ]
  },
  {
   "cell_type": "markdown",
   "metadata": {},
   "source": [
    "### Spline Galaxy Model\n",
    "\n",
    "This model has a radial surface brightness profile which can take on any function (that can be represented as a spline). This is somewhat like elliptical isophote fitting, though it is more precise in its definition of the SB model."
   ]
  },
  {
   "cell_type": "code",
   "execution_count": null,
   "metadata": {},
   "outputs": [],
   "source": [
    "# Here we make an arbitrary spline profile out of a sine wave and a line\n",
    "x = np.linspace(0, 10, 14)\n",
    "spline_profile = np.sin(x * 2 + 2) / 20 + 1 - x / 20\n",
    "# Here we write down some corresponding radii for the points in the non-parametric profile. AstroPhot will make\n",
    "# radii to match an input profile, but it is generally better to manually provide values so you have some control\n",
    "# over their placement. Just note that it is assumed the first point will be at R = 0.\n",
    "NP_prof = [0] + list(np.logspace(np.log10(2), np.log10(50), 13))\n",
    "\n",
    "M = ap.models.AstroPhot_Model(\n",
    "    model_type=\"spline galaxy model\",\n",
    "    parameters={\n",
    "        \"center\": [50, 50],\n",
    "        \"q\": 0.6,\n",
    "        \"PA\": 60 * np.pi / 180,\n",
    "        \"I(R)\": {\"value\": spline_profile, \"prof\": NP_prof},\n",
    "    },\n",
    "    target=basic_target,\n",
    ")\n",
    "print(M.parameter_order)\n",
    "print(tuple(P.units for P in M.parameters))\n",
    "M.initialize()\n",
    "\n",
    "fig, ax = plt.subplots(1, 2, figsize=(14, 6))\n",
    "ap.plots.model_image(fig, ax[0], M)\n",
    "ap.plots.radial_light_profile(fig, ax[1], M)\n",
    "ax[0].set_title(M.name)\n",
    "plt.show()"
   ]
  },
  {
   "cell_type": "markdown",
   "metadata": {},
   "source": [
    "### Sersic Galaxy Model"
   ]
  },
  {
   "cell_type": "code",
   "execution_count": null,
   "metadata": {},
   "outputs": [],
   "source": [
    "M = ap.models.AstroPhot_Model(\n",
    "    model_type=\"sersic galaxy model\",\n",
    "    parameters={\"center\": [50, 50], \"q\": 0.6, \"PA\": 60 * np.pi / 180, \"n\": 3, \"Re\": 10, \"Ie\": 1},\n",
    "    target=basic_target,\n",
    ")\n",
    "print(M.parameter_order)\n",
    "print(tuple(P.units for P in M.parameters))\n",
    "M.initialize()\n",
    "\n",
    "fig, ax = plt.subplots(1, 2, figsize=(14, 6))\n",
    "ap.plots.model_image(fig, ax[0], M)\n",
    "ap.plots.radial_light_profile(fig, ax[1], M)\n",
    "ax[0].set_title(M.name)\n",
    "plt.show()"
   ]
  },
  {
   "cell_type": "markdown",
   "metadata": {},
   "source": [
    "### Exponential Galaxy Model"
   ]
  },
  {
   "cell_type": "code",
   "execution_count": null,
   "metadata": {},
   "outputs": [],
   "source": [
    "M = ap.models.AstroPhot_Model(\n",
    "    model_type=\"exponential galaxy model\",\n",
    "    parameters={\"center\": [50, 50], \"q\": 0.6, \"PA\": 60 * np.pi / 180, \"Re\": 10, \"Ie\": 1},\n",
    "    target=basic_target,\n",
    ")\n",
    "print(M.parameter_order)\n",
    "print(tuple(P.units for P in M.parameters))\n",
    "M.initialize()\n",
    "\n",
    "fig, ax = plt.subplots(1, 2, figsize=(14, 6))\n",
    "ap.plots.model_image(fig, ax[0], M)\n",
    "ap.plots.radial_light_profile(fig, ax[1], M)\n",
    "ax[0].set_title(M.name)\n",
    "plt.show()"
   ]
  },
  {
   "cell_type": "markdown",
   "metadata": {},
   "source": [
    "### Gaussian Galaxy Model"
   ]
  },
  {
   "cell_type": "code",
   "execution_count": null,
   "metadata": {},
   "outputs": [],
   "source": [
    "M = ap.models.AstroPhot_Model(\n",
    "    model_type=\"gaussian galaxy model\",\n",
    "    parameters={\"center\": [50, 50], \"q\": 0.6, \"PA\": 60 * np.pi / 180, \"sigma\": 20, \"flux\": 1},\n",
    "    target=basic_target,\n",
    ")\n",
    "print(M.parameter_order)\n",
    "print(tuple(P.units for P in M.parameters))\n",
    "M.initialize()\n",
    "\n",
    "fig, ax = plt.subplots(1, 2, figsize=(14, 6))\n",
    "ap.plots.model_image(fig, ax[0], M)\n",
    "ap.plots.radial_light_profile(fig, ax[1], M)\n",
    "ax[0].set_title(M.name)\n",
    "plt.show()"
   ]
  },
  {
   "cell_type": "markdown",
   "metadata": {},
   "source": [
    "### Nuker Galaxy Model"
   ]
  },
  {
   "cell_type": "code",
   "execution_count": null,
   "metadata": {},
   "outputs": [],
   "source": [
    "M = ap.models.AstroPhot_Model(\n",
    "    model_type=\"nuker galaxy model\",\n",
    "    parameters={\n",
    "        \"center\": [50, 50],\n",
    "        \"q\": 0.6,\n",
    "        \"PA\": 60 * np.pi / 180,\n",
    "        \"Rb\": 10.0,\n",
    "        \"Ib\": 1.0,\n",
    "        \"alpha\": 4.0,\n",
    "        \"beta\": 3.0,\n",
    "        \"gamma\": -0.2,\n",
    "    },\n",
    "    target=basic_target,\n",
    ")\n",
    "print(M.parameter_order)\n",
    "print(tuple(P.units for P in M.parameters))\n",
    "M.initialize()\n",
    "\n",
    "fig, ax = plt.subplots(1, 2, figsize=(14, 6))\n",
    "ap.plots.model_image(fig, ax[0], M)\n",
    "ap.plots.radial_light_profile(fig, ax[1], M)\n",
    "ax[0].set_title(M.name)\n",
    "plt.show()"
   ]
  },
  {
   "cell_type": "markdown",
   "metadata": {},
   "source": [
    "## Edge on model\n",
    "\n",
    "Currently there is only one dedicared edge on model, the self gravitating isothermal disk from van der Kruit & Searle 1981. If you know of another common edge on model, feel free to let us know and we can add it in!"
   ]
  },
  {
   "cell_type": "code",
   "execution_count": null,
   "metadata": {},
   "outputs": [],
   "source": [
    "M = ap.models.AstroPhot_Model(\n",
    "    model_type=\"isothermal sech2 edgeon model\",\n",
    "    parameters={\"center\": [50, 50], \"PA\": 60 * np.pi / 180, \"I0\": 0.0, \"hs\": 3.0, \"rs\": 5.0},\n",
    "    target=basic_target,\n",
    ")\n",
    "print(M.parameter_order)\n",
    "print(tuple(P.units for P in M.parameters))\n",
    "M.initialize()\n",
    "\n",
    "fig, ax = plt.subplots(1, 2, figsize=(14, 6))\n",
    "ap.plots.model_image(fig, ax[0], M)\n",
    "ap.plots.radial_light_profile(fig, ax[1], M)\n",
    "ax[0].set_title(M.name)\n",
    "plt.show()"
   ]
  },
  {
   "cell_type": "markdown",
   "metadata": {},
   "source": [
    "## Super Ellipse Models\n",
    "\n",
    "A super ellipse is a regular ellipse, except the radius metric changes from R = sqrt(x^2 + y^2) to the more general: R = (x^C + y^C)^1/C. The parameter C = 2 for a regular ellipse, for 0<C<2 the shape becomes more \"disky\" and for C > 2 the shape becomes more \"boxy.\" In AstroPhot we use the parameter C0 = C-2 for simplicity."
   ]
  },
  {
   "cell_type": "markdown",
   "metadata": {},
   "source": [
    "### Spline SuperEllipse"
   ]
  },
  {
   "cell_type": "code",
   "execution_count": null,
   "metadata": {},
   "outputs": [],
   "source": [
    "M = ap.models.AstroPhot_Model(\n",
    "    model_type=\"spline superellipse galaxy model\",\n",
    "    parameters={\n",
    "        \"center\": [50, 50],\n",
    "        \"q\": 0.6,\n",
    "        \"PA\": 60 * np.pi / 180,\n",
    "        \"C0\": 2,\n",
    "        \"I(R)\": {\"value\": spline_profile, \"prof\": NP_prof},\n",
    "    },\n",
    "    target=basic_target,\n",
    ")\n",
    "print(M.parameter_order)\n",
    "print(tuple(P.units for P in M.parameters))\n",
    "M.initialize()\n",
    "\n",
    "fig, ax = plt.subplots(1, 2, figsize=(14, 6))\n",
    "ap.plots.model_image(fig, ax[0], M)\n",
    "ap.plots.radial_light_profile(fig, ax[1], M)\n",
    "ax[0].set_title(M.name)\n",
    "plt.show()"
   ]
  },
  {
   "cell_type": "markdown",
   "metadata": {},
   "source": [
    "### Sersic SuperEllipse"
   ]
  },
  {
   "cell_type": "code",
   "execution_count": null,
   "metadata": {},
   "outputs": [],
   "source": [
    "M = ap.models.AstroPhot_Model(\n",
    "    model_type=\"sersic superellipse galaxy model\",\n",
    "    parameters={\n",
    "        \"center\": [50, 50],\n",
    "        \"q\": 0.6,\n",
    "        \"PA\": 60 * np.pi / 180,\n",
    "        \"C0\": 2,\n",
    "        \"n\": 3,\n",
    "        \"Re\": 10,\n",
    "        \"Ie\": 1,\n",
    "    },\n",
    "    target=basic_target,\n",
    ")\n",
    "print(M.parameter_order)\n",
    "print(tuple(P.units for P in M.parameters))\n",
    "M.initialize()\n",
    "\n",
    "fig, ax = plt.subplots(1, 2, figsize=(14, 6))\n",
    "ap.plots.model_image(fig, ax[0], M)\n",
    "ap.plots.radial_light_profile(fig, ax[1], M)\n",
    "ax[0].set_title(M.name)\n",
    "plt.show()"
   ]
  },
  {
   "cell_type": "markdown",
   "metadata": {},
   "source": [
    "### Exponential SuperEllipse"
   ]
  },
  {
   "cell_type": "code",
   "execution_count": null,
   "metadata": {},
   "outputs": [],
   "source": [
    "M = ap.models.AstroPhot_Model(\n",
    "    model_type=\"exponential superellipse galaxy model\",\n",
    "    parameters={\"center\": [50, 50], \"q\": 0.6, \"PA\": 60 * np.pi / 180, \"C0\": 2, \"Re\": 10, \"Ie\": 1},\n",
    "    target=basic_target,\n",
    ")\n",
    "print(M.parameter_order)\n",
    "print(tuple(P.units for P in M.parameters))\n",
    "M.initialize()\n",
    "\n",
    "fig, ax = plt.subplots(1, 2, figsize=(14, 6))\n",
    "ap.plots.model_image(fig, ax[0], M)\n",
    "ap.plots.radial_light_profile(fig, ax[1], M)\n",
    "ax[0].set_title(M.name)\n",
    "plt.show()"
   ]
  },
  {
   "cell_type": "markdown",
   "metadata": {},
   "source": [
    "### Gaussian SuperEllipse"
   ]
  },
  {
   "cell_type": "code",
   "execution_count": null,
   "metadata": {},
   "outputs": [],
   "source": [
    "M = ap.models.AstroPhot_Model(\n",
    "    model_type=\"gaussian superellipse galaxy model\",\n",
    "    parameters={\n",
    "        \"center\": [50, 50],\n",
    "        \"q\": 0.6,\n",
    "        \"PA\": 60 * np.pi / 180,\n",
    "        \"C0\": 2,\n",
    "        \"sigma\": 20,\n",
    "        \"flux\": 1,\n",
    "    },\n",
    "    target=basic_target,\n",
    ")\n",
    "print(M.parameter_order)\n",
    "print(tuple(P.units for P in M.parameters))\n",
    "M.initialize()\n",
    "\n",
    "fig, ax = plt.subplots(1, 2, figsize=(14, 6))\n",
    "ap.plots.model_image(fig, ax[0], M)\n",
    "ap.plots.radial_light_profile(fig, ax[1], M)\n",
    "ax[0].set_title(M.name)\n",
    "plt.show()"
   ]
  },
  {
   "cell_type": "markdown",
   "metadata": {},
   "source": [
    "### Nuker SuperEllipse"
   ]
  },
  {
   "cell_type": "code",
   "execution_count": null,
   "metadata": {},
   "outputs": [],
   "source": [
    "M = ap.models.AstroPhot_Model(\n",
    "    model_type=\"nuker superellipse galaxy model\",\n",
    "    parameters={\n",
    "        \"center\": [50, 50],\n",
    "        \"q\": 0.6,\n",
    "        \"PA\": 60 * np.pi / 180,\n",
    "        \"C0\": 2,\n",
    "        \"Rb\": 10.0,\n",
    "        \"Ib\": 1.0,\n",
    "        \"alpha\": 4.0,\n",
    "        \"beta\": 3.0,\n",
    "        \"gamma\": -0.2,\n",
    "    },\n",
    "    target=basic_target,\n",
    ")\n",
    "print(M.parameter_order)\n",
    "print(tuple(P.units for P in M.parameters))\n",
    "M.initialize()\n",
    "\n",
    "fig, ax = plt.subplots(1, 2, figsize=(14, 6))\n",
    "ap.plots.model_image(fig, ax[0], M)\n",
    "ap.plots.radial_light_profile(fig, ax[1], M)\n",
    "ax[0].set_title(M.name)\n",
    "plt.show()"
   ]
  },
  {
   "cell_type": "markdown",
   "metadata": {},
   "source": [
    "## Fourier Ellipse Models\n",
    "\n",
    "A Fourier ellipse is a scaling on the radius values as a function of theta. It takes the form: $R' = R * exp(\\sum_m am*cos(m*theta + phim))$, where am and phim are the parameters which describe the Fourier perturbations. Using the \"modes\" argument as a tuple, users can select which Fourier modes are used. As a rough intuition: mode 1 acts like a shift of the model; mode 2 acts like ellipticity; mode 3 makes a lopsided model (triangular in the extreme); and mode 4 makes peanut/diamond perturbations. "
   ]
  },
  {
   "cell_type": "markdown",
   "metadata": {},
   "source": [
    "### Spline Fourier"
   ]
  },
  {
   "cell_type": "code",
   "execution_count": null,
   "metadata": {},
   "outputs": [],
   "source": [
    "fourier_am = np.array([0.1, 0.3, -0.2])\n",
    "fourier_phim = np.array([10 * np.pi / 180, 0, 40 * np.pi / 180])\n",
    "M = ap.models.AstroPhot_Model(\n",
    "    model_type=\"spline fourier galaxy model\",\n",
    "    parameters={\n",
    "        \"center\": [50, 50],\n",
    "        \"q\": 0.6,\n",
    "        \"PA\": 60 * np.pi / 180,\n",
    "        \"am\": fourier_am,\n",
    "        \"phim\": fourier_phim,\n",
    "        \"I(R)\": {\"value\": spline_profile, \"prof\": NP_prof},\n",
    "    },\n",
    "    target=basic_target,\n",
    ")\n",
    "print(M.parameter_order)\n",
    "print(tuple(P.units for P in M.parameters))\n",
    "M.initialize()\n",
    "\n",
    "fig, ax = plt.subplots(1, 2, figsize=(14, 6))\n",
    "ap.plots.model_image(fig, ax[0], M)\n",
    "ap.plots.radial_light_profile(fig, ax[1], M)\n",
    "ax[0].set_title(M.name)\n",
    "plt.show()"
   ]
  },
  {
   "cell_type": "markdown",
   "metadata": {},
   "source": [
    "### Sersic Fourier"
   ]
  },
  {
   "cell_type": "code",
   "execution_count": null,
   "metadata": {},
   "outputs": [],
   "source": [
    "M = ap.models.AstroPhot_Model(\n",
    "    model_type=\"sersic fourier galaxy model\",\n",
    "    parameters={\n",
    "        \"center\": [50, 50],\n",
    "        \"q\": 0.6,\n",
    "        \"PA\": 60 * np.pi / 180,\n",
    "        \"am\": fourier_am,\n",
    "        \"phim\": fourier_phim,\n",
    "        \"n\": 3,\n",
    "        \"Re\": 10,\n",
    "        \"Ie\": 1,\n",
    "    },\n",
    "    target=basic_target,\n",
    ")\n",
    "print(M.parameter_order)\n",
    "print(tuple(P.units for P in M.parameters))\n",
    "M.initialize()\n",
    "\n",
    "fig, ax = plt.subplots(1, 2, figsize=(14, 6))\n",
    "ap.plots.model_image(fig, ax[0], M)\n",
    "ap.plots.radial_light_profile(fig, ax[1], M)\n",
    "ax[0].set_title(M.name)\n",
    "plt.show()"
   ]
  },
  {
   "cell_type": "markdown",
   "metadata": {},
   "source": [
    "### Exponential Fourier"
   ]
  },
  {
   "cell_type": "code",
   "execution_count": null,
   "metadata": {},
   "outputs": [],
   "source": [
    "M = ap.models.AstroPhot_Model(\n",
    "    model_type=\"exponential fourier galaxy model\",\n",
    "    parameters={\n",
    "        \"center\": [50, 50],\n",
    "        \"q\": 0.6,\n",
    "        \"PA\": 60 * np.pi / 180,\n",
    "        \"am\": fourier_am,\n",
    "        \"phim\": fourier_phim,\n",
    "        \"Re\": 10,\n",
    "        \"Ie\": 1,\n",
    "    },\n",
    "    target=basic_target,\n",
    ")\n",
    "print(M.parameter_order)\n",
    "print(tuple(P.units for P in M.parameters))\n",
    "M.initialize()\n",
    "\n",
    "fig, ax = plt.subplots(1, 2, figsize=(14, 6))\n",
    "ap.plots.model_image(fig, ax[0], M)\n",
    "ap.plots.radial_light_profile(fig, ax[1], M)\n",
    "ax[0].set_title(M.name)\n",
    "plt.show()"
   ]
  },
  {
   "cell_type": "markdown",
   "metadata": {},
   "source": [
    "### Gaussian Fourier"
   ]
  },
  {
   "cell_type": "code",
   "execution_count": null,
   "metadata": {},
   "outputs": [],
   "source": [
    "M = ap.models.AstroPhot_Model(\n",
    "    model_type=\"gaussian fourier galaxy model\",\n",
    "    parameters={\n",
    "        \"center\": [50, 50],\n",
    "        \"q\": 0.6,\n",
    "        \"PA\": 60 * np.pi / 180,\n",
    "        \"am\": fourier_am,\n",
    "        \"phim\": fourier_phim,\n",
    "        \"sigma\": 20,\n",
    "        \"flux\": 1,\n",
    "    },\n",
    "    target=basic_target,\n",
    ")\n",
    "print(M.parameter_order)\n",
    "print(tuple(P.units for P in M.parameters))\n",
    "M.initialize()\n",
    "\n",
    "fig, ax = plt.subplots(1, 2, figsize=(14, 6))\n",
    "ap.plots.model_image(fig, ax[0], M)\n",
    "ap.plots.radial_light_profile(fig, ax[1], M)\n",
    "ax[0].set_title(M.name)\n",
    "plt.show()"
   ]
  },
  {
   "cell_type": "markdown",
   "metadata": {},
   "source": [
    "### Nuker Fourier"
   ]
  },
  {
   "cell_type": "code",
   "execution_count": null,
   "metadata": {},
   "outputs": [],
   "source": [
    "M = ap.models.AstroPhot_Model(\n",
    "    model_type=\"nuker fourier galaxy model\",\n",
    "    parameters={\n",
    "        \"center\": [50, 50],\n",
    "        \"q\": 0.6,\n",
    "        \"PA\": 60 * np.pi / 180,\n",
    "        \"am\": fourier_am,\n",
    "        \"phim\": fourier_phim,\n",
    "        \"Rb\": 10.0,\n",
    "        \"Ib\": 1.0,\n",
    "        \"alpha\": 4.0,\n",
    "        \"beta\": 3.0,\n",
    "        \"gamma\": -0.2,\n",
    "    },\n",
    "    target=basic_target,\n",
    ")\n",
    "print(M.parameter_order)\n",
    "print(tuple(P.units for P in M.parameters))\n",
    "M.initialize()\n",
    "\n",
    "fig, ax = plt.subplots(1, 2, figsize=(14, 6))\n",
    "ap.plots.model_image(fig, ax[0], M)\n",
    "ap.plots.radial_light_profile(fig, ax[1], M)\n",
    "ax[0].set_title(M.name)\n",
    "plt.show()"
   ]
  },
  {
   "cell_type": "markdown",
   "metadata": {},
   "source": [
    "## Warp Model\n",
    "\n",
    "A warp model performs a radially varying coordinate transform. Essentially instead of applying a rotation matrix **Rot** on all coordinates X,Y we instead construct a unique rotation matrix for each coordinate pair **Rot(R)** where $R = \\sqrt(X^2 + Y^2)$. We also apply a radially dependent axis ratio **q(R)** to all the coordinates:\n",
    "\n",
    "$R = \\sqrt(X^2 + Y^2)$\n",
    "\n",
    "$X, Y = Rotate(X, Y, PA(R))$\n",
    "\n",
    "$Y = Y / q(R)$\n",
    "\n",
    "The net effect is a radially varying PA and axis ratio which allows the model to represent spiral arms, bulges, or other features that change the apparent shape of a galaxy in a radially varying way."
   ]
  },
  {
   "cell_type": "markdown",
   "metadata": {},
   "source": [
    "### Spline Warp"
   ]
  },
  {
   "cell_type": "code",
   "execution_count": null,
   "metadata": {},
   "outputs": [],
   "source": [
    "warp_q = np.linspace(0.1, 0.4, 14)\n",
    "warp_pa = np.linspace(0, np.pi - 0.2, 14)\n",
    "M = ap.models.AstroPhot_Model(\n",
    "    model_type=\"spline warp galaxy model\",\n",
    "    parameters={\n",
    "        \"center\": [50, 50],\n",
    "        \"q\": 0.6,\n",
    "        \"PA\": 60 * np.pi / 180,\n",
    "        \"q(R)\": warp_q,\n",
    "        \"PA(R)\": warp_pa,\n",
    "        \"I(R)\": {\"value\": spline_profile, \"prof\": NP_prof},\n",
    "    },\n",
    "    target=basic_target,\n",
    ")\n",
    "print(M.parameter_order)\n",
    "print(tuple(P.units for P in M.parameters))\n",
    "M.initialize()\n",
    "\n",
    "fig, ax = plt.subplots(1, 2, figsize=(14, 6))\n",
    "ap.plots.model_image(fig, ax[0], M)\n",
    "ap.plots.radial_light_profile(fig, ax[1], M)\n",
    "ax[0].set_title(M.name)\n",
    "plt.show()"
   ]
  },
  {
   "cell_type": "markdown",
   "metadata": {},
   "source": [
    "### Sersic Warp"
   ]
  },
  {
   "cell_type": "code",
   "execution_count": null,
   "metadata": {},
   "outputs": [],
   "source": [
    "M = ap.models.AstroPhot_Model(\n",
    "    model_type=\"sersic warp galaxy model\",\n",
    "    parameters={\n",
    "        \"center\": [50, 50],\n",
    "        \"q\": 0.6,\n",
    "        \"PA\": 60 * np.pi / 180,\n",
    "        \"q(R)\": warp_q,\n",
    "        \"PA(R)\": warp_pa,\n",
    "        \"n\": 3,\n",
    "        \"Re\": 10,\n",
    "        \"Ie\": 1,\n",
    "    },\n",
    "    target=basic_target,\n",
    ")\n",
    "print(M.parameter_order)\n",
    "print(tuple(P.units for P in M.parameters))\n",
    "M.initialize()\n",
    "\n",
    "fig, ax = plt.subplots(1, 2, figsize=(14, 6))\n",
    "ap.plots.model_image(fig, ax[0], M)\n",
    "ap.plots.radial_light_profile(fig, ax[1], M)\n",
    "ax[0].set_title(M.name)\n",
    "plt.show()"
   ]
  },
  {
   "cell_type": "markdown",
   "metadata": {},
   "source": [
    "### Exponential Warp"
   ]
  },
  {
   "cell_type": "code",
   "execution_count": null,
   "metadata": {},
   "outputs": [],
   "source": [
    "M = ap.models.AstroPhot_Model(\n",
    "    model_type=\"exponential warp galaxy model\",\n",
    "    parameters={\n",
    "        \"center\": [50, 50],\n",
    "        \"q\": 0.6,\n",
    "        \"PA\": 60 * np.pi / 180,\n",
    "        \"q(R)\": warp_q,\n",
    "        \"PA(R)\": warp_pa,\n",
    "        \"Re\": 10,\n",
    "        \"Ie\": 1,\n",
    "    },\n",
    "    target=basic_target,\n",
    ")\n",
    "print(M.parameter_order)\n",
    "print(tuple(P.units for P in M.parameters))\n",
    "M.initialize()\n",
    "\n",
    "fig, ax = plt.subplots(1, 2, figsize=(14, 6))\n",
    "ap.plots.model_image(fig, ax[0], M)\n",
    "ap.plots.radial_light_profile(fig, ax[1], M)\n",
    "ax[0].set_title(M.name)\n",
    "plt.show()"
   ]
  },
  {
   "cell_type": "markdown",
   "metadata": {},
   "source": [
    "### Gaussian Warp"
   ]
  },
  {
   "cell_type": "code",
   "execution_count": null,
   "metadata": {},
   "outputs": [],
   "source": [
    "M = ap.models.AstroPhot_Model(\n",
    "    model_type=\"gaussian warp galaxy model\",\n",
    "    parameters={\n",
    "        \"center\": [50, 50],\n",
    "        \"q\": 0.6,\n",
    "        \"PA\": 60 * np.pi / 180,\n",
    "        \"q(R)\": warp_q,\n",
    "        \"PA(R)\": warp_pa,\n",
    "        \"sigma\": 30,\n",
    "        \"flux\": 1,\n",
    "    },\n",
    "    target=basic_target,\n",
    ")\n",
    "print(M.parameter_order)\n",
    "print(tuple(P.units for P in M.parameters))\n",
    "M.initialize()\n",
    "\n",
    "fig, ax = plt.subplots(1, 2, figsize=(14, 6))\n",
    "ap.plots.model_image(fig, ax[0], M)\n",
    "ap.plots.radial_light_profile(fig, ax[1], M)\n",
    "ax[0].set_title(M.name)\n",
    "plt.show()"
   ]
  },
  {
   "cell_type": "markdown",
   "metadata": {},
   "source": [
    "### Nuker Warp"
   ]
  },
  {
   "cell_type": "code",
   "execution_count": null,
   "metadata": {},
   "outputs": [],
   "source": [
    "M = ap.models.AstroPhot_Model(\n",
    "    model_type=\"nuker warp galaxy model\",\n",
    "    parameters={\n",
    "        \"center\": [50, 50],\n",
    "        \"q\": 0.6,\n",
    "        \"PA\": 60 * np.pi / 180,\n",
    "        \"q(R)\": warp_q,\n",
    "        \"PA(R)\": warp_pa,\n",
    "        \"Rb\": 10.0,\n",
    "        \"Ib\": 1.0,\n",
    "        \"alpha\": 4.0,\n",
    "        \"beta\": 3.0,\n",
    "        \"gamma\": -0.2,\n",
    "    },\n",
    "    target=basic_target,\n",
    ")\n",
    "print(M.parameter_order)\n",
    "print(tuple(P.units for P in M.parameters))\n",
    "M.initialize()\n",
    "\n",
    "fig, ax = plt.subplots(1, 2, figsize=(14, 6))\n",
    "ap.plots.model_image(fig, ax[0], M)\n",
    "ap.plots.radial_light_profile(fig, ax[1], M)\n",
    "ax[0].set_title(M.name)\n",
    "plt.show()"
   ]
  },
  {
   "cell_type": "markdown",
   "metadata": {},
   "source": [
    "## Ray Model\n",
    "\n",
    "A ray model allows the user to break the galaxy up into regions that can be fit separately. There are two basic kinds of ray model: symmetric and asymmetric. A symmetric ray model (symmetric_rays = True) assumes 180 degree symmetry of the galaxy and so each ray is reflected through the center. This means that essentially the major axes and the minor axes are being fit separately. For an asymmetric ray model (symmetric_rays = False) each ray is it's own profile to be fit separately. \n",
    "\n",
    "In a ray model there is a smooth boundary between the rays. This smoothness is accomplished by applying a $(\\cos(r*theta)+1)/2$ weight to each profile, where r is dependent on the number of rays and theta is shifted to center on each ray in turn. The exact cosine weighting is dependent on if the rays are symmetric and if there is an even or odd number of rays. "
   ]
  },
  {
   "cell_type": "markdown",
   "metadata": {},
   "source": [
    "### Spline Ray"
   ]
  },
  {
   "cell_type": "code",
   "execution_count": null,
   "metadata": {},
   "outputs": [],
   "source": [
    "M = ap.models.AstroPhot_Model(\n",
    "    model_type=\"spline ray galaxy model\",\n",
    "    symmetric_rays=True,\n",
    "    rays=2,\n",
    "    parameters={\n",
    "        \"center\": [50, 50],\n",
    "        \"q\": 0.6,\n",
    "        \"PA\": 60 * np.pi / 180,\n",
    "        \"I(R)\": {\"value\": np.array([spline_profile * 2, spline_profile]), \"prof\": NP_prof},\n",
    "    },\n",
    "    target=basic_target,\n",
    ")\n",
    "print(M.parameter_order)\n",
    "print(tuple(P.units for P in M.parameters))\n",
    "M.initialize()\n",
    "\n",
    "fig, ax = plt.subplots(1, 2, figsize=(14, 6))\n",
    "ap.plots.model_image(fig, ax[0], M)\n",
    "ap.plots.ray_light_profile(fig, ax[1], M)\n",
    "ax[0].set_title(M.name)\n",
    "plt.show()"
   ]
  },
  {
   "cell_type": "markdown",
   "metadata": {},
   "source": [
    "### Sersic Ray"
   ]
  },
  {
   "cell_type": "code",
   "execution_count": null,
   "metadata": {},
   "outputs": [],
   "source": [
    "M = ap.models.AstroPhot_Model(\n",
    "    model_type=\"sersic ray galaxy model\",\n",
    "    symmetric_rays=True,\n",
    "    rays=2,\n",
    "    parameters={\n",
    "        \"center\": [50, 50],\n",
    "        \"q\": 0.6,\n",
    "        \"PA\": 60 * np.pi / 180,\n",
    "        \"n\": [1, 3],\n",
    "        \"Re\": [10, 5],\n",
    "        \"Ie\": [1, 0.5],\n",
    "    },\n",
    "    target=basic_target,\n",
    ")\n",
    "print(M.parameter_order)\n",
    "print(tuple(P.units for P in M.parameters))\n",
    "M.initialize()\n",
    "\n",
    "fig, ax = plt.subplots(1, 2, figsize=(14, 6))\n",
    "ap.plots.model_image(fig, ax[0], M)\n",
    "ap.plots.ray_light_profile(fig, ax[1], M)\n",
    "ax[0].set_title(M.name)\n",
    "plt.show()"
   ]
  },
  {
   "cell_type": "markdown",
   "metadata": {},
   "source": [
    "### Exponential Ray"
   ]
  },
  {
   "cell_type": "code",
   "execution_count": null,
   "metadata": {},
   "outputs": [],
   "source": [
    "M = ap.models.AstroPhot_Model(\n",
    "    model_type=\"exponential ray galaxy model\",\n",
    "    symmetric_rays=True,\n",
    "    rays=2,\n",
    "    parameters={\"center\": [50, 50], \"q\": 0.6, \"PA\": 60 * np.pi / 180, \"Re\": [10, 5], \"Ie\": [1, 2]},\n",
    "    target=basic_target,\n",
    ")\n",
    "print(M.parameter_order)\n",
    "print(tuple(P.units for P in M.parameters))\n",
    "M.initialize()\n",
    "\n",
    "fig, ax = plt.subplots(1, 2, figsize=(14, 6))\n",
    "ap.plots.model_image(fig, ax[0], M)\n",
    "ap.plots.ray_light_profile(fig, ax[1], M)\n",
    "ax[0].set_title(M.name)\n",
    "plt.show()"
   ]
  },
  {
   "cell_type": "markdown",
   "metadata": {},
   "source": [
    "### Gaussian Ray"
   ]
  },
  {
   "cell_type": "code",
   "execution_count": null,
   "metadata": {},
   "outputs": [],
   "source": [
    "M = ap.models.AstroPhot_Model(\n",
    "    model_type=\"gaussian ray galaxy model\",\n",
    "    symmetric_rays=True,\n",
    "    rays=2,\n",
    "    parameters={\n",
    "        \"center\": [50, 50],\n",
    "        \"q\": 0.6,\n",
    "        \"PA\": 60 * np.pi / 180,\n",
    "        \"sigma\": [10, 20],\n",
    "        \"flux\": [1.5, 1.0],\n",
    "    },\n",
    "    target=basic_target,\n",
    ")\n",
    "print(M.parameter_order)\n",
    "print(tuple(P.units for P in M.parameters))\n",
    "M.initialize()\n",
    "\n",
    "fig, ax = plt.subplots(1, 2, figsize=(14, 6))\n",
    "ap.plots.model_image(fig, ax[0], M)\n",
    "ap.plots.ray_light_profile(fig, ax[1], M)\n",
    "ax[0].set_title(M.name)\n",
    "plt.show()"
   ]
  },
  {
   "cell_type": "markdown",
   "metadata": {},
   "source": [
    "### Nuker Ray"
   ]
  },
  {
   "cell_type": "code",
   "execution_count": null,
   "metadata": {},
   "outputs": [],
   "source": [
    "M = ap.models.AstroPhot_Model(\n",
    "    model_type=\"nuker ray galaxy model\",\n",
    "    symmetric_rays=True,\n",
    "    rays=2,\n",
    "    parameters={\n",
    "        \"center\": [50, 50],\n",
    "        \"q\": 0.6,\n",
    "        \"PA\": 60 * np.pi / 180,\n",
    "        \"Rb\": [10.0, 1.0],\n",
    "        \"Ib\": [1.0, 0.0],\n",
    "        \"alpha\": [4.0, 1.0],\n",
    "        \"beta\": [3.0, 1.0],\n",
    "        \"gamma\": [-0.2, 0.2],\n",
    "    },\n",
    "    target=basic_target,\n",
    ")\n",
    "print(M.parameter_order)\n",
    "print(tuple(P.units for P in M.parameters))\n",
    "M.initialize()\n",
    "\n",
    "fig, ax = plt.subplots(1, 2, figsize=(14, 6))\n",
    "ap.plots.model_image(fig, ax[0], M)\n",
    "ap.plots.ray_light_profile(fig, ax[1], M)\n",
    "ax[0].set_title(M.name)\n",
    "plt.show()"
   ]
  },
  {
   "cell_type": "markdown",
   "metadata": {},
   "source": [
    "## Wedge Model\n",
    "\n",
    "A wedge model behaves just like a ray model, except the boundaries are sharp. This has the advantage that the wedges can be very different in brightness without the \"smoothing\" from the ray model washing out the dimmer one. It also has the advantage of less \"mixing\" of information between the rays, each one can be counted on to have fit only the pixels in it's wedge without any influence from a neighbor. However, it has the disadvantage that the discontinuity at the boundary makes fitting behave strangely when a bright spot lays near the boundary."
   ]
  },
  {
   "cell_type": "markdown",
   "metadata": {},
   "source": [
    "### Spline Wedge"
   ]
  },
  {
   "cell_type": "code",
   "execution_count": null,
   "metadata": {},
   "outputs": [],
   "source": [
    "M = ap.models.AstroPhot_Model(\n",
    "    model_type=\"spline wedge galaxy model\",\n",
    "    symmetric_wedges=True,\n",
    "    wedges=2,\n",
    "    parameters={\n",
    "        \"center\": [50, 50],\n",
    "        \"q\": 0.6,\n",
    "        \"PA\": 60 * np.pi / 180,\n",
    "        \"I(R)\": {\"value\": np.array([spline_profile, spline_profile * 2]), \"prof\": NP_prof},\n",
    "    },\n",
    "    target=basic_target,\n",
    ")\n",
    "print(M.parameter_order)\n",
    "print(tuple(P.units for P in M.parameters))\n",
    "M.initialize()\n",
    "\n",
    "fig, ax = plt.subplots(1, 2, figsize=(14, 6))\n",
    "ap.plots.model_image(fig, ax[0], M)\n",
    "ap.plots.wedge_light_profile(fig, ax[1], M)\n",
    "ax[0].set_title(M.name)\n",
    "plt.show()"
   ]
  },
  {
   "cell_type": "markdown",
   "metadata": {},
   "source": [
    "## High Order Warp Models\n",
    "\n",
    "The models below combine the Warp coordinate transform with radial behaviour transforms: SuperEllipse and Fourier. These higher order models can create highly complex shapes, though their scientific use-case is less clear. They are included for completeness as they may be useful in some specific instances. These models are also included to demonstrate the flexibility in making AstroPhot models, in a future tutorial we will discuss how to make your own model types."
   ]
  },
  {
   "cell_type": "markdown",
   "metadata": {},
   "source": [
    "### Spline SuperEllipse Warp"
   ]
  },
  {
   "cell_type": "code",
   "execution_count": null,
   "metadata": {},
   "outputs": [],
   "source": [
    "M = ap.models.AstroPhot_Model(\n",
    "    model_type=\"spline superellipse warp galaxy model\",\n",
    "    parameters={\n",
    "        \"center\": [50, 50],\n",
    "        \"q\": 0.6,\n",
    "        \"PA\": 60 * np.pi / 180,\n",
    "        \"q(R)\": warp_q,\n",
    "        \"PA(R)\": warp_pa,\n",
    "        \"C0\": 2,\n",
    "        \"I(R)\": {\"value\": spline_profile, \"prof\": NP_prof},\n",
    "    },\n",
    "    target=basic_target,\n",
    ")\n",
    "print(M.parameter_order)\n",
    "print(tuple(P.units for P in M.parameters))\n",
    "M.initialize()\n",
    "\n",
    "fig, ax = plt.subplots(1, 2, figsize=(14, 6))\n",
    "ap.plots.model_image(fig, ax[0], M)\n",
    "ap.plots.radial_light_profile(fig, ax[1], M)\n",
    "ax[0].set_title(M.name)\n",
    "plt.show()"
   ]
  },
  {
   "cell_type": "markdown",
   "metadata": {},
   "source": [
    "### Sersic SuperEllipse Warp"
   ]
  },
  {
   "cell_type": "code",
   "execution_count": null,
   "metadata": {},
   "outputs": [],
   "source": [
    "M = ap.models.AstroPhot_Model(\n",
    "    model_type=\"sersic superellipse warp galaxy model\",\n",
    "    parameters={\n",
    "        \"center\": [50, 50],\n",
    "        \"q\": 0.6,\n",
    "        \"PA\": 60 * np.pi / 180,\n",
    "        \"q(R)\": warp_q,\n",
    "        \"PA(R)\": warp_pa,\n",
    "        \"C0\": 2,\n",
    "        \"n\": 3,\n",
    "        \"Re\": 10,\n",
    "        \"Ie\": 1,\n",
    "    },\n",
    "    target=basic_target,\n",
    ")\n",
    "print(M.parameter_order)\n",
    "print(tuple(P.units for P in M.parameters))\n",
    "M.initialize()\n",
    "\n",
    "fig, ax = plt.subplots(1, 2, figsize=(14, 6))\n",
    "ap.plots.model_image(fig, ax[0], M)\n",
    "ap.plots.radial_light_profile(fig, ax[1], M)\n",
    "ax[0].set_title(M.name)\n",
    "plt.show()"
   ]
  },
  {
   "cell_type": "markdown",
   "metadata": {},
   "source": [
    "### Exponential SuperEllipse Warp"
   ]
  },
  {
   "cell_type": "code",
   "execution_count": null,
   "metadata": {},
   "outputs": [],
   "source": [
    "M = ap.models.AstroPhot_Model(\n",
    "    model_type=\"exponential superellipse warp galaxy model\",\n",
    "    parameters={\n",
    "        \"center\": [50, 50],\n",
    "        \"q\": 0.6,\n",
    "        \"PA\": 60 * np.pi / 180,\n",
    "        \"q(R)\": warp_q,\n",
    "        \"PA(R)\": warp_pa,\n",
    "        \"C0\": 2,\n",
    "        \"Re\": 10,\n",
    "        \"Ie\": 1,\n",
    "    },\n",
    "    target=basic_target,\n",
    ")\n",
    "print(M.parameter_order)\n",
    "print(tuple(P.units for P in M.parameters))\n",
    "M.initialize()\n",
    "\n",
    "fig, ax = plt.subplots(1, 2, figsize=(14, 6))\n",
    "ap.plots.model_image(fig, ax[0], M)\n",
    "ap.plots.radial_light_profile(fig, ax[1], M)\n",
    "ax[0].set_title(M.name)\n",
    "plt.show()"
   ]
  },
  {
   "cell_type": "markdown",
   "metadata": {},
   "source": [
    "### Gaussian SuperEllipse Warp"
   ]
  },
  {
   "cell_type": "code",
   "execution_count": null,
   "metadata": {},
   "outputs": [],
   "source": [
    "M = ap.models.AstroPhot_Model(\n",
    "    model_type=\"gaussian superellipse warp galaxy model\",\n",
    "    parameters={\n",
    "        \"center\": [50, 50],\n",
    "        \"q\": 0.6,\n",
    "        \"PA\": 60 * np.pi / 180,\n",
    "        \"q(R)\": warp_q,\n",
    "        \"PA(R)\": warp_pa,\n",
    "        \"C0\": 2,\n",
    "        \"sigma\": 30,\n",
    "        \"flux\": 1,\n",
    "    },\n",
    "    target=basic_target,\n",
    ")\n",
    "print(M.parameter_order)\n",
    "print(tuple(P.units for P in M.parameters))\n",
    "M.initialize()\n",
    "\n",
    "fig, ax = plt.subplots(1, 2, figsize=(14, 6))\n",
    "ap.plots.model_image(fig, ax[0], M)\n",
    "ap.plots.radial_light_profile(fig, ax[1], M)\n",
    "ax[0].set_title(M.name)\n",
    "plt.show()"
   ]
  },
  {
   "cell_type": "markdown",
   "metadata": {},
   "source": [
    "### Spline Fourier Warp\n",
    "\n",
    "not sure how this abomination would fit a galaxy, but you are welcome to try"
   ]
  },
  {
   "cell_type": "code",
   "execution_count": null,
   "metadata": {},
   "outputs": [],
   "source": [
    "M = ap.models.AstroPhot_Model(\n",
    "    model_type=\"spline fourier warp galaxy model\",\n",
    "    modes=(1, 3, 4),\n",
    "    parameters={\n",
    "        \"center\": [50, 50],\n",
    "        \"q\": 0.6,\n",
    "        \"PA\": 60 * np.pi / 180,\n",
    "        \"q(R)\": warp_q,\n",
    "        \"PA(R)\": warp_pa,\n",
    "        \"am\": fourier_am,\n",
    "        \"phim\": fourier_phim,\n",
    "        \"I(R)\": {\"value\": spline_profile, \"prof\": NP_prof},\n",
    "    },\n",
    "    target=basic_target,\n",
    ")\n",
    "print(M.parameter_order)\n",
    "print(tuple(P.units for P in M.parameters))\n",
    "M.initialize()\n",
    "\n",
    "fig, ax = plt.subplots(1, 2, figsize=(14, 6))\n",
    "ap.plots.model_image(fig, ax[0], M)\n",
    "ap.plots.radial_light_profile(fig, ax[1], M)\n",
    "ax[0].set_title(M.name)\n",
    "plt.show()"
   ]
  },
  {
   "cell_type": "markdown",
   "metadata": {},
   "source": [
    "### Sersic Fourier Warp"
   ]
  },
  {
   "cell_type": "code",
   "execution_count": null,
   "metadata": {},
   "outputs": [],
   "source": [
    "M = ap.models.AstroPhot_Model(\n",
    "    model_type=\"sersic fourier warp galaxy model\",\n",
    "    parameters={\n",
    "        \"center\": [50, 50],\n",
    "        \"q\": 0.6,\n",
    "        \"PA\": 60 * np.pi / 180,\n",
    "        \"q(R)\": warp_q,\n",
    "        \"PA(R)\": warp_pa,\n",
    "        \"am\": fourier_am,\n",
    "        \"phim\": fourier_phim,\n",
    "        \"n\": 3,\n",
    "        \"Re\": 10,\n",
    "        \"Ie\": 1,\n",
    "    },\n",
    "    target=basic_target,\n",
    ")\n",
    "print(M.parameter_order)\n",
    "print(tuple(P.units for P in M.parameters))\n",
    "M.initialize()\n",
    "\n",
    "fig, ax = plt.subplots(1, 2, figsize=(14, 6))\n",
    "ap.plots.model_image(fig, ax[0], M)\n",
    "ap.plots.radial_light_profile(fig, ax[1], M)\n",
    "ax[0].set_title(M.name)\n",
    "plt.show()"
   ]
  },
  {
   "cell_type": "markdown",
   "metadata": {},
   "source": [
    "### Exponential Fourier Warp"
   ]
  },
  {
   "cell_type": "code",
   "execution_count": null,
   "metadata": {},
   "outputs": [],
   "source": [
    "M = ap.models.AstroPhot_Model(\n",
    "    model_type=\"exponential fourier warp galaxy model\",\n",
    "    parameters={\n",
    "        \"center\": [50, 50],\n",
    "        \"q\": 0.6,\n",
    "        \"PA\": 60 * np.pi / 180,\n",
    "        \"q(R)\": warp_q,\n",
    "        \"PA(R)\": warp_pa,\n",
    "        \"am\": fourier_am,\n",
    "        \"phim\": fourier_phim,\n",
    "        \"Re\": 10,\n",
    "        \"Ie\": 1,\n",
    "    },\n",
    "    target=basic_target,\n",
    ")\n",
    "print(M.parameter_order)\n",
    "print(tuple(P.units for P in M.parameters))\n",
    "M.initialize()\n",
    "\n",
    "fig, ax = plt.subplots(1, 2, figsize=(14, 6))\n",
    "ap.plots.model_image(fig, ax[0], M)\n",
    "ap.plots.radial_light_profile(fig, ax[1], M)\n",
    "ax[0].set_title(M.name)\n",
    "plt.show()"
   ]
  },
  {
   "cell_type": "markdown",
   "metadata": {},
   "source": [
    "### Gassian Fourier Warp"
   ]
  },
  {
   "cell_type": "code",
   "execution_count": null,
   "metadata": {},
   "outputs": [],
   "source": [
    "M = ap.models.AstroPhot_Model(\n",
    "    model_type=\"gaussian fourier warp galaxy model\",\n",
    "    parameters={\n",
    "        \"center\": [50, 50],\n",
    "        \"q\": 0.6,\n",
    "        \"PA\": 60 * np.pi / 180,\n",
    "        \"q(R)\": warp_q,\n",
    "        \"PA(R)\": warp_pa,\n",
    "        \"am\": fourier_am,\n",
    "        \"phim\": fourier_phim,\n",
    "        \"sigma\": 20,\n",
    "        \"flux\": 1,\n",
    "    },\n",
    "    target=basic_target,\n",
    ")\n",
    "print(M.parameter_order)\n",
    "print(tuple(P.units for P in M.parameters))\n",
    "M.initialize()\n",
    "\n",
    "fig, ax = plt.subplots(1, 2, figsize=(14, 6))\n",
    "ap.plots.model_image(fig, ax[0], M)\n",
    "ap.plots.radial_light_profile(fig, ax[1], M)\n",
    "ax[0].set_title(M.name)\n",
    "plt.show()"
   ]
  },
  {
   "cell_type": "code",
   "execution_count": null,
   "metadata": {},
   "outputs": [],
   "source": []
  }
 ],
 "metadata": {
  "language_info": {
   "codemirror_mode": {
    "name": "ipython",
    "version": 3
   },
   "file_extension": ".py",
   "mimetype": "text/x-python",
   "name": "python",
   "nbconvert_exporter": "python",
   "pygments_lexer": "ipython3"
  }
 },
 "nbformat": 4,
 "nbformat_minor": 4
}
