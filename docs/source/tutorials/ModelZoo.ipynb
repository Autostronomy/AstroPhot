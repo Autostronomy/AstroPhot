{
 "cells": [
  {
   "cell_type": "markdown",
   "metadata": {},
   "source": [
    "# Model Zoo\n",
    "\n",
    "In this notebook you will see every kind of model in AstroPhot. Printed in each cell will also be the list of parameters which the model looks for while fitting. Many models have unique capabilities and features, this will be introduced here, though fully taking advantage of them will be dependent on your science case.\n",
    "\n",
    "For a family tree of all the AstroPhot models see [this link](https://github.com/Autostronomy/AstroPhot/blob/main/media/AstroPhotModelOrgchart.png) \n",
    "\n",
    "Note, we will not be covering `Group_Model` here as that requires a dedicated discussion. See the dedicated notebook for that."
   ]
  },
  {
   "cell_type": "code",
   "execution_count": null,
   "metadata": {},
   "outputs": [],
   "source": [
    "%load_ext autoreload\n",
    "%autoreload 2\n",
    "%matplotlib inline\n",
    "\n",
    "import astrophot as ap\n",
    "import numpy as np\n",
    "import matplotlib.pyplot as plt\n",
    "import matplotlib.animation as animation\n",
    "from IPython.display import HTML\n",
    "\n",
    "basic_target = ap.TargetImage(data=np.zeros((100, 100)), pixelscale=1, zeropoint=20)"
   ]
  },
  {
   "cell_type": "markdown",
   "metadata": {},
   "source": [
    "## Sky Models"
   ]
  },
  {
   "cell_type": "markdown",
   "metadata": {},
   "source": [
    "### Flat Sky Model"
   ]
  },
  {
   "cell_type": "code",
   "execution_count": null,
   "metadata": {},
   "outputs": [],
   "source": [
    "M = ap.Model(model_type=\"flat sky model\", center=[50, 50], I=1, target=basic_target)\n",
    "M.initialize()\n",
    "\n",
    "fig, ax = plt.subplots(figsize=(7, 6))\n",
    "ap.plots.model_image(fig, ax, M)\n",
    "ax.set_title(M.name)\n",
    "plt.show()"
   ]
  },
  {
   "cell_type": "markdown",
   "metadata": {},
   "source": [
    "### Plane Sky Model"
   ]
  },
  {
   "cell_type": "code",
   "execution_count": null,
   "metadata": {},
   "outputs": [],
   "source": [
    "M = ap.Model(\n",
    "    model_type=\"plane sky model\",\n",
    "    center=[50, 50],\n",
    "    I0=10,\n",
    "    delta=[1e-2, 2e-2],\n",
    "    target=basic_target,\n",
    ")\n",
    "M.initialize()\n",
    "\n",
    "fig, ax = plt.subplots(figsize=(7, 6))\n",
    "ap.plots.model_image(fig, ax, M)\n",
    "ax.set_title(M.name)\n",
    "plt.show()"
   ]
  },
  {
   "cell_type": "markdown",
   "metadata": {},
   "source": [
    "### Bilinear Sky Model\n",
    "\n",
    "This allows for a complex sky model which can vary arbitrarily as a function of position. Here we plot a sky that is just noise, but one would typically make it smoothly varying. The noise sky makes the nature of bilinear interpolation very clear, large flux changes can create sharp edges in the reconstruction."
   ]
  },
  {
   "cell_type": "code",
   "execution_count": null,
   "metadata": {},
   "outputs": [],
   "source": [
    "np.random.seed(42)\n",
    "M = ap.Model(\n",
    "    model_type=\"bilinear sky model\",\n",
    "    I=np.random.uniform(0, 1, (5, 5)) + 1,\n",
    "    target=basic_target,\n",
    ")\n",
    "M.initialize()\n",
    "\n",
    "fig, ax = plt.subplots(figsize=(7, 6))\n",
    "ap.plots.model_image(fig, ax, M)\n",
    "ax.set_title(M.name)\n",
    "plt.show()"
   ]
  },
  {
   "cell_type": "markdown",
   "metadata": {},
   "source": [
    "## Point Source Function (PSF) Models\n",
    "\n",
    "These models are well suited to describe stars or any other point like source of light, they may also be used to convolve with other models during optimization. Some things to keep in mind about PSF models:\n",
    "\n",
    "- Their \"target\" should be a `PSFImage` object\n",
    "- They are always centered at (0,0) so there is no need to optimize the center position\n",
    "- Their total flux is typically normalized to 1, so no need to optimize any normalization parameters\n",
    "- They can be used in a lot of places that a `PSFImage` can be used, such as the convolution kernel for a model\n",
    "\n",
    "They behave a bit differently than other models, see the point source model further down. A PSF describes the abstract point source light distribution, to actually model a star in a field you will need a `point model` object (further down) to represent a delta function of brightness with some total flux."
   ]
  },
  {
   "cell_type": "code",
   "execution_count": null,
   "metadata": {},
   "outputs": [],
   "source": [
    "np.random.seed(124)\n",
    "psf = ap.utils.initialize.gaussian_psf(3.0, 101, 1.0)\n",
    "psf[50] += np.mean(psf)\n",
    "psf[:, 50] += np.mean(psf)\n",
    "psf += 1e-10\n",
    "psf += np.random.normal(scale=psf / 3)\n",
    "psf[psf < 0] = ap.utils.initialize.gaussian_psf(3.0, 101, 1.0)[psf < 0] + 1e-10\n",
    "\n",
    "psf_target = ap.PSFImage(\n",
    "    data=psf / np.sum(psf),\n",
    "    pixelscale=1,\n",
    ")\n",
    "fig, ax = plt.subplots()\n",
    "ap.plots.psf_image(fig, ax, psf_target)\n",
    "ax.set_title(\"mock empirical PSF\")\n",
    "plt.show()"
   ]
  },
  {
   "cell_type": "markdown",
   "metadata": {},
   "source": [
    "### Pixelated point source\n",
    "\n",
    "Note that in this model you can define an arbitrary pixel map, for the sake of demonstration we build an extremely oversimplified mock diffraction spike model."
   ]
  },
  {
   "cell_type": "code",
   "execution_count": null,
   "metadata": {},
   "outputs": [],
   "source": [
    "from scipy.special import sinc\n",
    "\n",
    "xx, yy = np.meshgrid(np.linspace(-50, 50, 101), np.linspace(-50, 50, 101))\n",
    "x = np.sqrt(xx**2 + yy**2) / 15\n",
    "PSF = np.zeros_like(x) + 1e-6\n",
    "wgt = np.array((0.0001, 0.01, 1.0, 0.01, 0.0001))\n",
    "PSF[48:53] += (sinc(x[48:53]) ** 2) * wgt.reshape((-1, 1))\n",
    "PSF[:, 48:53] += (sinc(x[:, 48:53]) ** 2) * wgt\n",
    "PSF = ap.PSFImage(data=PSF, pixelscale=psf_target.pixelscale)\n",
    "\n",
    "M = ap.Model(\n",
    "    model_type=\"pixelated psf model\",\n",
    "    target=psf_target,\n",
    "    pixels=PSF.data / psf_target.pixel_area,\n",
    ")\n",
    "M.initialize()\n",
    "\n",
    "fig, ax = plt.subplots(1, 2, figsize=(14, 6))\n",
    "ap.plots.psf_image(fig, ax[0], M)\n",
    "x = np.linspace(0, 49, 99) / 20\n",
    "ax[1].plot(x, sinc(x) ** 2 + 1e-5)\n",
    "ax[1].set_yscale(\"log\")\n",
    "ax[0].set_title(M.name)\n",
    "plt.show()"
   ]
  },
  {
   "cell_type": "markdown",
   "metadata": {},
   "source": [
    "### Gaussian PSF\n",
    "\n",
    "Never a great PSF model, but the Gaussian is simple. This makes it a good starting choice to get results before stepping up the complexity level."
   ]
  },
  {
   "cell_type": "code",
   "execution_count": null,
   "metadata": {},
   "outputs": [],
   "source": [
    "M = ap.Model(model_type=\"gaussian psf model\", sigma=10, target=psf_target)\n",
    "M.initialize()\n",
    "fig, ax = plt.subplots(1, 2, figsize=(14, 6))\n",
    "ap.plots.psf_image(fig, ax[0], M)\n",
    "ap.plots.radial_light_profile(fig, ax[1], M)\n",
    "ax[0].set_title(M.name)\n",
    "plt.show()"
   ]
  },
  {
   "cell_type": "markdown",
   "metadata": {},
   "source": [
    "### Moffat PSF"
   ]
  },
  {
   "cell_type": "code",
   "execution_count": null,
   "metadata": {},
   "outputs": [],
   "source": [
    "M = ap.Model(model_type=\"moffat psf model\", n=2.0, Rd=10.0, target=psf_target)\n",
    "M.initialize()\n",
    "\n",
    "fig, ax = plt.subplots(1, 2, figsize=(14, 6))\n",
    "ap.plots.psf_image(fig, ax[0], M)\n",
    "ap.plots.radial_light_profile(fig, ax[1], M)\n",
    "ax[0].set_title(M.name)\n",
    "plt.show()"
   ]
  },
  {
   "cell_type": "markdown",
   "metadata": {},
   "source": [
    "## 2D Moffat PSF\n",
    "\n",
    "Like a Moffat, but can have a axis ratio and position angle. This could be used to make parametric spikes, or account for very slight asymmetry in a PSF."
   ]
  },
  {
   "cell_type": "code",
   "execution_count": null,
   "metadata": {},
   "outputs": [],
   "source": [
    "M = ap.Model(\n",
    "    model_type=\"2d moffat psf model\",\n",
    "    n=2.0,\n",
    "    Rd=10.0,\n",
    "    q=0.7,\n",
    "    PA=3.14 / 3,\n",
    "    target=psf_target,\n",
    ")\n",
    "M.initialize()\n",
    "\n",
    "fig, ax = plt.subplots(1, 2, figsize=(14, 6))\n",
    "ap.plots.psf_image(fig, ax[0], M)\n",
    "ap.plots.radial_light_profile(fig, ax[1], M)\n",
    "ax[0].set_title(M.name)\n",
    "plt.show()"
   ]
  },
  {
   "cell_type": "markdown",
   "metadata": {},
   "source": [
    "### Airy disk PSF"
   ]
  },
  {
   "cell_type": "code",
   "execution_count": null,
   "metadata": {},
   "outputs": [],
   "source": [
    "M = ap.Model(\n",
    "    model_type=\"airy psf model\",\n",
    "    aRL=1.0 / 20,\n",
    "    target=psf_target,\n",
    ")\n",
    "M.initialize()\n",
    "\n",
    "fig, ax = plt.subplots(1, 2, figsize=(14, 6))\n",
    "ap.plots.psf_image(fig, ax[0], M)\n",
    "ap.plots.radial_light_profile(fig, ax[1], M)\n",
    "ax[0].set_title(M.name)\n",
    "plt.show()"
   ]
  },
  {
   "cell_type": "markdown",
   "metadata": {},
   "source": [
    "### Basis PSF\n",
    "\n",
    "A basis psf model allows one to provide a series of images such as an Eigen decomposition or a Zernike polynomial (or any other basis one likes). The weight of each component is fit to determine the final model. If a suitable basis is chosen then it is possible to encode highly complex models with only a few free parameters as the weights. \n",
    "\n",
    "For the `basis` argument one may provide the basis manually (N imgs, H, W) or simply provide `\"zernike:n\"` where `n` gives the Zernike order up to which will be fit.\n",
    "\n",
    "As the basis may be provided manually, one can even provide a base PSF model as the first component and then use the Zernike coefficients as perturbations."
   ]
  },
  {
   "cell_type": "code",
   "execution_count": null,
   "metadata": {},
   "outputs": [],
   "source": [
    "w = [1.5, 0, 0, 0.0, -0.5, 0, 0.5, 0, 0, 0, 0.0, 0, 1, 0, 0]\n",
    "M = ap.Model(model_type=\"basis psf model\", basis=\"zernike:4\", weights=w, target=psf_target)\n",
    "M.initialize()\n",
    "nm_list = ap.models.func.zernike_n_m_list(4)\n",
    "fig, axarr = plt.subplots(3, 5, figsize=(18, 10))\n",
    "for i, ax in enumerate(axarr.flatten()):\n",
    "    ax.set_title(f\"n: {nm_list[i][0]} m: {nm_list[i][1]}\")\n",
    "    ax.imshow(M.basis[i], cmap=\"RdBu_r\", origin=\"lower\")\n",
    "    plt.colorbar(ax.images[0], ax=ax, fraction=0.046, pad=0.04)\n",
    "    ax.axis(\"off\")\n",
    "plt.show()\n",
    "fig, ax = plt.subplots(1, 2, figsize=(14, 6))\n",
    "ap.plots.psf_image(fig, ax[0], M, vmin=5e-5)\n",
    "ax[1].plot(np.arange(1, 16), M.weights.value.numpy(), marker=\"o\")\n",
    "ax[1].set_xlabel(\"Zernike mode index\")\n",
    "ax[1].set_ylabel(\"Weight\")\n",
    "ax[0].set_title(\"Zernike basis PSF model\")\n",
    "plt.show()"
   ]
  },
  {
   "cell_type": "markdown",
   "metadata": {},
   "source": [
    "## The Point Source Model\n",
    "\n",
    "This model is used to represent point sources in the sky such as stars, supernovae, asteroids, small galaxies, quasars, and more. It is effectively a delta function at a given position with a given flux. Otherwise it has no structure. You must provide it a PSF model so that it can project into the sky. That PSF model may take the form of an image (`PSFImage` object) or may itself be a psf model with its own parameters."
   ]
  },
  {
   "cell_type": "markdown",
   "metadata": {},
   "source": [
    "### Point Source using PSFImage"
   ]
  },
  {
   "cell_type": "code",
   "execution_count": null,
   "metadata": {},
   "outputs": [],
   "source": [
    "M = ap.Model(\n",
    "    model_type=\"point model\",\n",
    "    center=[50, 50],\n",
    "    flux=10,\n",
    "    psf=psf_target,\n",
    "    target=basic_target,\n",
    ")\n",
    "M.initialize()\n",
    "M.to()\n",
    "\n",
    "fig, ax = plt.subplots(figsize=(7, 6))\n",
    "ap.plots.model_image(fig, ax, M)\n",
    "ax.set_title(M.name)\n",
    "plt.show()"
   ]
  },
  {
   "cell_type": "markdown",
   "metadata": {},
   "source": [
    "### Point Source using PSF model"
   ]
  },
  {
   "cell_type": "code",
   "execution_count": null,
   "metadata": {},
   "outputs": [],
   "source": [
    "psf = ap.Model(model_type=\"moffat psf model\", n=2.0, Rd=10.0, target=psf_target)\n",
    "psf.initialize()\n",
    "\n",
    "M = ap.Model(\n",
    "    model_type=\"point model\",\n",
    "    center=[50, 50],\n",
    "    flux=1,\n",
    "    psf=psf,\n",
    "    target=basic_target,\n",
    ")\n",
    "M.initialize()\n",
    "print(M)\n",
    "fig, ax = plt.subplots(figsize=(7, 6))\n",
    "ap.plots.model_image(fig, ax, M)\n",
    "ax.set_title(M.name)\n",
    "plt.show()"
   ]
  },
  {
   "cell_type": "markdown",
   "metadata": {},
   "source": [
    "## Primary Galaxy Models\n",
    "\n",
    "These models are represented mostly by their radial profile and are numerically straightforward to work with. All of these models also have perturbative extensions described below in the SuperEllipse, Fourier, Warp, Ray, and Wedge sections."
   ]
  },
  {
   "cell_type": "markdown",
   "metadata": {},
   "source": [
    "### Spline Galaxy Model\n",
    "\n",
    "This model has a radial surface brightness profile which can take on any function (that can be represented as a spline). This is somewhat like elliptical isophote fitting, though it is more precise in its definition of the SB model."
   ]
  },
  {
   "cell_type": "code",
   "execution_count": null,
   "metadata": {},
   "outputs": [],
   "source": [
    "# Here we make an arbitrary spline profile out of a sine wave and a line\n",
    "x = np.linspace(0, 10, 14)\n",
    "spline_profile = np.array(list((np.sin(x * 2 + 2) / 20 + 1 - x / 20)) + [-4])\n",
    "# Here we write down some corresponding radii for the points in the non-parametric profile. AstroPhot will make\n",
    "# radii to match an input profile, but it is generally better to manually provide values so you have some control\n",
    "# over their placement. Just note that it is assumed the first point will be at R = 0.\n",
    "NP_prof = [0] + list(np.logspace(np.log10(2), np.log10(50), 13)) + [200]\n",
    "\n",
    "M = ap.Model(\n",
    "    model_type=\"spline galaxy model\",\n",
    "    center=[50, 50],\n",
    "    q=0.6,\n",
    "    PA=60 * np.pi / 180,\n",
    "    I_R={\"value\": 10**spline_profile, \"prof\": NP_prof},\n",
    "    target=basic_target,\n",
    ")\n",
    "M.initialize()\n",
    "\n",
    "fig, ax = plt.subplots(1, 2, figsize=(14, 6))\n",
    "ap.plots.model_image(fig, ax[0], M)\n",
    "ap.plots.radial_light_profile(fig, ax[1], M)\n",
    "ax[0].set_title(M.name)\n",
    "plt.show()"
   ]
  },
  {
   "cell_type": "markdown",
   "metadata": {},
   "source": [
    "### Sersic Galaxy Model"
   ]
  },
  {
   "cell_type": "code",
   "execution_count": null,
   "metadata": {},
   "outputs": [],
   "source": [
    "M = ap.Model(\n",
    "    model_type=\"sersic galaxy model\",\n",
    "    center=[50, 50],\n",
    "    q=0.6,\n",
    "    PA=60 * np.pi / 180,\n",
    "    n=3,\n",
    "    Re=10,\n",
    "    Ie=10,\n",
    "    target=basic_target,\n",
    ")\n",
    "M.initialize()\n",
    "\n",
    "fig, ax = plt.subplots(1, 2, figsize=(14, 6))\n",
    "ap.plots.model_image(fig, ax[0], M)\n",
    "ap.plots.radial_light_profile(fig, ax[1], M)\n",
    "ax[0].set_title(M.name)\n",
    "plt.show()"
   ]
  },
  {
   "cell_type": "markdown",
   "metadata": {},
   "source": [
    "### Exponential Galaxy Model"
   ]
  },
  {
   "cell_type": "code",
   "execution_count": null,
   "metadata": {},
   "outputs": [],
   "source": [
    "M = ap.Model(\n",
    "    model_type=\"exponential galaxy model\",\n",
    "    center=[50, 50],\n",
    "    q=0.6,\n",
    "    PA=60 * np.pi / 180,\n",
    "    Re=10,\n",
    "    Ie=1,\n",
    "    target=basic_target,\n",
    ")\n",
    "M.initialize()\n",
    "\n",
    "fig, ax = plt.subplots(1, 2, figsize=(14, 6))\n",
    "ap.plots.model_image(fig, ax[0], M)\n",
    "ap.plots.radial_light_profile(fig, ax[1], M)\n",
    "ax[0].set_title(M.name)\n",
    "plt.show()"
   ]
  },
  {
   "cell_type": "markdown",
   "metadata": {},
   "source": [
    "### Gaussian Galaxy Model"
   ]
  },
  {
   "cell_type": "code",
   "execution_count": null,
   "metadata": {},
   "outputs": [],
   "source": [
    "M = ap.Model(\n",
    "    model_type=\"gaussian galaxy model\",\n",
    "    center=[50, 50],\n",
    "    q=0.6,\n",
    "    PA=60 * np.pi / 180,\n",
    "    sigma=20,\n",
    "    flux=10,\n",
    "    target=basic_target,\n",
    ")\n",
    "M.initialize()\n",
    "\n",
    "fig, ax = plt.subplots(1, 2, figsize=(14, 6))\n",
    "ap.plots.model_image(fig, ax[0], M)\n",
    "ap.plots.radial_light_profile(fig, ax[1], M)\n",
    "ax[0].set_title(M.name)\n",
    "plt.show()"
   ]
  },
  {
   "cell_type": "markdown",
   "metadata": {},
   "source": [
    "### Nuker Galaxy Model"
   ]
  },
  {
   "cell_type": "code",
   "execution_count": null,
   "metadata": {},
   "outputs": [],
   "source": [
    "M = ap.Model(\n",
    "    model_type=\"nuker galaxy model\",\n",
    "    center=[50, 50],\n",
    "    q=0.6,\n",
    "    PA=60 * np.pi / 180,\n",
    "    Rb=10.0,\n",
    "    Ib=10.0,\n",
    "    alpha=4.0,\n",
    "    beta=3.0,\n",
    "    gamma=-0.2,\n",
    "    target=basic_target,\n",
    ")\n",
    "M.initialize()\n",
    "\n",
    "fig, ax = plt.subplots(1, 2, figsize=(14, 6))\n",
    "ap.plots.model_image(fig, ax[0], M)\n",
    "ap.plots.radial_light_profile(fig, ax[1], M)\n",
    "ax[0].set_title(M.name)\n",
    "plt.show()"
   ]
  },
  {
   "cell_type": "markdown",
   "metadata": {},
   "source": [
    "### Ferrer Model"
   ]
  },
  {
   "cell_type": "code",
   "execution_count": null,
   "metadata": {},
   "outputs": [],
   "source": [
    "M = ap.Model(\n",
    "    model_type=\"ferrer galaxy model\",\n",
    "    center=[50, 50],\n",
    "    q=0.6,\n",
    "    PA=60 * np.pi / 180,\n",
    "    rout=40.0,\n",
    "    alpha=2.0,\n",
    "    beta=1.0,\n",
    "    I0=10.0,\n",
    "    target=basic_target,\n",
    ")\n",
    "M.initialize()\n",
    "\n",
    "fig, ax = plt.subplots(1, 2, figsize=(14, 6))\n",
    "ap.plots.model_image(fig, ax[0], M, vmax=30)\n",
    "ap.plots.radial_light_profile(fig, ax[1], M)\n",
    "ax[0].set_title(M.name)\n",
    "plt.show()"
   ]
  },
  {
   "cell_type": "markdown",
   "metadata": {},
   "source": [
    "### King Model\n",
    "\n",
    "This is the Empirical King model with the extra free parameter $\\alpha$"
   ]
  },
  {
   "cell_type": "code",
   "execution_count": null,
   "metadata": {},
   "outputs": [],
   "source": [
    "M = ap.Model(\n",
    "    model_type=\"king galaxy model\",\n",
    "    center=[50, 50],\n",
    "    q=0.6,\n",
    "    PA=60 * np.pi / 180,\n",
    "    Rc=10.0,\n",
    "    Rt=40.0,\n",
    "    alpha=2.01,\n",
    "    I0=10.0,\n",
    "    target=basic_target,\n",
    ")\n",
    "M.initialize()\n",
    "\n",
    "fig, ax = plt.subplots(1, 2, figsize=(14, 6))\n",
    "ap.plots.model_image(fig, ax[0], M, vmax=30)\n",
    "ap.plots.radial_light_profile(fig, ax[1], M)\n",
    "ax[0].set_title(M.name)\n",
    "plt.show()"
   ]
  },
  {
   "cell_type": "markdown",
   "metadata": {},
   "source": [
    "## Special Galaxy Models"
   ]
  },
  {
   "cell_type": "markdown",
   "metadata": {},
   "source": [
    "### Edge on model\n",
    "\n",
    "Currently there is only one dedicared edge on model, the self gravitating isothermal disk from van der Kruit & Searle 1981. If you know of another common edge on model, feel free to let us know and we can add it in!"
   ]
  },
  {
   "cell_type": "code",
   "execution_count": null,
   "metadata": {},
   "outputs": [],
   "source": [
    "M = ap.Model(\n",
    "    model_type=\"isothermal sech2 edgeon model\",\n",
    "    center=[50, 50],\n",
    "    PA=60 * np.pi / 180,\n",
    "    I0=1.0,\n",
    "    hs=3.0,\n",
    "    rs=5.0,\n",
    "    target=basic_target,\n",
    ")\n",
    "M.initialize()\n",
    "\n",
    "fig, ax = plt.subplots(1, 2, figsize=(14, 6))\n",
    "ap.plots.model_image(fig, ax[0], M)\n",
    "ap.plots.radial_light_profile(fig, ax[1], M)\n",
    "ax[0].set_title(M.name)\n",
    "plt.show()"
   ]
  },
  {
   "cell_type": "markdown",
   "metadata": {},
   "source": [
    "### Multi Gaussian Expansion\n",
    "\n",
    "A multi gaussian expansion is essentially a model made of overlapping gaussian models that share the same center. However, they are combined into a single model for computational efficiency. Another advantage of the MGE is that it is possible to determine a deprojection of the model from 2D into a 3D shape since the projection of a 3D gaussian is a 2D gaussian. Note however, that in some configurations this deprojection is not unique. See Cappellari 2002 for more details.\n",
    "\n",
    "Note: The ``PA`` can be either a single value (same for all components) or an array with values for each component."
   ]
  },
  {
   "cell_type": "code",
   "execution_count": null,
   "metadata": {},
   "outputs": [],
   "source": [
    "M = ap.Model(\n",
    "    model_type=\"mge model\",\n",
    "    center=[50, 50],\n",
    "    q=[0.9, 0.8, 0.6, 0.5],\n",
    "    PA=30 * np.pi / 180,\n",
    "    sigma=[4.0, 8.0, 16.0, 32.0],\n",
    "    flux=np.ones(4) / 4,\n",
    "    target=basic_target,\n",
    ")\n",
    "M.initialize()\n",
    "\n",
    "fig, ax = plt.subplots(1, 1, figsize=(6, 6))\n",
    "ap.plots.model_image(fig, ax, M)\n",
    "ax.set_title(M.name)\n",
    "plt.show()"
   ]
  },
  {
   "cell_type": "markdown",
   "metadata": {},
   "source": [
    "### Gaussian Ellipsoid\n",
    "\n",
    "This model is an intrinsically 3D gaussian ellipsoid shape, which is projected to 2D for imaging. "
   ]
  },
  {
   "cell_type": "code",
   "execution_count": null,
   "metadata": {},
   "outputs": [],
   "source": [
    "M = ap.Model(\n",
    "    model_type=\"gaussianellipsoid model\",\n",
    "    center=[50, 50],\n",
    "    sigma_a=20.0,  # disk radius\n",
    "    sigma_b=20.0,  # also disk radius\n",
    "    sigma_c=2.0,  # disk thickness\n",
    "    alpha=0.0,  # disk spin\n",
    "    beta=np.arccos(0.6),  # disk inclination\n",
    "    gamma=30 * np.pi / 180,  # disk position angle\n",
    "    flux=10.0,\n",
    "    target=basic_target,\n",
    ")\n",
    "M.initialize()"
   ]
  },
  {
   "cell_type": "code",
   "execution_count": null,
   "metadata": {
    "tags": [
     "hide-input"
    ]
   },
   "outputs": [],
   "source": [
    "beta = np.linspace(0, np.pi, 50)\n",
    "M.beta = beta[0]\n",
    "fig, ax = plt.subplots(1, 1, figsize=(6, 6))\n",
    "ap.plots.model_image(fig, ax, M, showcbar=False)\n",
    "\n",
    "\n",
    "def update(frame):\n",
    "    M.beta = beta[frame]\n",
    "    ax.clear()\n",
    "    ap.plots.model_image(fig, ax, M, showcbar=False, vmin=24, vmax=30)\n",
    "    ax.set_title(f\"{M.name} beta = {beta[frame]:.2f} rad\")\n",
    "    return ax\n",
    "\n",
    "\n",
    "ani = animation.FuncAnimation(fig, update, frames=50, interval=60)\n",
    "plt.close()\n",
    "# Save animation as gif\n",
    "# ani.save(\"microlensing_animation.gif\", writer='pillow', fps=16)  # Adjust 'fps' for the speed\n",
    "# Or display the animation inline\n",
    "HTML(ani.to_jshtml())"
   ]
  },
  {
   "cell_type": "markdown",
   "metadata": {},
   "source": [
    "## Super Ellipse Models\n",
    "\n",
    "A super ellipse is a regular ellipse, except the radius metric changes from $R = \\sqrt{x^2 + y^2}$ to the more general: $R = |x^C + y^C|^{1/C}$. The parameter $C = 2$ for a regular ellipse, for $0<C<2$ the shape becomes more \"disky\" and for $C > 2$ the shape becomes more \"boxy.\" \n",
    "\n",
    "There are superellipse versions of all the primary galaxy models: `sersic`, `exponential`, `gaussian`, `moffat`, `spline`, `ferrer`, `king`, and `nuker`"
   ]
  },
  {
   "cell_type": "markdown",
   "metadata": {},
   "source": [
    "### Sersic SuperEllipse"
   ]
  },
  {
   "cell_type": "code",
   "execution_count": null,
   "metadata": {},
   "outputs": [],
   "source": [
    "M = ap.Model(\n",
    "    model_type=\"sersic superellipse galaxy model\",\n",
    "    center=[50, 50],\n",
    "    q=0.6,\n",
    "    PA=60 * np.pi / 180,\n",
    "    C=4,\n",
    "    n=3,\n",
    "    Re=10,\n",
    "    Ie=1,\n",
    "    target=basic_target,\n",
    ")\n",
    "M.initialize()\n",
    "\n",
    "fig, ax = plt.subplots(1, 2, figsize=(14, 6))\n",
    "ap.plots.model_image(fig, ax[0], M)\n",
    "ap.plots.radial_light_profile(fig, ax[1], M)\n",
    "ax[0].set_title(M.name)\n",
    "plt.show()"
   ]
  },
  {
   "cell_type": "markdown",
   "metadata": {},
   "source": [
    "## Fourier Ellipse Models\n",
    "\n",
    "A Fourier ellipse is a scaling on the radius values as a function of theta. It takes the form: $R' = R * \\exp(\\sum_m a_m*\\cos(m*\\theta + \\phi_m))$, where am and phim are the parameters which describe the Fourier perturbations. Using the \"modes\" argument as a tuple, users can select which Fourier modes are used. As a rough intuition: mode 1 acts like a shift of the model; mode 2 acts like ellipticity; mode 3 makes a lopsided model (triangular in the extreme); and mode 4 makes peanut/diamond perturbations. \n",
    "\n",
    "There are Fourier Ellipse versions of all the primary galaxy models: `sersic`, `exponential`, `gaussian`, `moffat`, `spline`, `ferrer`, `king`, and `nuker`"
   ]
  },
  {
   "cell_type": "markdown",
   "metadata": {},
   "source": [
    "### Sersic Fourier"
   ]
  },
  {
   "cell_type": "code",
   "execution_count": null,
   "metadata": {},
   "outputs": [],
   "source": [
    "fourier_am = np.array([0.1, 0.3, -0.2])\n",
    "fourier_phim = np.array([10 * np.pi / 180, 0, 40 * np.pi / 180])\n",
    "\n",
    "M = ap.Model(\n",
    "    model_type=\"sersic fourier galaxy model\",\n",
    "    center=[50, 50],\n",
    "    q=0.6,\n",
    "    PA=60 * np.pi / 180,\n",
    "    am=fourier_am,\n",
    "    phim=fourier_phim,\n",
    "    modes=(2, 3, 4),\n",
    "    n=3,\n",
    "    Re=10,\n",
    "    Ie=1,\n",
    "    target=basic_target,\n",
    ")\n",
    "M.initialize()\n",
    "\n",
    "fig, ax = plt.subplots(1, 2, figsize=(14, 6))\n",
    "ap.plots.model_image(fig, ax[0], M)\n",
    "ap.plots.radial_light_profile(fig, ax[1], M)\n",
    "ax[0].set_title(M.name)\n",
    "plt.show()"
   ]
  },
  {
   "cell_type": "markdown",
   "metadata": {},
   "source": [
    "## Warp Model\n",
    "\n",
    "A warp model performs a radially varying coordinate transform. Essentially instead of applying a rotation matrix **Rot** on all coordinates X,Y we instead construct a unique rotation matrix for each coordinate pair **Rot(R)** where $R = \\sqrt{X^2 + Y^2}$. We also apply a radially dependent axis ratio **q(R)** to all the coordinates:\n",
    "\n",
    "$R = \\sqrt{X^2 + Y^2}$\n",
    "\n",
    "$X, Y = Rotate(X, Y, PA(R))$\n",
    "\n",
    "$Y = \\frac{Y}{q(R)}$\n",
    "\n",
    "The net effect is a radially varying PA and axis ratio which allows the model to represent spiral arms, bulges, or other features that change the apparent shape of a galaxy in a radially varying way.\n",
    "\n",
    "There are warp versions of all the primary galaxy models: `sersic`, `exponential`, `gaussian`, `moffat`, `spline`, `ferrer`, `king`, and `nuker`"
   ]
  },
  {
   "cell_type": "markdown",
   "metadata": {},
   "source": [
    "### Sersic Warp"
   ]
  },
  {
   "cell_type": "code",
   "execution_count": null,
   "metadata": {},
   "outputs": [],
   "source": [
    "warp_q = np.linspace(0.1, 0.4, 14)\n",
    "warp_pa = np.linspace(0, np.pi - 0.2, 14)\n",
    "prof = np.linspace(0.0, 50, 14)\n",
    "M = ap.Model(\n",
    "    model_type=\"sersic warp galaxy model\",\n",
    "    center=[50, 50],\n",
    "    q=0.6,\n",
    "    PA=60 * np.pi / 180,\n",
    "    q_R={\"dynamic_value\": warp_q, \"prof\": prof},\n",
    "    PA_R={\"dynamic_value\": warp_pa, \"prof\": prof},\n",
    "    n=3,\n",
    "    Re=10,\n",
    "    Ie=1,\n",
    "    target=basic_target,\n",
    ")\n",
    "M.initialize()\n",
    "\n",
    "fig, ax = plt.subplots(1, 3, figsize=(20, 6))\n",
    "ap.plots.model_image(fig, ax[0], M)\n",
    "ap.plots.radial_light_profile(fig, ax[1], M)\n",
    "ap.plots.warp_phase_profile(fig, ax[2], M)\n",
    "ax[2].legend()\n",
    "ax[0].set_title(M.name)\n",
    "plt.show()"
   ]
  },
  {
   "cell_type": "markdown",
   "metadata": {},
   "source": [
    "## Ray Model\n",
    "\n",
    "A ray model allows the user to break the galaxy up into regions that can be fit separately. There are two basic kinds of ray model: symmetric and asymmetric. A symmetric ray model (symmetric_rays = True) assumes 180 degree symmetry of the galaxy and so each ray is reflected through the center. This means that essentially the major axes and the minor axes are being fit separately. For an asymmetric ray model (symmetric_rays = False) each ray is it's own profile to be fit separately. \n",
    "\n",
    "In a ray model there is a smooth boundary between the rays. This smoothness is accomplished by applying a $(\\cos(r*theta)+1)/2$ weight to each profile, where r is dependent on the number of rays and theta is shifted to center on each ray in turn. The exact cosine weighting is dependent on if the rays are symmetric and if there is an even or odd number of rays. \n",
    "\n",
    "There are ray versions of all the primary galaxy models: `sersic`, `exponential`, `gaussian`, `moffat`, `spline`, `ferrer`, `king`, and `nuker`"
   ]
  },
  {
   "cell_type": "markdown",
   "metadata": {},
   "source": [
    "### Sersic Ray"
   ]
  },
  {
   "cell_type": "code",
   "execution_count": null,
   "metadata": {},
   "outputs": [],
   "source": [
    "M = ap.Model(\n",
    "    model_type=\"sersic ray galaxy model\",\n",
    "    symmetric=True,\n",
    "    segments=2,\n",
    "    center=[50, 50],\n",
    "    q=0.6,\n",
    "    PA=60 * np.pi / 180,\n",
    "    n=[1, 3],\n",
    "    Re=[10, 5],\n",
    "    Ie=[1, 0.5],\n",
    "    target=basic_target,\n",
    ")\n",
    "M.initialize()\n",
    "\n",
    "fig, ax = plt.subplots(1, 2, figsize=(14, 6))\n",
    "ap.plots.model_image(fig, ax[0], M)\n",
    "ap.plots.ray_light_profile(fig, ax[1], M)\n",
    "ax[0].set_title(M.name)\n",
    "plt.show()"
   ]
  },
  {
   "cell_type": "markdown",
   "metadata": {},
   "source": [
    "## Wedge Model\n",
    "\n",
    "A wedge model behaves just like a ray model, except the boundaries are sharp. This has the advantage that the wedges can be very different in brightness without the \"smoothing\" from the ray model washing out the dimmer one. It also has the advantage of less \"mixing\" of information between the rays, each one can be counted on to have fit only the pixels in it's wedge without any influence from a neighbor. However, it has the disadvantage that the discontinuity at the boundary makes fitting behave strangely when a bright spot lays near the boundary.\n",
    "\n",
    "There are wedge versions of all the primary galaxy models: `sersic`, `exponential`, `gaussian`, `moffat`, `spline`, `ferrer`, `king`, and `nuker`"
   ]
  },
  {
   "cell_type": "markdown",
   "metadata": {},
   "source": [
    "### Sersic Wedge"
   ]
  },
  {
   "cell_type": "code",
   "execution_count": null,
   "metadata": {},
   "outputs": [],
   "source": [
    "M = ap.Model(\n",
    "    model_type=\"sersic wedge galaxy model\",\n",
    "    symmetric=True,\n",
    "    segments=2,\n",
    "    center=[50, 50],\n",
    "    q=0.6,\n",
    "    PA=60 * np.pi / 180,\n",
    "    n=[1, 3],\n",
    "    Re=[10, 5],\n",
    "    Ie=[1, 0.5],\n",
    "    target=basic_target,\n",
    ")\n",
    "M.initialize()\n",
    "\n",
    "fig, ax = plt.subplots(1, 2, figsize=(14, 6))\n",
    "ap.plots.model_image(fig, ax[0], M)\n",
    "ap.plots.ray_light_profile(fig, ax[1], M)\n",
    "ax[0].set_title(M.name)\n",
    "plt.show()"
   ]
  },
  {
   "cell_type": "code",
   "execution_count": null,
   "metadata": {},
   "outputs": [],
   "source": []
  }
 ],
 "metadata": {
  "language_info": {
   "codemirror_mode": {
    "name": "ipython",
    "version": 3
   },
   "file_extension": ".py",
   "mimetype": "text/x-python",
   "name": "python",
   "nbconvert_exporter": "python",
   "pygments_lexer": "ipython3"
  }
 },
 "nbformat": 4,
 "nbformat_minor": 4
}
