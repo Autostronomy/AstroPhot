{
 "cells": [
  {
   "cell_type": "markdown",
   "metadata": {},
   "source": [
    "# Custom model objects\n",
    "\n",
    "Here we will go over some of the core functionality of AstroPhot models so that you can make your own custom models with arbitrary behavior. This is an advanced tutorial and likely not needed for most users. However, the flexibility of AstroPhot can be a real lifesaver for some niche applications! If you get stuck trying to make your own models, please contact Connor Stone (see GitHub), he can help you get the model working and maybe even help add it to the core AstroPhot model list!\n",
    "\n",
    "### AstroPhot model hierarchy\n",
    "\n",
    "AstroPhot models are very much object oriented and inheritance driven. Every AstroPhot model inherits from `AstroPhot_Model` and so if you wish to make something truly original then this is where you would need to start. However, it is almost certain that is the wrong way to go. Further down the hierarchy is the `Component_Model` object, this is what you will likely use to construct a custom model as it represents a single \"unit\" in the astronomical image. Spline, Sersic, Exponential, Gaussian, PSF, Sky, etc. all of these inherit from `Component_Model` so likely that's what you will want. At its core, a `Component_Model` object defines a center location for the model, but it doesn't know anything else yet. At the same level as `Component_Model` is `Group_Model` which represents a collection of model objects (typically but not always `Component_Model` objects). A `Group_Model` is how you construct more complex models by composing several simpler models. It's unlikely you'll need to inherit from `Group_Model` so we won't discuss this any further (contact the developers if you're thinking about that). \n",
    "\n",
    "Inheriting from `Component_Model` are a few general classes which make it easier to build typical cases. There is the `Galaxy_Model` which adds a position angle and axis ratio to the model; also `Star_Model` which simply enforces no psf convolution on the object since that will be handled internally for anything star like; `Sky_Model` should be used for anything low resolution defined over the entire image, in this model psf convolution and integration are turned off since they shouldn't be needed. Based on these low level classes, you can \"jump in\" where it makes sense to define your model. Of course, you can take any AstroPhot model as a starting point and modify it to suit a given task, however we will not list all models here. See the documentation for a more complete list."
   ]
  },
  {
   "cell_type": "markdown",
   "metadata": {},
   "source": [
    "### Remaking the Sersic model\n",
    "\n",
    "Here we will remake the sersic model in AstroPhot to demonstrate how new models can be created"
   ]
  },
  {
   "cell_type": "code",
   "execution_count": null,
   "metadata": {},
   "outputs": [],
   "source": [
    "import astrophot as ap\n",
    "import torch\n",
    "from astropy.io import fits\n",
    "import numpy as np\n",
    "import matplotlib.pyplot as plt\n",
    "\n",
    "ap.AP_config.set_logging_output(\n",
    "    stdout=True, filename=None\n",
    ")  # see GettingStarted tutorial for what this does"
   ]
  },
  {
   "cell_type": "code",
   "execution_count": null,
   "metadata": {},
   "outputs": [],
   "source": [
    "class My_Sersic(ap.models.Galaxy_Model):\n",
    "    \"\"\"Let's make a sersic model!\"\"\"\n",
    "\n",
    "    model_type = f\"mysersic {ap.models.Galaxy_Model.model_type}\"  # here we give a name to the model, the convention is to lead with a new identifier then include the name of the inheritance model\n",
    "    parameter_specs = {\n",
    "        \"my_n\": {\n",
    "            \"limits\": (0.36, 8)\n",
    "        },  # our sersic index will have some default limits so it doesn't produce weird results\n",
    "        \"my_Re\": {\n",
    "            \"limits\": (0, None)\n",
    "        },  # our effective radius must be positive, otherwise it is fair game\n",
    "        \"my_Ie\": {},  # our effective surface density could be any real number\n",
    "    }\n",
    "    _parameter_order = ap.models.Galaxy_Model._parameter_order + (\n",
    "        \"my_n\",\n",
    "        \"my_Re\",\n",
    "        \"my_Ie\",\n",
    "    )  # we have to tell AstroPhot what order to access these parameters, this is used in several underlying methods\n",
    "\n",
    "    def radial_model(\n",
    "        self, R, image=None, parameters=None\n",
    "    ):  # by default a Galaxy_Model object will call radial_model to determine the flux at each pixel\n",
    "        bn = ap.utils.conversions.functions.sersic_n_to_b(\n",
    "            parameters[\"my_n\"].value\n",
    "        )  # AstroPhot has a number of useful util functions, though you are welcome to use your own\n",
    "        return (\n",
    "            parameters[\"my_Ie\"].value\n",
    "            * (image.pixel_area)\n",
    "            * torch.exp(\n",
    "                -bn * ((R / parameters[\"my_Re\"].value) ** (1.0 / parameters[\"my_n\"].value) - 1)\n",
    "            )\n",
    "        )  # this is simply the classic sersic profile. more details later."
   ]
  },
  {
   "cell_type": "markdown",
   "metadata": {},
   "source": [
    "Now lets try optimizing our sersic model on some data. We'll use the same galaxy from the GettingStarted tutorial. The results should be about the same!"
   ]
  },
  {
   "cell_type": "code",
   "execution_count": null,
   "metadata": {},
   "outputs": [],
   "source": [
    "hdu = fits.open(\n",
    "    \"https://www.legacysurvey.org/viewer/fits-cutout?ra=36.3684&dec=-25.6389&size=700&layer=ls-dr9&pixscale=0.262&bands=r\"\n",
    ")\n",
    "target_data = np.array(hdu[0].data, dtype=np.float64)\n",
    "\n",
    "# Create a target object with specified pixelscale and zeropoint\n",
    "target = ap.image.Target_Image(\n",
    "    data=target_data,\n",
    "    pixelscale=0.262,\n",
    "    zeropoint=22.5,\n",
    "    variance=np.ones(target_data.shape) / 1e3,\n",
    ")\n",
    "\n",
    "# The default AstroPhot target plotting method uses log scaling in bright areas and histogram scaling in faint areas\n",
    "fig, ax = plt.subplots(figsize=(8, 8))\n",
    "ap.plots.target_image(fig, ax, target)\n",
    "plt.show()"
   ]
  },
  {
   "cell_type": "code",
   "execution_count": null,
   "metadata": {},
   "outputs": [],
   "source": [
    "my_model = My_Sersic(  # notice we are now using the custom class\n",
    "    name=\"wow I made a model\",\n",
    "    target=target,  # now the model knows what its trying to match\n",
    "    parameters={\n",
    "        \"my_n\": 1.0,\n",
    "        \"my_Re\": 50,\n",
    "        \"my_Ie\": 1.0,\n",
    "    },  # note we have to give initial values for our new parameters. We'll see what can be done for this later\n",
    ")\n",
    "\n",
    "# We gave it parameters for our new variables, but initialize will get starting values for everything else\n",
    "my_model.initialize()\n",
    "\n",
    "# The starting point for this model is not very good, lets see what the optimizer can do!\n",
    "fig, ax = plt.subplots(1, 2, figsize=(16, 7))\n",
    "ap.plots.model_image(fig, ax[0], my_model)\n",
    "ap.plots.residual_image(fig, ax[1], my_model)\n",
    "plt.show()"
   ]
  },
  {
   "cell_type": "code",
   "execution_count": null,
   "metadata": {},
   "outputs": [],
   "source": [
    "result = ap.fit.LM(my_model, verbose=1).fit()\n",
    "print(result.message)"
   ]
  },
  {
   "cell_type": "code",
   "execution_count": null,
   "metadata": {},
   "outputs": [],
   "source": [
    "fig, ax = plt.subplots(1, 2, figsize=(16, 7))\n",
    "ap.plots.model_image(fig, ax[0], my_model)\n",
    "ap.plots.residual_image(fig, ax[1], my_model)\n",
    "plt.show()"
   ]
  },
  {
   "cell_type": "markdown",
   "metadata": {},
   "source": [
    "Success! Our \"custom\" sersic model behaves exactly as expected. While going through the tutorial so far there may have been a few things that stood out to you. Lets discuss them now:\n",
    "\n",
    "- What was \"sample_image\" in the radial_model function? This is an object for the image that we are currently sampling. You shouldn't need to do anything with it except get the pixelscale.\n",
    "- what else is in \"ap.utils\"? Lots of stuff used in the background by AstroPhot. For now the organization of these is not very good and sometimes changes, so you may wish to just make your own functions for the time being.\n",
    "- Why the weird way to access the parameters? The self\\[\"variable\"\\].value format was settled on for simplicity and generality. it's not perfect, but it works.\n",
    "- Why is \"sample_image.pixel_area\" in the sersic evaluation? it is important for AstroPhot to know the size of the pixels it is evaluating, multiplying by this value will normalize the flux evaluation regardless of the pixel sizes.\n",
    "- When making the model, why did we have to provide values for the parameters? Every model can define an \"initialize\" function which sets the values for its parameters. Since we didn't add that function to our custom class, it doesn't know how to set those variables. All the other variables can be auto-initialized though."
   ]
  },
  {
   "cell_type": "markdown",
   "metadata": {},
   "source": [
    "### Adding an initialize method\n",
    "\n",
    "Here we'll add an initialize method. Though for simplicity we won't make it very clever. It will be up to you to figure out the best way to start your parameters. The initial values can have a huge impact on how well the model converges to the solution, so don't underestimate the gains that can be made by thinking a bit about how to do this right. The default AstroPhot methods have reasonably robust initializers, but still nothing beats trial and error by eye to get started. "
   ]
  },
  {
   "cell_type": "code",
   "execution_count": null,
   "metadata": {},
   "outputs": [],
   "source": [
    "class My_Super_Sersic(\n",
    "    My_Sersic\n",
    "):  # note we're inheriting everything from the My_Sersic model since its not making any new parameters\n",
    "    model_type = \"super awesome sersic model\"  # you can make the name anything you like, but the one above follows the normal convention\n",
    "\n",
    "    def initialize(self, target=None, parameters=None):\n",
    "        if target is None:  # good to just use the model target if none given\n",
    "            target = self.target\n",
    "        if parameters is None:\n",
    "            parameters = self.parameters\n",
    "        super().initialize(\n",
    "            target=target, parameters=parameters\n",
    "        )  # typically you want all the lower level parameters determined first\n",
    "\n",
    "        target_area = target[\n",
    "            self.window\n",
    "        ]  # this gets the part of the image that the user actually wants us to analyze\n",
    "\n",
    "        if self[\"my_n\"].value is None:  # only do anything if the user didn't provide a value\n",
    "            with ap.param.Param_Unlock(parameters[\"my_n\"]):\n",
    "                parameters[\"my_n\"].value = (\n",
    "                    2.0  # make an initial value for my_n. Override locked since this is the beginning\n",
    "                )\n",
    "                parameters[\"my_n\"].uncertainty = (\n",
    "                    0.1  # make sure there is a starting point for the uncertainty too\n",
    "                )\n",
    "\n",
    "        if (\n",
    "            self[\"my_Re\"].value is None\n",
    "        ):  # same as my_n, though in general you should try to do something smart to get a good starting point\n",
    "            with ap.param.Param_Unlock(parameters[\"my_Re\"]):\n",
    "                parameters[\"my_Re\"].value = 20.0\n",
    "                parameters[\"my_Re\"].uncertainty = 0.1\n",
    "\n",
    "        if self[\"my_Ie\"].value is None:  # lets try to be a bit clever here\n",
    "            small_window = self.window.copy().crop_pixel(\n",
    "                (250,)\n",
    "            )  # This creates a window much smaller, but still centered on the same point\n",
    "            with ap.param.Param_Unlock(parameters[\"my_Ie\"]):\n",
    "                parameters[\"my_Ie\"].value = (\n",
    "                    torch.median(target_area[small_window].data) / target_area.pixel_area\n",
    "                )  # this will be an average in the window, should at least get us within an order of magnitude\n",
    "                parameters[\"my_Ie\"].uncertainty = 0.1"
   ]
  },
  {
   "cell_type": "code",
   "execution_count": null,
   "metadata": {},
   "outputs": [],
   "source": [
    "my_super_model = My_Super_Sersic(  # notice we switched the custom class\n",
    "    name=\"goodness I made another one\",\n",
    "    target=target,\n",
    ")  # no longer need to provide initial values!\n",
    "\n",
    "my_super_model.initialize()\n",
    "\n",
    "# The starting point for this model is still not very good, lets see what the optimizer can do!\n",
    "fig, ax = plt.subplots(1, 2, figsize=(16, 7))\n",
    "ap.plots.model_image(fig, ax[0], my_super_model)\n",
    "ap.plots.residual_image(fig, ax[1], my_super_model)\n",
    "plt.show()"
   ]
  },
  {
   "cell_type": "code",
   "execution_count": null,
   "metadata": {},
   "outputs": [],
   "source": [
    "# We made a \"good\" initializer so this should be faster to optimize\n",
    "result = ap.fit.LM(my_super_model, verbose=1).fit()\n",
    "print(result.message)"
   ]
  },
  {
   "cell_type": "code",
   "execution_count": null,
   "metadata": {},
   "outputs": [],
   "source": [
    "fig, ax = plt.subplots(1, 2, figsize=(16, 7))\n",
    "ap.plots.model_image(fig, ax[0], my_super_model)\n",
    "ap.plots.residual_image(fig, ax[1], my_super_model)\n",
    "plt.show()"
   ]
  },
  {
   "cell_type": "markdown",
   "metadata": {},
   "source": [
    "Success! That covers the basics of making your own models. There's an infinite amount of possibility here so you will likely need to hunt through the AstroPhot code to find answers to more nuanced questions (or contact Connor), but hopefully this tutorial gave you a flavour of what to expect."
   ]
  },
  {
   "cell_type": "markdown",
   "metadata": {},
   "source": [
    "## Models from scratch\n",
    "\n",
    "By inheriting from `Galaxy_Model` we got to start with some methods already available. In this section we will see how to create a model essentially from scratch by inheriting from the `Component_Model` object. Below is an example model which uses a $\\frac{I_0}{R}$ model, this is a weird model but it will work. To demonstrate the basics for a `Component_Model` is actually simpler than a `Galaxy_Model` we really only need the `evaluate_model` function, it's what you do with that function where the complexity arises."
   ]
  },
  {
   "cell_type": "code",
   "execution_count": null,
   "metadata": {},
   "outputs": [],
   "source": [
    "class My_InvR(ap.models.Component_Model):\n",
    "    model_type = \"InvR model\"\n",
    "\n",
    "    parameter_specs = {\n",
    "        \"my_Rs\": {\"limits\": (0, None)},  # This will be the scale length\n",
    "        \"my_I0\": {},  # This will be the central brightness\n",
    "    }\n",
    "    _parameter_order = ap.models.Component_Model._parameter_order + (\n",
    "        \"my_Rs\",\n",
    "        \"my_I0\",\n",
    "    )  # we have to tell AstroPhot what order to access these parameters, this is used in several underlying methods\n",
    "\n",
    "    epsilon = 1e-4  # this can be set with model.epsilon, but will not be fit during optimization\n",
    "\n",
    "    def evaluate_model(self, X=None, Y=None, image=None, parameters=None):\n",
    "        if X is None or Y is None:\n",
    "            Coords = image.get_coordinate_meshgrid()\n",
    "            X, Y = Coords - parameters[\"center\"].value[..., None, None]\n",
    "        return parameters[\"my_I0\"].value * image.pixel_area / torch.sqrt(X**2 + Y**2 + self.epsilon)"
   ]
  },
  {
   "cell_type": "markdown",
   "metadata": {},
   "source": [
    "See now that we must define a `evaluate_model` method. This takes coordinates, an image object, and parameters and returns the model evaluated at the coordinates. No need to worry about integrating the model within a pixel, this will be handled internally, just evaluate the model at the center of each pixel. For most situations this is made easier with the `get_coordinate_meshgrid_torch` method that all AstroPhot `Target_Image` objects have. We also add a new value `epsilon` which is a core radius in arcsec. This parameter will not be fit, it is set as part of the model creation. You can now also provide epsilon when creating the model, or do nothing and the default value will be used.\n",
    "\n",
    "From here you have complete freedom, it need only provide a value for each pixel in the given image. Just make sure that it accounts for pixel size (proportional to pixelscale^2). Also make sure to use only pytorch functions, since that way it is possible to run on GPU and propagate derivatives."
   ]
  },
  {
   "cell_type": "code",
   "execution_count": null,
   "metadata": {},
   "outputs": [],
   "source": [
    "simpletarget = ap.image.Target_Image(data=np.zeros([100, 100]), pixelscale=1)\n",
    "newmodel = My_InvR(\n",
    "    name=\"newmodel\",\n",
    "    epsilon=1,\n",
    "    parameters={\"center\": [50, 50], \"my_Rs\": 10, \"my_I0\": 1.0},\n",
    "    target=simpletarget,\n",
    ")\n",
    "\n",
    "fig, ax = plt.subplots(1, 1, figsize=(8, 7))\n",
    "ap.plots.model_image(fig, ax, newmodel)\n",
    "plt.show()"
   ]
  },
  {
   "cell_type": "code",
   "execution_count": null,
   "metadata": {},
   "outputs": [],
   "source": []
  }
 ],
 "metadata": {
  "language_info": {
   "codemirror_mode": {
    "name": "ipython",
    "version": 3
   },
   "file_extension": ".py",
   "mimetype": "text/x-python",
   "name": "python",
   "nbconvert_exporter": "python",
   "pygments_lexer": "ipython3"
  }
 },
 "nbformat": 4,
 "nbformat_minor": 4
}
