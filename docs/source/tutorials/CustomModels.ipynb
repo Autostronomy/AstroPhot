{
 "cells": [
  {
   "cell_type": "markdown",
   "metadata": {},
   "source": [
    "# Custom model objects\n",
    "\n",
    "Here we will go over some of the core functionality of AstroPhot models so that\n",
    "you can make your own custom models with arbitrary behavior. This is an advanced\n",
    "tutorial and likely not needed for most users. However, the flexibility of\n",
    "AstroPhot can be a real lifesaver for some niche applications! If you get stuck\n",
    "trying to make your own models, please contact Connor Stone (see GitHub), he can\n",
    "help you get the model working and maybe even help add it to the core AstroPhot\n",
    "model list!\n",
    "\n",
    "### AstroPhot model hierarchy\n",
    "\n",
    "AstroPhot models are very much object oriented and inheritance driven. Every\n",
    "AstroPhot model inherits from `Model` and so if you wish to make something truly\n",
    "original then this is where you would need to start. However, it is almost\n",
    "certain that is the wrong way to go. Further down the hierarchy is the\n",
    "`ComponentModel` object, this is what you will likely use to construct a custom\n",
    "model as it represents a single \"unit\" in the astronomical image. Spline,\n",
    "Sersic, Exponential, Gaussian, PSF, Sky, etc. all of these inherit from\n",
    "`ComponentModel` so likely that's what you will want. At its core, a\n",
    "`ComponentModel` object defines a center location for the model, but it doesn't\n",
    "know anything else yet. At the same level as `ComponentModel` is `GroupModel`\n",
    "which represents a collection of model objects (typically but not always\n",
    "`ComponentModel` objects). A `GroupModel` is how you construct more complex\n",
    "models by composing several simpler models. It's unlikely you'll need to inherit\n",
    "from `GroupModel` so we won't discuss this any further (contact the developers\n",
    "if you're thinking about that). \n",
    "\n",
    "Inheriting from `ComponentModel` are a few general classes which make it easier\n",
    "to build typical cases. There is the `GalaxyModel` which adds a position angle\n",
    "and axis ratio to the model; also `PointSource` which simply enforces some\n",
    "restrictions that make more sense for a delta function model; `SkyModel` should\n",
    "be used for anything low resolution defined over the entire image, in this model\n",
    "psf convolution and sub-pixel integration are turned off since they shouldn't be\n",
    "needed. Based on these low level classes, you can \"jump in\" where it makes sense\n",
    "to define your model. If you are looking to define a sersic that has some\n",
    "slightly different behaviour you may be able to take the `SersicGalaxy` class\n",
    "and directly make your modification. Of course, you can take any AstroPhot model\n",
    "as a starting point and modify it to suit a given task, however we will not list\n",
    "all models here. See the documentation for a more complete list."
   ]
  },
  {
   "cell_type": "markdown",
   "metadata": {},
   "source": [
    "### Remaking the Sersic model\n",
    "\n",
    "Here we will remake the sersic model in AstroPhot to demonstrate how new models can be created"
   ]
  },
  {
   "cell_type": "code",
   "execution_count": null,
   "metadata": {},
   "outputs": [],
   "source": [
    "import astrophot as ap\n",
    "import torch\n",
    "from astropy.io import fits\n",
    "import numpy as np\n",
    "import matplotlib.pyplot as plt"
   ]
  },
  {
   "cell_type": "code",
   "execution_count": null,
   "metadata": {},
   "outputs": [],
   "source": [
    "class My_Sersic(ap.models.RadialMixin, ap.models.GalaxyModel):\n",
    "    \"\"\"Let's make a sersic model!\"\"\"\n",
    "\n",
    "    _model_type = \"mysersic\"  # here we give a name to the model, since we inherit from GalaxyModel the full model_type will be \"mysersic galaxy model\"\n",
    "    _parameter_specs = {\n",
    "        # our sersic index will have some default limits so it doesn't produce\n",
    "        # weird results We also indicate the expected shapeof the parameter, in\n",
    "        # this case a scalar. This isn't necessary but it gives AstroPhot more\n",
    "        # information to work with. if e.g. you accidentaly provide multiple\n",
    "        # values, you'll now get an error rather than confusing behavior later.\n",
    "        \"my_n\": {\"valid\": (0.36, 8), \"shape\": ()},\n",
    "        \"my_Re\": {\"units\": \"arcsec\", \"valid\": (0, None), \"shape\": ()},\n",
    "        \"my_Ie\": {\"units\": \"flux/arcsec^2\"},\n",
    "    }\n",
    "\n",
    "    # a GalaxyModel object will determine the radius for each pixel then call radial_model to determine the brightness\n",
    "    @ap.forward\n",
    "    def radial_model(self, R, my_n, my_Re, my_Ie):\n",
    "        bn = ap.models.func.sersic_n_to_b(my_n)\n",
    "        return my_Ie * torch.exp(-bn * ((R / my_Re) ** (1.0 / my_n) - 1))"
   ]
  },
  {
   "cell_type": "markdown",
   "metadata": {},
   "source": [
    "Now lets try optimizing our sersic model on some data. We'll use the same galaxy from the GettingStarted tutorial. The results should be about the same!"
   ]
  },
  {
   "cell_type": "code",
   "execution_count": null,
   "metadata": {},
   "outputs": [],
   "source": [
    "hdu = fits.open(\n",
    "    \"https://www.legacysurvey.org/viewer/fits-cutout?ra=36.3684&dec=-25.6389&size=700&layer=ls-dr9&pixscale=0.262&bands=r\"\n",
    ")\n",
    "target_data = np.array(hdu[0].data, dtype=np.float64)\n",
    "\n",
    "target = ap.TargetImage(data=target_data, pixelscale=0.262, zeropoint=22.5, variance=\"auto\")\n",
    "\n",
    "fig, ax = plt.subplots(figsize=(8, 8))\n",
    "ap.plots.target_image(fig, ax, target)\n",
    "plt.show()"
   ]
  },
  {
   "cell_type": "code",
   "execution_count": null,
   "metadata": {},
   "outputs": [],
   "source": [
    "my_model = My_Sersic(  # notice we are now using the custom class\n",
    "    name=\"wow I made a model\",\n",
    "    target=target,  # now the model knows what its trying to match\n",
    "    # note we have to give initial values for our new parameters. AstroPhot doesn't know how to auto-initialize them because they are custom\n",
    "    my_n=1.0,\n",
    "    my_Re=50,\n",
    "    my_Ie=1.0,\n",
    ")\n",
    "\n",
    "# We gave it parameters for our new variables, but initialize will get starting values for everything else\n",
    "my_model.initialize()\n",
    "\n",
    "# The starting point for this model is not very good, lets see what the optimizer can do!\n",
    "fig, ax = plt.subplots(1, 2, figsize=(16, 7))\n",
    "ap.plots.model_image(fig, ax[0], my_model)\n",
    "ap.plots.residual_image(fig, ax[1], my_model)\n",
    "plt.show()"
   ]
  },
  {
   "cell_type": "code",
   "execution_count": null,
   "metadata": {},
   "outputs": [],
   "source": [
    "result = ap.fit.LM(my_model, verbose=1).fit()\n",
    "print(result.message)"
   ]
  },
  {
   "cell_type": "code",
   "execution_count": null,
   "metadata": {},
   "outputs": [],
   "source": [
    "fig, ax = plt.subplots(1, 2, figsize=(16, 7))\n",
    "ap.plots.model_image(fig, ax[0], my_model)\n",
    "ap.plots.residual_image(fig, ax[1], my_model)\n",
    "plt.show()"
   ]
  },
  {
   "cell_type": "markdown",
   "metadata": {},
   "source": [
    "Success! Our \"custom\" sersic model behaves exactly as expected. While going through the tutorial so far there may have been a few things that stood out to you. Lets discuss them now:\n",
    "\n",
    "- What is `ap.models.RadialMixin`? Think of \"Mixin's\" as power ups for classes,\n",
    "  this power up makes a `brightness` function which calls `radial_model` to\n",
    "  determine the flux density, that way you only need to define a radial function\n",
    "  rather than a more general `brightness(x,y)` 2D function.\n",
    "- what else is in \"ap.models.func\"? Lots of stuff used in the background by\n",
    "  AstroPhot models. There is a similar `ap.image.func` for image specific\n",
    "  functions. You can use these, or write your own functions.\n",
    "- How did the `radial_model` function accept the parameters I defined in\n",
    "  `_parameter_specs`? That's the work of `caskade` a powerful parameter\n",
    "  management tool.\n",
    "- When making the model, why did we have to provide values for the parameters?\n",
    "  Every model can define an \"initialize\" function which sets the values for its\n",
    "  parameters. Since we didn't add that function to our custom class, it doesn't\n",
    "  know how to set those variables. All the other variables can be\n",
    "  auto-initialized though.\n",
    "- Why is `radial_model` decorated with `@ap.forward`? This is part of the\n",
    "  `caskade` system, the `@ap.forward` here does a lot of heavily lifting\n",
    "  automatically to fill in values for `my_n`, `my_Re`, and `my_Ie`"
   ]
  },
  {
   "cell_type": "markdown",
   "metadata": {},
   "source": [
    "### Adding an initialize method\n",
    "\n",
    "Here we'll add an initialize method. Though for simplicity we won't make it very clever. It will be up to you to figure out the best way to start your parameters. The initial values can have a huge impact on how well the model converges to the solution, so don't underestimate the gains that can be made by thinking a bit about how to do this right. The default AstroPhot methods have reasonably robust initializers, but still nothing beats trial and error by eye to get started. "
   ]
  },
  {
   "cell_type": "code",
   "execution_count": null,
   "metadata": {},
   "outputs": [],
   "source": [
    "# note we're inheriting everything from the My_Sersic model since its not making any new parameters\n",
    "class My_Super_Sersic(My_Sersic):\n",
    "    _model_type = \"super\"  # the new name will be \"super mysersic galaxy model\"\n",
    "\n",
    "    def initialize(self):\n",
    "        # typically you want all the lower level parameters determined first\n",
    "        super().initialize()\n",
    "\n",
    "        # this gets the part of the image that the user actually wants us to analyze\n",
    "        target_area = target[self.window]\n",
    "\n",
    "        # only initialize if the user didn't already provide a value\n",
    "        if not self.my_n.initialized:\n",
    "            # make an initial value for my_n. It's a \"dynamic_value\" so it can be optimized later\n",
    "            self.my_n.dynamic_value = 2.0\n",
    "\n",
    "        if not self.my_Re.initialized:\n",
    "            self.my_Re.dynamic_value = 20.0\n",
    "\n",
    "        # lets try to be a bit clever here. This will be an average in the\n",
    "        # window, should at least get us within an order of magnitude\n",
    "        if not self.my_Ie.initialized:\n",
    "            center = target_area.plane_to_pixel(*self.center.value)\n",
    "            i, j = int(center[0].item()), int(center[1].item())\n",
    "            self.my_Ie.dynamic_value = (\n",
    "                torch.median(target_area.data[i - 100 : i + 100, j - 100 : j + 100])\n",
    "                / target_area.pixel_area\n",
    "            )"
   ]
  },
  {
   "cell_type": "code",
   "execution_count": null,
   "metadata": {},
   "outputs": [],
   "source": [
    "my_super_model = ap.Model(\n",
    "    name=\"goodness I made another one\",\n",
    "    model_type=\"super mysersic galaxy model\",  # this is the type we defined above\n",
    "    target=target,\n",
    ")\n",
    "\n",
    "my_super_model.initialize()\n",
    "\n",
    "# The starting point for this model is still not very good, lets see what the optimizer can do!\n",
    "fig, ax = plt.subplots(1, 2, figsize=(16, 7))\n",
    "ap.plots.model_image(fig, ax[0], my_super_model)\n",
    "ap.plots.residual_image(fig, ax[1], my_super_model)\n",
    "plt.show()"
   ]
  },
  {
   "cell_type": "code",
   "execution_count": null,
   "metadata": {},
   "outputs": [],
   "source": [
    "# We made a \"good\" initializer so this should be faster to optimize\n",
    "result = ap.fit.LM(my_super_model, verbose=1).fit()\n",
    "print(result.message)"
   ]
  },
  {
   "cell_type": "code",
   "execution_count": null,
   "metadata": {},
   "outputs": [],
   "source": [
    "fig, ax = plt.subplots(1, 2, figsize=(16, 7))\n",
    "ap.plots.model_image(fig, ax[0], my_super_model)\n",
    "ap.plots.residual_image(fig, ax[1], my_super_model)\n",
    "plt.show()"
   ]
  },
  {
   "cell_type": "markdown",
   "metadata": {},
   "source": [
    "Success! That covers the basics of making your own models. There's an infinite amount of possibility here so you will likely need to hunt through the AstroPhot code to find answers to more nuanced questions (or contact Connor), but hopefully this tutorial gave you a flavour of what to expect."
   ]
  },
  {
   "cell_type": "markdown",
   "metadata": {},
   "source": [
    "## Models from scratch\n",
    "\n",
    "By inheriting from `GalaxyModel` we got to start with some methods already\n",
    "available. In this section we will see how to create a model essentially from\n",
    "scratch by inheriting from the `ComponentModel` object. Below is an example\n",
    "model which uses a $\\frac{I_0}{R}$ model, this is a weird model but it will\n",
    "work. To demonstrate the basics for a `ComponentModel` is actually simpler than\n",
    "a `GalaxyModel` we really only need the `brightness(x,y)` function, it's what\n",
    "you do with that function where the complexity arises."
   ]
  },
  {
   "cell_type": "code",
   "execution_count": null,
   "metadata": {},
   "outputs": [],
   "source": [
    "class My_InvR(ap.models.ComponentModel):\n",
    "    _model_type = \"InvR\"\n",
    "\n",
    "    _parameter_specs = {\n",
    "        # scale length\n",
    "        \"my_Rs\": {\"units\": \"arcsec\", \"valid\": (0, None)},\n",
    "        \"my_I0\": {\"units\": \"flux/arcsec^2\"},  # central brightness\n",
    "    }\n",
    "\n",
    "    def __init__(self, *args, epsilon=1e-4, **kwargs):\n",
    "        super().__init__(*args, **kwargs)\n",
    "        self.epsilon = epsilon\n",
    "\n",
    "    @ap.forward\n",
    "    def brightness(self, x, y, my_Rs, my_I0):\n",
    "        x, y = self.transform_coordinates(\n",
    "            x, y\n",
    "        )  # basically just subtracts the center from the coordinates\n",
    "        R = torch.sqrt(x**2 + y**2 + self.epsilon) / my_Rs\n",
    "        return my_I0 / R"
   ]
  },
  {
   "cell_type": "markdown",
   "metadata": {},
   "source": [
    "See now that we must define a `brightness` method. This takes general tangent plane coordinates and returns the model evaluated at those coordinates. No need to worry about integrating the model within a pixel, this will be handled internally, just evaluate the model at exactly the coordinates requested. We also add a new value `epsilon` which is a core radius in arcsec and stops numerical divide by zero errors at the center. This parameter will not be fit, it is set as part of the model creation. You can now also provide epsilon when creating the model, or do nothing and the default value will be used.\n",
    "\n",
    "From here you have complete freedom, make sure to use only pytorch functions, since that way it is possible to run on GPU and propagate derivatives."
   ]
  },
  {
   "cell_type": "code",
   "execution_count": null,
   "metadata": {},
   "outputs": [],
   "source": [
    "simpletarget = ap.TargetImage(data=np.zeros([100, 100]), pixelscale=1)\n",
    "newmodel = ap.Model(\n",
    "    name=\"newmodel\",\n",
    "    model_type=\"InvR model\",  # this is the type we defined above\n",
    "    epsilon=1,\n",
    "    center=[50, 50],\n",
    "    my_Rs=10,\n",
    "    my_I0=1.0,\n",
    "    target=simpletarget,\n",
    ")\n",
    "\n",
    "fig, ax = plt.subplots(1, 1, figsize=(8, 7))\n",
    "ap.plots.model_image(fig, ax, newmodel)\n",
    "ax.set_title(\"Observe parental-figure, no hands!\")\n",
    "plt.show()"
   ]
  },
  {
   "cell_type": "code",
   "execution_count": null,
   "metadata": {},
   "outputs": [],
   "source": []
  }
 ],
 "metadata": {
  "language_info": {
   "codemirror_mode": {
    "name": "ipython",
    "version": 3
   },
   "file_extension": ".py",
   "mimetype": "text/x-python",
   "name": "python",
   "nbconvert_exporter": "python",
   "pygments_lexer": "ipython3"
  }
 },
 "nbformat": 4,
 "nbformat_minor": 4
}
