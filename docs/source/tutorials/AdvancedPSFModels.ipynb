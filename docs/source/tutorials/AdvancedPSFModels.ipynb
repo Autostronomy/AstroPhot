{
 "cells": [
  {
   "cell_type": "markdown",
   "id": "0",
   "metadata": {},
   "source": [
    "# Advanced PSF modeling\n",
    "\n",
    "Ideally we always have plenty of well separated bright, but not oversaturated, stars to use to construct a PSF model. These models are incredibly important for certain science objectives that rely on precise shape measurements and not just total light measures. Here we demonstrate some of the special capabilities AstroPhot has to handle challenging scenarios where a good PSF model is needed but there are only very faint stars, poorly placed stars, or even no stars to work with!"
   ]
  },
  {
   "cell_type": "code",
   "execution_count": null,
   "id": "1",
   "metadata": {},
   "outputs": [],
   "source": [
    "import astrophot as ap\n",
    "import numpy as np\n",
    "import torch\n",
    "from astropy.io import fits\n",
    "import matplotlib.pyplot as plt\n",
    "\n",
    "%matplotlib inline"
   ]
  },
  {
   "cell_type": "markdown",
   "id": "2",
   "metadata": {},
   "source": [
    "## Making a PSF model\n",
    "\n",
    "Before we can optimize a PSF model, we need to make the model and get some starting parameters. If you already have a good guess at some starting parameters then you can just enter them yourself, however if you don't then AstroPhot provides another option; if you have an empirical PSF estimate (a stack of a few stars from the field), then you can have a PSF model initialize itself on the empirical PSF just like how other AstroPhot models can initialize themselves on target images. Let's see how that works!"
   ]
  },
  {
   "cell_type": "code",
   "execution_count": null,
   "id": "3",
   "metadata": {},
   "outputs": [],
   "source": [
    "# First make a mock empirical PSF image\n",
    "# np.random.seed(124)\n",
    "psf = ap.utils.initialize.moffat_psf(2.0, 3.0, 101, 0.5)\n",
    "variance = psf**2 / 100\n",
    "psf += np.random.normal(scale=np.sqrt(variance))\n",
    "# psf[psf < 0] = 0 #ap.utils.initialize.moffat_psf(2.0, 3.0, 101, 0.5)[psf < 0]\n",
    "\n",
    "psf_target = ap.image.PSF_Image(\n",
    "    data=psf,\n",
    "    pixelscale=0.5,\n",
    ")\n",
    "\n",
    "# To ensure the PSF has a normalized flux of 1, we call\n",
    "psf_target.normalize()\n",
    "\n",
    "fig, ax = plt.subplots()\n",
    "ap.plots.psf_image(fig, ax, psf_target)\n",
    "ax.set_title(\"mock empirical PSF\")\n",
    "plt.show()"
   ]
  },
  {
   "cell_type": "code",
   "execution_count": null,
   "id": "4",
   "metadata": {},
   "outputs": [],
   "source": [
    "# Now we initialize on the image\n",
    "psf_model = ap.models.AstroPhot_Model(\n",
    "    name=\"init psf\",\n",
    "    model_type=\"moffat psf model\",\n",
    "    target=psf_target,\n",
    ")\n",
    "\n",
    "psf_model.initialize()\n",
    "\n",
    "# PSF model can be fit to it's own target for good initial values\n",
    "# Note we provide the weight map (1/variance) since a PSF_Image can't store that information.\n",
    "ap.fit.LM(psf_model, verbose=1, W=1 / variance).fit()\n",
    "\n",
    "fig, ax = plt.subplots(1, 2, figsize=(13, 5))\n",
    "ap.plots.psf_image(fig, ax[0], psf_model)\n",
    "ax[0].set_title(\"PSF model fit to mock empirical PSF\")\n",
    "ap.plots.residual_image(fig, ax[1], psf_model, normalize_residuals=torch.tensor(variance))\n",
    "ax[1].set_title(\"residuals\")\n",
    "plt.show()"
   ]
  },
  {
   "cell_type": "markdown",
   "id": "5",
   "metadata": {},
   "source": [
    "That's pretty good! it doesn't need to be perfect, so this is already in the right ballpark, just based on the size of the main light concentration. For the examples below, we will just start with some simple given initial parameters, but for real analysis this is quite handy."
   ]
  },
  {
   "cell_type": "markdown",
   "id": "6",
   "metadata": {},
   "source": [
    "## PSF modeling without stars\n",
    "\n",
    "Can it be done? Let's see!"
   ]
  },
  {
   "cell_type": "code",
   "execution_count": null,
   "id": "7",
   "metadata": {},
   "outputs": [],
   "source": [
    "# Lets make some data that we need to fit\n",
    "\n",
    "true_psf = ap.utils.initialize.moffat_psf(\n",
    "    2.0,  # n                                !!!!! Take note, we want to get n = 2. !!!!!!\n",
    "    3.0,  # Rd                               !!!!! Take note, we want to get Rd = 3.!!!!!!\n",
    "    51,  # pixels\n",
    "    1.0,  # pixelscale\n",
    ")\n",
    "\n",
    "target = ap.image.Target_Image(\n",
    "    data=torch.zeros(100, 100),\n",
    "    pixelscale=1.0,\n",
    "    psf=true_psf,\n",
    ")\n",
    "\n",
    "true_model = ap.models.AstroPhot_Model(\n",
    "    name=\"true model\",\n",
    "    model_type=\"sersic galaxy model\",\n",
    "    target=target,\n",
    "    parameters={\n",
    "        \"center\": [50.0, 50.0],\n",
    "        \"q\": 0.4,\n",
    "        \"PA\": np.pi / 3,\n",
    "        \"n\": 2,\n",
    "        \"Re\": 25,\n",
    "        \"Ie\": 1,\n",
    "    },\n",
    "    psf_mode=\"full\",\n",
    ")\n",
    "\n",
    "# use the true model to make some data\n",
    "sample = true_model()\n",
    "torch.manual_seed(61803398)\n",
    "target.data = sample.data + torch.normal(torch.zeros_like(sample.data), 0.1)\n",
    "target.variance = 0.01 * torch.ones_like(sample.data)\n",
    "\n",
    "fig, ax = plt.subplots(1, 2, figsize=(16, 7))\n",
    "ap.plots.model_image(fig, ax[0], true_model)\n",
    "ap.plots.target_image(fig, ax[1], target)\n",
    "ax[0].set_title(\"true sersic+psf model\")\n",
    "ax[1].set_title(\"mock observed data\")\n",
    "plt.show()"
   ]
  },
  {
   "cell_type": "code",
   "execution_count": null,
   "id": "8",
   "metadata": {},
   "outputs": [],
   "source": [
    "# Now we will try and fit the data using just a plain sersic\n",
    "\n",
    "# Here we set up a sersic model for the galaxy\n",
    "plain_galaxy_model = ap.models.AstroPhot_Model(\n",
    "    name=\"galaxy model\",\n",
    "    model_type=\"sersic galaxy model\",\n",
    "    target=target,\n",
    ")\n",
    "\n",
    "# Let AstroPhot determine its own initial parameters, so it has to start with whatever it decides automatically,\n",
    "# just like a real fit.\n",
    "plain_galaxy_model.initialize()\n",
    "\n",
    "result = ap.fit.LM(plain_galaxy_model, verbose=1).fit()\n",
    "print(result.message)"
   ]
  },
  {
   "cell_type": "code",
   "execution_count": null,
   "id": "9",
   "metadata": {},
   "outputs": [],
   "source": [
    "# The shape of the residuals here shows that there is still missing information; this is of course\n",
    "# from the missing PSF convolution to blur the model. In fact, the shape of those residuals is very\n",
    "# commonly seen in real observed data (ground based) when it is fit without accounting for PSF blurring.\n",
    "fig, ax = plt.subplots(1, 2, figsize=(16, 7))\n",
    "ap.plots.model_image(fig, ax[0], plain_galaxy_model)\n",
    "ap.plots.residual_image(fig, ax[1], plain_galaxy_model)\n",
    "ax[0].set_title(\"fitted sersic only model\")\n",
    "ax[1].set_title(\"residuals\")\n",
    "plt.show()"
   ]
  },
  {
   "cell_type": "code",
   "execution_count": null,
   "id": "10",
   "metadata": {},
   "outputs": [],
   "source": [
    "# Now we will try and fit the data with a sersic model and a \"live\" psf\n",
    "\n",
    "# Here we create a target psf model which will determine the specs of our live psf model\n",
    "psf_target = ap.image.PSF_Image(\n",
    "    data=np.zeros((51, 51)),\n",
    "    pixelscale=target.pixelscale,\n",
    ")\n",
    "\n",
    "# Here we create a moffat model for the PSF. Note that this is just a regular AstroPhot model that we have chosen\n",
    "# to be a moffat, really any model can be used. To make it suitable as a PSF we will need to apply some very\n",
    "# specific settings.\n",
    "live_psf_model = ap.models.AstroPhot_Model(\n",
    "    name=\"psf\",\n",
    "    model_type=\"moffat psf model\",\n",
    "    target=psf_target,\n",
    "    parameters={\n",
    "        \"n\": 1.0,  # True value is 2.\n",
    "        \"Rd\": 2.0,  # True value is 3.\n",
    "    },\n",
    ")\n",
    "\n",
    "# Here we set up a sersic model for the galaxy\n",
    "live_galaxy_model = ap.models.AstroPhot_Model(\n",
    "    name=\"galaxy model\",\n",
    "    model_type=\"sersic galaxy model\",\n",
    "    target=target,\n",
    "    psf_mode=\"full\",\n",
    "    psf=live_psf_model,  # Here we bind the PSF model to the galaxy model, this will add the psf_model parameters to the galaxy_model\n",
    ")\n",
    "\n",
    "live_psf_model.initialize()\n",
    "live_galaxy_model.initialize()\n",
    "\n",
    "result = ap.fit.LM(live_galaxy_model, verbose=1).fit()\n",
    "result.update_uncertainty()"
   ]
  },
  {
   "cell_type": "code",
   "execution_count": null,
   "id": "11",
   "metadata": {},
   "outputs": [],
   "source": [
    "print(\n",
    "    \"fitted n for moffat PSF: \", live_galaxy_model[\"psf:n\"].value.item(), \"we were hoping to get 2!\"\n",
    ")\n",
    "print(\n",
    "    \"fitted Rd for moffat PSF: \",\n",
    "    live_galaxy_model[\"psf:Rd\"].value.item(),\n",
    "    \"we were hoping to get 3!\",\n",
    ")\n",
    "print(live_galaxy_model.parameters)"
   ]
  },
  {
   "cell_type": "markdown",
   "id": "12",
   "metadata": {},
   "source": [
    "This is truly remarkable! With no stars available we were still able to extract an accurate PSF from the image! To be fair, this example is essentially perfect for this kind of fitting and we knew the true model types (sersic and moffat) from the start. Still, this is a powerful capability in certain scenarios. For many applications (e.g. weak lensing) it is essential to get the absolute best PSF model possible. Here we have shown that not only stars, but galaxies in the field can be useful tools for measuring the PSF!"
   ]
  },
  {
   "cell_type": "code",
   "execution_count": null,
   "id": "13",
   "metadata": {},
   "outputs": [],
   "source": [
    "fig, ax = plt.subplots(1, 2, figsize=(16, 7))\n",
    "ap.plots.model_image(fig, ax[0], live_galaxy_model)\n",
    "ap.plots.residual_image(fig, ax[1], live_galaxy_model)\n",
    "ax[0].set_title(\"fitted sersic + psf model\")\n",
    "ax[1].set_title(\"residuals\")\n",
    "plt.show()"
   ]
  },
  {
   "cell_type": "markdown",
   "id": "14",
   "metadata": {},
   "source": [
    "There are regions of parameter space that are degenerate and so even in this idealized scenario the PSF model can get stuck. If you rerun the notebook with different random number seeds for pytorch you may find some where the optimizer \"fails by immobility\" this is when it gets stuck in the parameter space and can't find any way to improve the likelihood. In fact most of these \"fail\" fits do return really good values for the PSF model, so keep in mind that the \"fail\" flag only means the possibility of a truly failed fit. Unfortunately, detecting convergence is hard."
   ]
  },
  {
   "cell_type": "markdown",
   "id": "15",
   "metadata": {},
   "source": [
    "## PSF fitting with a faint star\n",
    "\n",
    "Fitting a PSF to a galaxy is perhaps not the most stable way to get a good model. However, there is a very common situation where this kind of fitting is quite helpful. Consider the scenario that there is a star, but it is not very bright and it is right next to a galaxy. Now we need to model the galaxy and the star simultaneously, but the galaxy should be convolved with the PSF for the fit to be stable (otherwise you'll have to do several iterations to converge). If there were many stars you could perhaps just stack a bunch of them and hope the average is close enough, but in this case we don't have many to work with so we need to squeeze out as much statistical power as possible. "
   ]
  },
  {
   "cell_type": "code",
   "execution_count": null,
   "id": "16",
   "metadata": {},
   "outputs": [],
   "source": [
    "# Lets make some data that we need to fit\n",
    "\n",
    "true_psf2 = ap.utils.initialize.moffat_psf(\n",
    "    2.0,  # n                                !!!!! Take note, we want to get n = 2. !!!!!!\n",
    "    3.0,  # Rd                               !!!!! Take note, we want to get Rd = 3.!!!!!!\n",
    "    51,  # pixels\n",
    "    1.0,  # pixelscale\n",
    ")\n",
    "\n",
    "target2 = ap.image.Target_Image(\n",
    "    data=torch.zeros(100, 100),\n",
    "    pixelscale=1.0,\n",
    "    psf=true_psf,\n",
    ")\n",
    "\n",
    "true_galaxy2 = ap.models.AstroPhot_Model(\n",
    "    name=\"true galaxy\",\n",
    "    model_type=\"sersic galaxy model\",\n",
    "    target=target2,\n",
    "    parameters={\n",
    "        \"center\": [50.0, 50.0],\n",
    "        \"q\": 0.4,\n",
    "        \"PA\": np.pi / 3,\n",
    "        \"n\": 2,\n",
    "        \"Re\": 25,\n",
    "        \"Ie\": 1,\n",
    "    },\n",
    "    psf_mode=\"full\",\n",
    ")\n",
    "true_star2 = ap.models.AstroPhot_Model(\n",
    "    name=\"true star\",\n",
    "    model_type=\"point model\",\n",
    "    target=target2,\n",
    "    parameters={\n",
    "        \"center\": [70, 70],\n",
    "        \"flux\": 2.0,\n",
    "    },\n",
    ")\n",
    "true_model2 = ap.models.AstroPhot_Model(\n",
    "    name=\"true model\",\n",
    "    model_type=\"group model\",\n",
    "    target=target2,\n",
    "    models=[true_galaxy2, true_star2],\n",
    ")\n",
    "\n",
    "# use the true model to make some data\n",
    "sample2 = true_model2()\n",
    "torch.manual_seed(1618033988)\n",
    "target2.data = sample2.data + torch.normal(torch.zeros_like(sample2.data), 0.1)\n",
    "target2.variance = 0.01 * torch.ones_like(sample2.data)\n",
    "\n",
    "fig, ax = plt.subplots(1, 2, figsize=(16, 7))\n",
    "ap.plots.model_image(fig, ax[0], true_model2)\n",
    "ap.plots.target_image(fig, ax[1], target2)\n",
    "ax[0].set_title(\"true model\")\n",
    "ax[1].set_title(\"mock observed data\")\n",
    "plt.show()"
   ]
  },
  {
   "cell_type": "code",
   "execution_count": null,
   "id": "17",
   "metadata": {},
   "outputs": [],
   "source": [
    "# Now we will try and fit the data\n",
    "\n",
    "psf_model2 = ap.models.AstroPhot_Model(\n",
    "    name=\"psf\",\n",
    "    model_type=\"moffat psf model\",\n",
    "    target=psf_target,\n",
    "    parameters={\n",
    "        \"n\": 1.0,  # True value is 2.\n",
    "        \"Rd\": 2.0,  # True value is 3.\n",
    "    },\n",
    ")\n",
    "\n",
    "# Here we set up a sersic model for the galaxy\n",
    "galaxy_model2 = ap.models.AstroPhot_Model(\n",
    "    name=\"galaxy model\",\n",
    "    model_type=\"sersic galaxy model\",\n",
    "    target=target,\n",
    "    psf_mode=\"full\",\n",
    "    psf=psf_model2,\n",
    ")\n",
    "\n",
    "# Let AstroPhot determine its own initial parameters, so it has to start with whatever it decides automatically,\n",
    "# just like a real fit.\n",
    "galaxy_model2.initialize()\n",
    "\n",
    "star_model2 = ap.models.AstroPhot_Model(\n",
    "    name=\"star model\",\n",
    "    model_type=\"point model\",\n",
    "    target=target2,\n",
    "    psf=psf_model2,\n",
    "    parameters={\n",
    "        \"center\": [70, 70],  # start the star in roughly the right location\n",
    "        \"flux\": 2.5,\n",
    "    },\n",
    ")\n",
    "\n",
    "star_model2.initialize()\n",
    "\n",
    "full_model2 = ap.models.AstroPhot_Model(\n",
    "    name=\"full model\",\n",
    "    model_type=\"group model\",\n",
    "    models=[galaxy_model2, star_model2],\n",
    "    target=target2,\n",
    ")\n",
    "\n",
    "result = ap.fit.LM(full_model2, verbose=1).fit()"
   ]
  },
  {
   "cell_type": "code",
   "execution_count": null,
   "id": "18",
   "metadata": {},
   "outputs": [],
   "source": [
    "fig, ax = plt.subplots(1, 2, figsize=(16, 7))\n",
    "ap.plots.model_image(fig, ax[0], full_model2)\n",
    "ap.plots.residual_image(fig, ax[1], full_model2)\n",
    "ax[0].set_title(\"fitted sersic+star model\")\n",
    "ax[1].set_title(\"residuals\")\n",
    "plt.show()"
   ]
  },
  {
   "cell_type": "code",
   "execution_count": null,
   "id": "19",
   "metadata": {},
   "outputs": [],
   "source": [
    "print(\"fitted n for moffat PSF: \", galaxy_model2[\"psf:n\"].value.item(), \"we were hoping to get 2!\")\n",
    "print(\n",
    "    \"fitted Rd for moffat PSF: \", galaxy_model2[\"psf:Rd\"].value.item(), \"we were hoping to get 3!\"\n",
    ")\n",
    "\n",
    "print(\n",
    "    \"---Note that we can just as well look at the star model parameters since they are the same---\"\n",
    ")\n",
    "print(\"fitted n for moffat PSF: \", psf_model2[\"n\"].value.item(), \"we were hoping to get 2!\")\n",
    "print(\"fitted Rd for moffat PSF: \", psf_model2[\"Rd\"].value.item(), \"we were hoping to get 3!\")"
   ]
  },
  {
   "cell_type": "markdown",
   "id": "20",
   "metadata": {},
   "source": [
    "Note that the fitted moffat parameters aren't much better than they were earlier when we just fit the galaxy alone. This shows us that extended objects have plenty of constraining power when it comes to PSF fitting, all this information has previously been left on the table! It makes sense that the galaxy dominates the PSF fit here, while the star is very simple to fit, it has much less light than the galaxy in this scenario so the S/N for the galaxy dominates. The reason this works really well is of course that the true data is in fact a sersic model, so we are working in a very idealized scenario. Real world galaxies are not necessarily well described by a sersic, so it is worthwhile to be cautious when doing this kind of fitting. Always make sure the results make sense before storming ahead with galaxy based PSF models, that said the payoff can be well worth it."
   ]
  },
  {
   "cell_type": "markdown",
   "id": "21",
   "metadata": {},
   "source": [
    "## PSF fitting for faint stars\n",
    "\n",
    "Sometimes there are stars available, but they are faint and it is hard to see how a reliable fit could be obtained. We have already seen how faint stars next to galaxies are still viable for PSF fitting. Now we will consider the case of isolated but faint stars. The trick here is that we have a second high resolution image, perhaps in a different band. To perform this fitting we will link up the two bands using joint modelling to constrain the star centers, this will constrain some of the parameters making it easier to fit a PSF model."
   ]
  },
  {
   "cell_type": "code",
   "execution_count": null,
   "id": "22",
   "metadata": {},
   "outputs": [],
   "source": [
    "# Coming soon"
   ]
  },
  {
   "cell_type": "markdown",
   "id": "23",
   "metadata": {},
   "source": [
    "## PSF fitting for saturated stars\n",
    "\n",
    "A saturated star is a bright star, and it's just begging to be used for modelling a PSF. There's just one catch, the highest signal to noise region is completely messed up and can't be used! Traditionally these stars are either ignored, or a two stage fit is performed to get an \"inner psf\" and an \"outer psf\" which are then merged. Why not fit the inner and outer PSFs all at once! This can be done with AstroPhot using parameter constraints and masking."
   ]
  },
  {
   "cell_type": "code",
   "execution_count": null,
   "id": "24",
   "metadata": {},
   "outputs": [],
   "source": [
    "# Coming soon"
   ]
  }
 ],
 "metadata": {
  "language_info": {
   "codemirror_mode": {
    "name": "ipython",
    "version": 3
   },
   "file_extension": ".py",
   "mimetype": "text/x-python",
   "name": "python",
   "nbconvert_exporter": "python",
   "pygments_lexer": "ipython3"
  }
 },
 "nbformat": 4,
 "nbformat_minor": 5
}
