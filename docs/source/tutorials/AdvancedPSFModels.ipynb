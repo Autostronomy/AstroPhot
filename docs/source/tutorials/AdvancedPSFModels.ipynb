{
 "cells": [
  {
   "cell_type": "markdown",
   "id": "0",
   "metadata": {},
   "source": [
    "# Advanced PSF modeling\n",
    "\n",
    "Ideally we always have plenty of well separated bright, but not oversaturated, stars to use to construct a PSF model. These models are incredibly important for certain science objectives that rely on precise shape measurements and not just total light measures. Here we demonstrate some of the special capabilities AstroPhot has to handle challenging scenarios where a good PSF model is needed but there are only very faint stars, poorly placed stars, or even no stars to work with!"
   ]
  },
  {
   "cell_type": "code",
   "execution_count": null,
   "id": "1",
   "metadata": {},
   "outputs": [],
   "source": [
    "%matplotlib inline\n",
    "import astrophot as ap\n",
    "import numpy as np\n",
    "import torch\n",
    "import matplotlib.pyplot as plt"
   ]
  },
  {
   "cell_type": "markdown",
   "id": "2",
   "metadata": {},
   "source": [
    "## Making a PSF model\n",
    "\n",
    "Before we can optimize a PSF model, we need to make the model and get some starting parameters. If you already have a good guess at some starting parameters then you can just enter them yourself, however if you don't then AstroPhot provides another option; if you have an empirical PSF estimate (a stack of a few stars from the field), then you can have a PSF model initialize itself on the empirical PSF just like how other AstroPhot models can initialize themselves on target images. Let's see how that works!"
   ]
  },
  {
   "cell_type": "code",
   "execution_count": null,
   "id": "3",
   "metadata": {},
   "outputs": [],
   "source": [
    "# First make a mock empirical PSF image\n",
    "np.random.seed(124)\n",
    "psf = ap.utils.initialize.moffat_psf(2.0, 3.0, 101, 0.5)\n",
    "variance = psf**2 / 100\n",
    "psf += np.random.normal(scale=np.sqrt(variance))\n",
    "\n",
    "psf_target = ap.PSFImage(\n",
    "    data=psf,\n",
    "    pixelscale=0.5,\n",
    "    variance=variance,\n",
    ")\n",
    "\n",
    "# To ensure the PSF has a normalized flux of 1, we call\n",
    "psf_target.normalize()\n",
    "\n",
    "fig, ax = plt.subplots()\n",
    "ap.plots.psf_image(fig, ax, psf_target)\n",
    "ax.set_title(\"mock empirical PSF\")\n",
    "plt.show()"
   ]
  },
  {
   "cell_type": "code",
   "execution_count": null,
   "id": "4",
   "metadata": {},
   "outputs": [],
   "source": [
    "# Now we initialize on the image\n",
    "psf_model = ap.Model(\n",
    "    name=\"init psf\",\n",
    "    model_type=\"moffat psf model\",\n",
    "    target=psf_target,\n",
    ")\n",
    "\n",
    "psf_model.initialize()\n",
    "\n",
    "# PSF model can be fit to it's own target for good initial values\n",
    "# Note we provide the weight map (1/variance) since a PSF_Image can't store that information.\n",
    "ap.fit.LM(psf_model, verbose=1).fit()\n",
    "\n",
    "fig, ax = plt.subplots(1, 2, figsize=(13, 5))\n",
    "ap.plots.psf_image(fig, ax[0], psf_model)\n",
    "ax[0].set_title(\"PSF model fit to mock empirical PSF\")\n",
    "ap.plots.residual_image(fig, ax[1], psf_model, normalize_residuals=True)\n",
    "ax[1].set_title(\"residuals\")\n",
    "plt.show()"
   ]
  },
  {
   "cell_type": "markdown",
   "id": "5",
   "metadata": {},
   "source": [
    "That's pretty good! it doesn't need to be perfect, so this is already in the right ballpark, just based on the size of the main light concentration. For the examples below, we will just start with some simple given initial parameters, but for real analysis this is quite handy."
   ]
  },
  {
   "cell_type": "markdown",
   "id": "6",
   "metadata": {},
   "source": [
    "## Group PSF Model\n",
    "\n",
    "Just like group models for regular models, it is possible to make a `psf group model` to combine multiple psf models."
   ]
  },
  {
   "cell_type": "code",
   "execution_count": null,
   "id": "7",
   "metadata": {},
   "outputs": [],
   "source": [
    "psf_model1 = ap.Model(\n",
    "    name=\"psf1\",\n",
    "    model_type=\"moffat psf model\",\n",
    "    n=2,\n",
    "    Rd=10,\n",
    "    I0=20,  # essentially controls relative flux of this component\n",
    "    normalize_psf=False,  # sub components shouldnt be individually normalized\n",
    "    target=psf_target,\n",
    ")\n",
    "psf_model2 = ap.Model(\n",
    "    name=\"psf2\",\n",
    "    model_type=\"sersic psf model\",\n",
    "    n=4,\n",
    "    Re=5,\n",
    "    Ie=1,\n",
    "    normalize_psf=False,\n",
    "    target=psf_target,\n",
    ")\n",
    "psf_group_model = ap.Model(\n",
    "    name=\"psf group\",\n",
    "    model_type=\"psf group model\",\n",
    "    target=psf_target,\n",
    "    models=[psf_model1, psf_model2],\n",
    "    normalize_psf=True,  # group model should normalize the combined PSF\n",
    ")\n",
    "psf_group_model.initialize()\n",
    "fig, ax = plt.subplots(1, 3, figsize=(15, 5))\n",
    "ap.plots.psf_image(fig, ax[0], psf_group_model)\n",
    "ax[0].set_title(\"PSF group model with two PSF models\")\n",
    "ap.plots.psf_image(fig, ax[1], psf_group_model.models[0])\n",
    "ax[1].set_title(\"PSF model component 1\")\n",
    "ap.plots.psf_image(fig, ax[2], psf_group_model.models[1])\n",
    "ax[2].set_title(\"PSF model component 2\")\n",
    "plt.show()"
   ]
  },
  {
   "cell_type": "markdown",
   "id": "8",
   "metadata": {},
   "source": [
    "## PSF modeling without stars\n",
    "\n",
    "Can it be done? Let's see!"
   ]
  },
  {
   "cell_type": "code",
   "execution_count": null,
   "id": "9",
   "metadata": {},
   "outputs": [],
   "source": [
    "# Lets make some data that we need to fit\n",
    "psf_target = ap.PSFImage(\n",
    "    data=np.zeros((51, 51)),\n",
    "    pixelscale=1.0,\n",
    ")\n",
    "\n",
    "true_psf_model = ap.Model(\n",
    "    name=\"true psf\",\n",
    "    model_type=\"moffat psf model\",\n",
    "    target=psf_target,\n",
    "    n=2,\n",
    "    Rd=3,\n",
    ")\n",
    "true_psf = true_psf_model().data\n",
    "\n",
    "target = ap.TargetImage(\n",
    "    data=torch.zeros(100, 100),\n",
    "    pixelscale=1.0,\n",
    "    psf=true_psf,\n",
    ")\n",
    "\n",
    "true_model = ap.Model(\n",
    "    name=\"true model\",\n",
    "    model_type=\"sersic galaxy model\",\n",
    "    target=target,\n",
    "    center=[50.0, 50.0],\n",
    "    q=0.4,\n",
    "    PA=np.pi / 3,\n",
    "    n=2,\n",
    "    Re=25,\n",
    "    Ie=10,\n",
    "    psf_convolve=True,\n",
    ")\n",
    "\n",
    "# use the true model to make some data\n",
    "sample = true_model()\n",
    "torch.manual_seed(61803398)\n",
    "target._data = sample.data + torch.normal(torch.zeros_like(sample.data), 0.1)\n",
    "target.variance = 0.01 * torch.ones_like(sample.data.T)\n",
    "\n",
    "fig, ax = plt.subplots(1, 2, figsize=(16, 7))\n",
    "ap.plots.model_image(fig, ax[0], true_model)\n",
    "ap.plots.target_image(fig, ax[1], target)\n",
    "ax[0].set_title(\"true sersic+psf model\")\n",
    "ax[1].set_title(\"mock observed data\")\n",
    "plt.show()"
   ]
  },
  {
   "cell_type": "code",
   "execution_count": null,
   "id": "10",
   "metadata": {},
   "outputs": [],
   "source": [
    "# Now we will try and fit the data using just a plain sersic\n",
    "\n",
    "# Here we set up a sersic model for the galaxy\n",
    "plain_galaxy_model = ap.Model(\n",
    "    name=\"galaxy model\",\n",
    "    model_type=\"sersic galaxy model\",\n",
    "    target=target,\n",
    ")\n",
    "\n",
    "# Let AstroPhot determine its own initial parameters, so it has to start with whatever it decides automatically,\n",
    "# just like a real fit.\n",
    "plain_galaxy_model.initialize()\n",
    "\n",
    "result = ap.fit.LM(plain_galaxy_model, verbose=1).fit()\n",
    "print(result.message)"
   ]
  },
  {
   "cell_type": "code",
   "execution_count": null,
   "id": "11",
   "metadata": {},
   "outputs": [],
   "source": [
    "# The shape of the residuals here shows that there is still missing information; this is of course\n",
    "# from the missing PSF convolution to blur the model. In fact, the shape of those residuals is very\n",
    "# commonly seen in real observed data (ground based) when it is fit without accounting for PSF blurring.\n",
    "fig, ax = plt.subplots(1, 2, figsize=(16, 7))\n",
    "ap.plots.model_image(fig, ax[0], plain_galaxy_model)\n",
    "ap.plots.residual_image(fig, ax[1], plain_galaxy_model)\n",
    "ax[0].set_title(\"fitted sersic only model\")\n",
    "ax[1].set_title(\"residuals\")\n",
    "plt.show()"
   ]
  },
  {
   "cell_type": "code",
   "execution_count": null,
   "id": "12",
   "metadata": {},
   "outputs": [],
   "source": [
    "# Now we will try and fit the data with a sersic model and a \"live\" psf\n",
    "\n",
    "# Here we create a target psf model which will determine the specs of our live psf model\n",
    "psf_target = ap.PSFImage(\n",
    "    data=np.zeros((51, 51)),\n",
    "    pixelscale=target.pixelscale,\n",
    ")\n",
    "\n",
    "live_psf_model = ap.Model(\n",
    "    name=\"psf\",\n",
    "    model_type=\"moffat psf model\",\n",
    "    target=psf_target,\n",
    "    n=1.0,  # True value is 2.\n",
    "    Rd=3.5,  # True value is 3.\n",
    ")\n",
    "\n",
    "# Here we set up a sersic model for the galaxy\n",
    "live_galaxy_model = ap.Model(\n",
    "    name=\"galaxy model\",\n",
    "    model_type=\"sersic galaxy model\",\n",
    "    target=target,\n",
    "    psf_convolve=True,\n",
    "    psf=live_psf_model,  # Here we bind the PSF model to the galaxy model, this will add the psf_model parameters to the galaxy_model\n",
    ")\n",
    "live_galaxy_model.initialize()\n",
    "\n",
    "result = ap.fit.LM(live_galaxy_model, verbose=3).fit()"
   ]
  },
  {
   "cell_type": "code",
   "execution_count": null,
   "id": "13",
   "metadata": {},
   "outputs": [],
   "source": [
    "print(\n",
    "    f\"fitted n for moffat PSF: {live_psf_model.n.value.item():.6f} +- {live_psf_model.n.uncertainty.item():.6f} we were hoping to get 2!\"\n",
    ")\n",
    "print(\n",
    "    f\"fitted Rd for moffat PSF: {live_psf_model.Rd.value.item():.6f} +- {live_psf_model.Rd.uncertainty.item():.6f} we were hoping to get 3!\"\n",
    ")\n",
    "fig, ax = ap.plots.covariance_matrix(\n",
    "    result.covariance_matrix.detach().cpu().numpy(),\n",
    "    live_galaxy_model.build_params_array().detach().cpu().numpy(),\n",
    "    live_galaxy_model.build_params_array_names(),\n",
    ")\n",
    "plt.show()"
   ]
  },
  {
   "cell_type": "markdown",
   "id": "14",
   "metadata": {},
   "source": [
    "This is truly remarkable! With no stars available we were still able to extract an accurate PSF from the image! To be fair, this example is essentially perfect for this kind of fitting and we knew the true model types (sersic and moffat) from the start. Still, this is a powerful capability in certain scenarios. For many applications (e.g. weak lensing) it is essential to get the absolute best PSF model possible. Here we have shown that not only stars, but galaxies in the field can be useful tools for measuring the PSF!"
   ]
  },
  {
   "cell_type": "code",
   "execution_count": null,
   "id": "15",
   "metadata": {},
   "outputs": [],
   "source": [
    "fig, ax = plt.subplots(1, 2, figsize=(16, 7))\n",
    "ap.plots.model_image(fig, ax[0], live_galaxy_model)\n",
    "ap.plots.residual_image(fig, ax[1], live_galaxy_model)\n",
    "ax[0].set_title(\"fitted sersic + psf model\")\n",
    "ax[1].set_title(\"residuals\")\n",
    "plt.show()"
   ]
  },
  {
   "cell_type": "markdown",
   "id": "16",
   "metadata": {},
   "source": [
    "There are regions of parameter space that are degenerate and so even in this idealized scenario the PSF model can get stuck. If you rerun the notebook with different random number seeds for pytorch you may find some where the optimizer \"fails by immobility\" this is when it gets stuck in the parameter space and can't find any way to improve the likelihood. In fact most of these \"fail\" fits do return really good values for the PSF model, so keep in mind that the \"fail\" flag only means the possibility of a truly failed fit. Unfortunately, detecting convergence is hard."
   ]
  },
  {
   "cell_type": "markdown",
   "id": "17",
   "metadata": {},
   "source": [
    "## PSF fitting for faint stars\n",
    "\n",
    "Sometimes there are stars available, but they are faint and it is hard to see how a reliable fit could be obtained. We have already seen how faint stars next to galaxies are still viable for PSF fitting. Now we will consider the case of isolated but faint stars. The trick here is that we have a second high resolution image, perhaps in a different band. To perform this fitting we will link up the two bands using joint modelling to constrain the star centers, this will constrain some of the parameters making it easier to fit a PSF model."
   ]
  },
  {
   "cell_type": "code",
   "execution_count": null,
   "id": "18",
   "metadata": {},
   "outputs": [],
   "source": [
    "# Coming soon"
   ]
  },
  {
   "cell_type": "markdown",
   "id": "19",
   "metadata": {},
   "source": [
    "## PSF fitting for saturated stars\n",
    "\n",
    "A saturated star is a bright star, and it's just begging to be used for modelling a PSF. There's just one catch, the highest signal to noise region is completely messed up and can't be used! Traditionally these stars are either ignored, or a two stage fit is performed to get an \"inner psf\" and an \"outer psf\" which are then merged. Why not fit the inner and outer PSFs all at once! This can be done with AstroPhot using parameter constraints and masking."
   ]
  },
  {
   "cell_type": "code",
   "execution_count": null,
   "id": "20",
   "metadata": {},
   "outputs": [],
   "source": [
    "# Coming soon"
   ]
  }
 ],
 "metadata": {
  "language_info": {
   "codemirror_mode": {
    "name": "ipython",
    "version": 3
   },
   "file_extension": ".py",
   "mimetype": "text/x-python",
   "name": "python",
   "nbconvert_exporter": "python",
   "pygments_lexer": "ipython3"
  }
 },
 "nbformat": 4,
 "nbformat_minor": 5
}
