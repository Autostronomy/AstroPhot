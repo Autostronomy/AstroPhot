{
 "cells": [
  {
   "cell_type": "markdown",
   "metadata": {},
   "source": [
    "# Constrained Models\n",
    "\n",
    "AstroPhot models can have very complex constraints which allow for specialized and powerful fitting problems to be solved. Here you will learn how to take advantage of these capabilities."
   ]
  },
  {
   "cell_type": "code",
   "execution_count": null,
   "metadata": {},
   "outputs": [],
   "source": [
    "import astrophot as ap\n",
    "import numpy as np\n",
    "import torch\n",
    "from astropy.io import fits\n",
    "import matplotlib.pyplot as plt\n",
    "from time import time\n",
    "\n",
    "%matplotlib inline"
   ]
  },
  {
   "cell_type": "markdown",
   "metadata": {},
   "source": [
    "## Range limits\n",
    "\n",
    "The simplest form of constraint on a parameter is to restrict its range to within some limit. This is done at creation of the variable and you simply indicate the endpoints (non-inclusive) of the limits."
   ]
  },
  {
   "cell_type": "code",
   "execution_count": null,
   "metadata": {},
   "outputs": [],
   "source": [
    "target = ap.image.Target_Image(data=np.zeros((100, 100)), center=[0, 0], pixelscale=1)\n",
    "gal1 = ap.models.AstroPhot_Model(\n",
    "    name=\"galaxy1\",\n",
    "    model_type=\"sersic galaxy model\",\n",
    "    parameters={\n",
    "        \"center\": {\n",
    "            \"value\": [0, 0],\n",
    "            \"limits\": [[-10, -20], [10, 20]],\n",
    "        },  # here we set the limits, note it can be different for each value\n",
    "    },\n",
    "    target=target,\n",
    ")\n",
    "\n",
    "# Now if we try to set a value outside the range we get an error\n",
    "try:\n",
    "    gal1[\"center\"].value = [25, 25]\n",
    "except ap.errors.InvalidParameter as e:\n",
    "    print(\"got an AssertionError with message: \", e)"
   ]
  },
  {
   "cell_type": "markdown",
   "metadata": {},
   "source": [
    "Internal functions in AstroPhot track these limits and so will not go outside those limits under normal circumstances (contact us if you find it happening!). "
   ]
  },
  {
   "cell_type": "markdown",
   "metadata": {},
   "source": [
    "## Equality constraints\n",
    "\n",
    "Another form of constraint is an equality constraint. You can fix one parameter to track another's value so that they will always be equal."
   ]
  },
  {
   "cell_type": "code",
   "execution_count": null,
   "metadata": {},
   "outputs": [],
   "source": [
    "target = ap.image.Target_Image(data=np.zeros((100, 100)), center=[0, 0], pixelscale=1)\n",
    "gal1 = ap.models.AstroPhot_Model(\n",
    "    name=\"galaxy1\",\n",
    "    model_type=\"sersic galaxy model\",\n",
    "    parameters={\"center\": [-25, -25], \"PA\": 0, \"q\": 0.9, \"n\": 2, \"Re\": 5, \"Ie\": 1.0},\n",
    "    target=target,\n",
    ")\n",
    "gal2 = ap.models.AstroPhot_Model(\n",
    "    name=\"galaxy2\",\n",
    "    model_type=\"sersic galaxy model\",\n",
    "    parameters={\"center\": [25, 25], \"PA\": 0, \"q\": 0.9, \"Ie\": 1.0},\n",
    "    target=target,\n",
    ")\n",
    "\n",
    "# here we set the equality constraint, setting the values for gal2 equal to the parameters of gal1\n",
    "gal2[\"n\"].value = gal1[\"n\"]\n",
    "gal2[\"Re\"].value = gal1[\"Re\"]\n",
    "\n",
    "# we make a group model to use both star models together\n",
    "gals = ap.models.AstroPhot_Model(\n",
    "    name=\"gals\",\n",
    "    model_type=\"group model\",\n",
    "    models=[gal1, gal2],\n",
    "    target=target,\n",
    ")\n",
    "\n",
    "print(gals.parameters)\n",
    "\n",
    "fig, ax = plt.subplots()\n",
    "ap.plots.model_image(fig, ax, gals)\n",
    "plt.show()"
   ]
  },
  {
   "cell_type": "code",
   "execution_count": null,
   "metadata": {},
   "outputs": [],
   "source": [
    "# We can now change a parameter value and both models will change\n",
    "gal1[\"n\"].value = 1\n",
    "\n",
    "fig, ax = plt.subplots()\n",
    "ap.plots.model_image(fig, ax, gals)\n",
    "plt.show()"
   ]
  },
  {
   "cell_type": "markdown",
   "metadata": {},
   "source": [
    "Now that these two parameters are linked, optimization algorithms in AstroPhot will take this into account and fit the constrained set of parameters."
   ]
  },
  {
   "cell_type": "markdown",
   "metadata": {},
   "source": [
    "## Function constraints\n",
    "\n",
    "In some situations one may be able to impose a constraint on a set of parameters using some function. Some concrete examples of this include:\n",
    "\n",
    "- A spatially varying PSF can be forced to obey some smoothing function such as a plane or spline\n",
    "- The SED of a multiband fit may be constrained to follow some pre-determined form\n",
    "- An astrometry correction in multi-image fitting can be included for each image to ensure precise alignment\n",
    "\n",
    "The possibilities with this kind of constraint capability are quite extensive. If you do something creative with these functional constraints please let us know!"
   ]
  },
  {
   "cell_type": "code",
   "execution_count": null,
   "metadata": {},
   "outputs": [],
   "source": [
    "# Here we will demo a spatially varying PSF where the moffat \"n\" parameter changes across the image\n",
    "target = ap.image.Target_Image(data=np.zeros((100, 100)), center=[0, 0], pixelscale=1)\n",
    "\n",
    "psf_target = ap.image.PSF_Image(data=np.zeros((25, 25)), pixelscale=1)\n",
    "\n",
    "# First we make all the star objects\n",
    "allstars = []\n",
    "allpsfs = []\n",
    "for x in [-30, 0, 30]:\n",
    "    for y in [-30, 0, 30]:\n",
    "        allpsfs.append(\n",
    "            ap.models.AstroPhot_Model(\n",
    "                name=\"psf\",\n",
    "                model_type=\"moffat psf model\",\n",
    "                parameters={\"Rd\": 2},\n",
    "                target=psf_target,\n",
    "            )\n",
    "        )\n",
    "        allstars.append(\n",
    "            ap.models.AstroPhot_Model(\n",
    "                name=f\"star {x} {y}\",\n",
    "                model_type=\"point model\",\n",
    "                parameters={\"center\": [x, y], \"flux\": 1},\n",
    "                target=target,\n",
    "                psf=allpsfs[-1],\n",
    "            )\n",
    "        )\n",
    "        allpsfs[-1][\"n\"].link(\n",
    "            allstars[-1][\"center\"]\n",
    "        )  # see we need to link the center as well so that it can be used in the function\n",
    "\n",
    "# we link the Rd parameter for all the PSFs so that they are the same\n",
    "for psf in allpsfs[1:]:\n",
    "    psf[\"Rd\"].value = allpsfs[0][\"Rd\"]\n",
    "\n",
    "# next we need the parameters for the spatially varying PSF plane\n",
    "P_intercept = ap.param.Parameter_Node(\n",
    "    name=\"intercept\",\n",
    "    value=3,\n",
    ")\n",
    "P_slope = ap.param.Parameter_Node(\n",
    "    name=\"slope\",\n",
    "    value=[1 / 50, -1 / 50],\n",
    ")\n",
    "\n",
    "\n",
    "# next we define the function which takes the parameters as input and returns the value for n\n",
    "def constrained_moffat_n(params):\n",
    "    return params[\"intercept\"].value + torch.sum(params[\"slope\"].value * params[\"center\"].value)\n",
    "\n",
    "\n",
    "# finally we assign this parameter function to the \"n\" parameter for each moffat\n",
    "for psf in allpsfs:\n",
    "    psf[\"n\"].value = constrained_moffat_n\n",
    "    psf[\"n\"].link(P_intercept)\n",
    "    psf[\"n\"].link(P_slope)\n",
    "\n",
    "# A group model holds all the stars together\n",
    "MODEL = ap.models.AstroPhot_Model(\n",
    "    name=\"spatial PSF\",\n",
    "    model_type=\"group model\",\n",
    "    models=allstars,\n",
    "    target=target,\n",
    ")\n",
    "\n",
    "fig, ax = plt.subplots()\n",
    "ap.plots.model_image(fig, ax, MODEL)\n",
    "plt.show()"
   ]
  },
  {
   "cell_type": "markdown",
   "metadata": {},
   "source": [
    "See how the PSF parameters vary across the image, this model could now be optimized to fit some data and the parameters of the plane (`intercept` and `slope`) will be optimized alongside everything else to give the best possible optimized parameter values accounting for everything in the image!"
   ]
  },
  {
   "cell_type": "code",
   "execution_count": null,
   "metadata": {},
   "outputs": [],
   "source": []
  }
 ],
 "metadata": {
  "language_info": {
   "codemirror_mode": {
    "name": "ipython",
    "version": 3
   },
   "file_extension": ".py",
   "mimetype": "text/x-python",
   "name": "python",
   "nbconvert_exporter": "python",
   "pygments_lexer": "ipython3"
  }
 },
 "nbformat": 4,
 "nbformat_minor": 4
}
