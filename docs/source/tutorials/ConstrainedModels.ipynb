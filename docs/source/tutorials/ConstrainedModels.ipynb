{
 "cells": [
  {
   "cell_type": "markdown",
   "metadata": {},
   "source": [
    "# Constrained Models\n",
    "\n",
    "AstroPhot models can have very complex constraints which allow for specialized and powerful fitting problems to be solved. Here you will learn how to take advantage of these capabilities."
   ]
  },
  {
   "cell_type": "code",
   "execution_count": null,
   "metadata": {},
   "outputs": [],
   "source": [
    "import astrophot as ap\n",
    "import numpy as np\n",
    "import torch\n",
    "from astropy.io import fits\n",
    "import matplotlib.pyplot as plt\n",
    "from time import time\n",
    "\n",
    "%matplotlib inline"
   ]
  },
  {
   "cell_type": "markdown",
   "metadata": {},
   "source": [
    "## Valid Range\n",
    "\n",
    "The simplest form of constraint on a parameter is to restrict its range to within some limit. This is done at creation of the variable and you simply indicate the endpoints (non-inclusive) of the limits."
   ]
  },
  {
   "cell_type": "code",
   "execution_count": null,
   "metadata": {},
   "outputs": [],
   "source": [
    "target = ap.TargetImage(data=np.zeros((100, 100)), crpix=[49.5, 49.5], pixelscale=1)\n",
    "gal1 = ap.Model(\n",
    "    name=\"galaxy1\",\n",
    "    model_type=\"sersic galaxy model\",\n",
    "    # here we set the limits, note it can be different for each value of center.\n",
    "    # The valid range is a tuple with two elements, the lower limit and the\n",
    "    # upper limit, either can be None\n",
    "    center={\n",
    "        \"value\": [0, 0],\n",
    "        \"valid\": ([-10, -20], [10, 20]),\n",
    "    },\n",
    "    # One sided limits can be used for example to ensure a value is positive\n",
    "    Re={\"valid\": (0, None)},\n",
    "    target=target,\n",
    ")\n",
    "\n",
    "# Now if we try to set a value outside the range we get a warning\n",
    "gal1.center.value = [25, 25]\n",
    "gal1.center.value = [0, 0]  # set back to good value"
   ]
  },
  {
   "cell_type": "markdown",
   "metadata": {},
   "source": [
    "Internal functions in AstroPhot track these limits and so will not go outside those limits under normal circumstances (contact us if you find it happening!). "
   ]
  },
  {
   "cell_type": "markdown",
   "metadata": {},
   "source": [
    "## Equality constraints\n",
    "\n",
    "Another form of constraint is an equality constraint. You can fix one parameter to track another's value so that they will always be equal."
   ]
  },
  {
   "cell_type": "code",
   "execution_count": null,
   "metadata": {},
   "outputs": [],
   "source": [
    "gal1 = ap.Model(\n",
    "    name=\"galaxy1\",\n",
    "    model_type=\"sersic galaxy model\",\n",
    "    center=[-25, -25],\n",
    "    PA=0,\n",
    "    q=0.9,\n",
    "    n=2,\n",
    "    Re=5,\n",
    "    Ie=1.0,\n",
    "    target=target,\n",
    ")\n",
    "gal2 = ap.Model(\n",
    "    name=\"galaxy2\",\n",
    "    model_type=\"sersic galaxy model\",\n",
    "    center=[25, 25],\n",
    "    PA=0,\n",
    "    q=0.9,\n",
    "    Ie=1.0,\n",
    "    target=target,\n",
    ")\n",
    "\n",
    "# here we set the equality constraint, setting the values for gal2 equal to the parameters of gal1\n",
    "gal2.n = gal1.n\n",
    "gal2.Re = gal1.Re\n",
    "\n",
    "# we make a group model to use both star models together\n",
    "gals = ap.Model(\n",
    "    name=\"gals\",\n",
    "    model_type=\"group model\",\n",
    "    models=[gal1, gal2],\n",
    "    target=target,\n",
    ")\n",
    "\n",
    "fig, ax = plt.subplots()\n",
    "ap.plots.model_image(fig, ax, gals)\n",
    "plt.show()\n",
    "\n",
    "gals.graphviz()"
   ]
  },
  {
   "cell_type": "code",
   "execution_count": null,
   "metadata": {},
   "outputs": [],
   "source": [
    "# We can now change a parameter value and both models will change\n",
    "gal1.n.value = 1\n",
    "\n",
    "fig, ax = plt.subplots()\n",
    "ap.plots.model_image(fig, ax, gals)\n",
    "plt.show()"
   ]
  },
  {
   "cell_type": "markdown",
   "metadata": {},
   "source": [
    "Now that these two parameters are linked, optimization algorithms in AstroPhot will take this into account and fit the constrained set of parameters."
   ]
  },
  {
   "cell_type": "markdown",
   "metadata": {},
   "source": [
    "## Function constraints\n",
    "\n",
    "In some situations one may be able to impose a constraint on a set of parameters using some function. Some concrete examples of this include:\n",
    "\n",
    "- A spatially varying PSF can be forced to obey some smoothing function such as a plane or spline\n",
    "- The SED of a multiband fit may be constrained to follow some pre-determined form\n",
    "- A light curve model could be used to constrain the brightness in a multi-epoch analysis\n",
    "\n",
    "The possibilities with this kind of constraint capability are quite extensive. If you do something creative with these functional constraints please let us know!"
   ]
  },
  {
   "cell_type": "code",
   "execution_count": null,
   "metadata": {},
   "outputs": [],
   "source": [
    "# Here we will demo a spatially varying PSF where the moffat \"n\" parameter changes across the image\n",
    "target = ap.TargetImage(data=np.zeros((100, 100)), crpix=[49.5, 49.5], pixelscale=1)\n",
    "\n",
    "psf_target = ap.PSFImage(data=np.zeros((55, 55)), pixelscale=1)\n",
    "\n",
    "# We make parameters and a function to control the moffat n parameter\n",
    "intercept = ap.Param(\"intercept\", 3)\n",
    "slope = ap.Param(\"slope\", [1 / 50, -1 / 50])\n",
    "\n",
    "\n",
    "def constrained_moffat_n(n_param):\n",
    "    return n_param.intercept.value + torch.sum(n_param.slope.value * n_param.center.value)\n",
    "\n",
    "\n",
    "# Next we make all the star and PSF objects\n",
    "allstars = []\n",
    "allpsfs = []\n",
    "for x in [-30, 0, 30]:\n",
    "    for y in [-30, 0, 30]:\n",
    "        psf = ap.Model(\n",
    "            name=\"psf\",\n",
    "            model_type=\"moffat psf model\",\n",
    "            Rd=2,\n",
    "            n={\"value\": constrained_moffat_n},\n",
    "            target=psf_target,\n",
    "        )\n",
    "        if len(allstars) > 0:\n",
    "            psf.Rd = allstars[0].psf.Rd\n",
    "        allstars.append(\n",
    "            ap.Model(\n",
    "                name=f\"star {x} {y}\",\n",
    "                model_type=\"point model\",\n",
    "                center=[x, y],\n",
    "                flux=1,\n",
    "                target=target,\n",
    "                psf=psf,\n",
    "            )\n",
    "        )\n",
    "\n",
    "        # see we need to link the center as well so that it can be used in the function\n",
    "        psf.n.link((intercept, slope, allstars[-1].center))\n",
    "\n",
    "\n",
    "# A group model holds all the stars together\n",
    "sky = ap.Model(name=\"sky\", model_type=\"flat sky model\", I=1e-5, target=target)\n",
    "MODEL = ap.Model(\n",
    "    name=\"spatial PSF\",\n",
    "    model_type=\"group model\",\n",
    "    models=[sky] + allstars,\n",
    "    target=target,\n",
    ")\n",
    "\n",
    "fig, ax = plt.subplots()\n",
    "ap.plots.model_image(fig, ax, MODEL)\n",
    "plt.show()"
   ]
  },
  {
   "cell_type": "markdown",
   "metadata": {},
   "source": [
    "See how the PSF parameters vary across the image, this model could now be optimized to fit some data and the parameters of the plane (`intercept` and `slope`) will be optimized alongside everything else to give the best possible optimized parameter values accounting for everything in the image!"
   ]
  },
  {
   "cell_type": "code",
   "execution_count": null,
   "metadata": {},
   "outputs": [],
   "source": []
  }
 ],
 "metadata": {
  "language_info": {
   "codemirror_mode": {
    "name": "ipython",
    "version": 3
   },
   "file_extension": ".py",
   "mimetype": "text/x-python",
   "name": "python",
   "nbconvert_exporter": "python",
   "pygments_lexer": "ipython3"
  }
 },
 "nbformat": 4,
 "nbformat_minor": 4
}
