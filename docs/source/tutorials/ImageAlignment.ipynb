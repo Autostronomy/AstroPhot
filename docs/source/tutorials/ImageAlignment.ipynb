{
 "cells": [
  {
   "cell_type": "markdown",
   "id": "0",
   "metadata": {},
   "source": [
    "# Aligning Images\n",
    "\n",
    "In AstroPhot, the image WCS is part of the model and so can be optimized alongside other model parameters. Here we will demonstrate a basic example of image alignment, but the sky is the limit, you can perform highly detailed image alignment with AstroPhot!"
   ]
  },
  {
   "cell_type": "code",
   "execution_count": null,
   "id": "1",
   "metadata": {},
   "outputs": [],
   "source": [
    "import astrophot as ap\n",
    "import matplotlib.pyplot as plt\n",
    "import numpy as np\n",
    "import torch"
   ]
  },
  {
   "cell_type": "markdown",
   "id": "2",
   "metadata": {},
   "source": [
    "## Relative shift\n",
    "\n",
    "Often the WCS solution is already really good, we just need a local shift in x and/or y to get things just right. Lets start by optimizing a translation in the WCS that improves the fit for our models!"
   ]
  },
  {
   "cell_type": "code",
   "execution_count": null,
   "id": "3",
   "metadata": {},
   "outputs": [],
   "source": [
    "target_r = ap.TargetImage(\n",
    "    filename=\"https://www.legacysurvey.org/viewer/fits-cutout?ra=329.2715&dec=13.6483&size=150&layer=ls-dr9&pixscale=0.262&bands=r\",\n",
    "    name=\"target_r\",\n",
    "    variance=\"auto\",\n",
    ")\n",
    "target_g = ap.TargetImage(\n",
    "    filename=\"https://www.legacysurvey.org/viewer/fits-cutout?ra=329.2715&dec=13.6483&size=150&layer=ls-dr9&pixscale=0.262&bands=g\",\n",
    "    name=\"target_g\",\n",
    "    variance=\"auto\",\n",
    ")\n",
    "\n",
    "# Uh-oh! our images are misaligned by 1 pixel, this will cause problems!\n",
    "target_g.crpix = target_g.crpix + 1\n",
    "\n",
    "fig, axarr = plt.subplots(1, 2, figsize=(15, 7))\n",
    "ap.plots.target_image(fig, axarr[0], target_r)\n",
    "axarr[0].set_title(\"Target Image (r-band)\")\n",
    "ap.plots.target_image(fig, axarr[1], target_g)\n",
    "axarr[1].set_title(\"Target Image (g-band)\")\n",
    "plt.show()"
   ]
  },
  {
   "cell_type": "code",
   "execution_count": null,
   "id": "4",
   "metadata": {},
   "outputs": [],
   "source": [
    "# fmt: off\n",
    "# r-band model\n",
    "psfr = ap.Model(name=\"psfr\", model_type=\"moffat psf model\", n=2, Rd=1.0, target=target_r.psf_image(data=np.zeros((51, 51))))\n",
    "star1r = ap.Model(name=\"star1-r\", model_type=\"point model\", window=[0, 60, 80, 135], center=[12, 9], psf=psfr, target=target_r)\n",
    "star2r = ap.Model(name=\"star2-r\", model_type=\"point model\", window=[40, 90, 20, 70], center=[3, -7], psf=psfr, target=target_r)\n",
    "star3r = ap.Model(name=\"star3-r\", model_type=\"point model\", window=[109, 150, 40, 90], center=[-15, -3], psf=psfr, target=target_r)\n",
    "modelr = ap.Model(name=\"model-r\", model_type=\"group model\", models=[star1r, star2r, star3r], target=target_r)\n",
    "\n",
    "# g-band model\n",
    "psfg = ap.Model(name=\"psfg\", model_type=\"moffat psf model\", n=2, Rd=1.0, target=target_g.psf_image(data=np.zeros((51, 51))))\n",
    "star1g = ap.Model(name=\"star1-g\", model_type=\"point model\", window=[0, 60, 80, 135], center=star1r.center, psf=psfg, target=target_g)\n",
    "star2g = ap.Model(name=\"star2-g\", model_type=\"point model\", window=[40, 90, 20, 70], center=star2r.center, psf=psfg, target=target_g)\n",
    "star3g = ap.Model(name=\"star3-g\", model_type=\"point model\", window=[109, 150, 40, 90], center=star3r.center, psf=psfg, target=target_g)\n",
    "modelg = ap.Model(name=\"model-g\", model_type=\"group model\", models=[star1g, star2g, star3g], target=target_g)\n",
    "\n",
    "# total model\n",
    "target_full = ap.TargetImageList([target_r, target_g])\n",
    "model = ap.Model(name=\"model\", model_type=\"group model\", models=[modelr, modelg], target=target_full)\n",
    "\n",
    "# fmt: on\n",
    "fig, axarr = plt.subplots(1, 2, figsize=(15, 7))\n",
    "ap.plots.target_image(fig, axarr, target_full)\n",
    "axarr[0].set_title(\"Target Image (r-band)\")\n",
    "axarr[1].set_title(\"Target Image (g-band)\")\n",
    "ap.plots.model_window(fig, axarr[0], modelr)\n",
    "ap.plots.model_window(fig, axarr[1], modelg)\n",
    "plt.show()"
   ]
  },
  {
   "cell_type": "code",
   "execution_count": null,
   "id": "5",
   "metadata": {},
   "outputs": [],
   "source": [
    "model.initialize()\n",
    "res = ap.fit.LM(model, verbose=1).fit()\n",
    "fig, axarr = plt.subplots(2, 2, figsize=(15, 10))\n",
    "ap.plots.model_image(fig, axarr[0], model)\n",
    "axarr[0, 0].set_title(\"Model Image (r-band)\")\n",
    "axarr[0, 1].set_title(\"Model Image (g-band)\")\n",
    "ap.plots.residual_image(fig, axarr[1], model)\n",
    "axarr[1, 0].set_title(\"Residual Image (r-band)\")\n",
    "axarr[1, 1].set_title(\"Residual Image (g-band)\")\n",
    "plt.show()"
   ]
  },
  {
   "cell_type": "markdown",
   "id": "6",
   "metadata": {},
   "source": [
    "Here we see a clear signal of an image misalignment, in the g-band all of the residuals have a dipole in the same direction! Lets free up the position of the g-band image and optimize a shift. This only requires a single line of code!"
   ]
  },
  {
   "cell_type": "code",
   "execution_count": null,
   "id": "7",
   "metadata": {},
   "outputs": [],
   "source": [
    "target_g.crtan.to_dynamic()"
   ]
  },
  {
   "cell_type": "markdown",
   "id": "8",
   "metadata": {},
   "source": [
    "Now we can optimize the model again, notice how it now has two more parameters. These are the x,y position of the image in the tangent plane. See the AstroPhot coordinate description on the website for more details on why this works."
   ]
  },
  {
   "cell_type": "code",
   "execution_count": null,
   "id": "9",
   "metadata": {},
   "outputs": [],
   "source": [
    "res = ap.fit.LM(model, verbose=1).fit()\n",
    "fig, axarr = plt.subplots(2, 2, figsize=(15, 10))\n",
    "ap.plots.model_image(fig, axarr[0], model)\n",
    "axarr[0, 0].set_title(\"Model Image (r-band)\")\n",
    "axarr[0, 1].set_title(\"Model Image (g-band)\")\n",
    "ap.plots.residual_image(fig, axarr[1], model)\n",
    "axarr[1, 0].set_title(\"Residual Image (r-band)\")\n",
    "axarr[1, 1].set_title(\"Residual Image (g-band)\")\n",
    "plt.show()"
   ]
  },
  {
   "cell_type": "markdown",
   "id": "10",
   "metadata": {},
   "source": [
    "Yay! no more dipole. The fits aren't the best, clearly these objects aren't super well described by a single moffat model. But the main goal today was to show that we could align the images very easily. Note, its probably best to start with a reasonably good WCS from the outset, and this two stage approach where we optimize the models and then optimize the models plus a shift might be more stable than just fitting everything at once from the outset. Often for more complex models it is best to start with a simpler model and fit each time you introduce more complexity."
   ]
  },
  {
   "cell_type": "markdown",
   "id": "11",
   "metadata": {},
   "source": [
    "## Shift and rotation\n",
    "\n",
    "Lets say we really don't trust our WCS, we think something has gone wrong and we want freedom to fully shift and rotate the relative positions of the images relative to each other. How can we do this?"
   ]
  },
  {
   "cell_type": "code",
   "execution_count": null,
   "id": "12",
   "metadata": {},
   "outputs": [],
   "source": [
    "def rotate(phi):\n",
    "    \"\"\"Create a 2D rotation matrix for a given angle in radians.\"\"\"\n",
    "    return torch.stack(\n",
    "        [\n",
    "            torch.stack([torch.cos(phi), -torch.sin(phi)]),\n",
    "            torch.stack([torch.sin(phi), torch.cos(phi)]),\n",
    "        ]\n",
    "    )\n",
    "\n",
    "\n",
    "# Uh-oh! Our image is misaligned by some small angle\n",
    "target_g.CD = target_g.CD.value @ rotate(torch.tensor(np.pi / 32, dtype=torch.float64))\n",
    "# Uh-oh! our alignment from before has been erased\n",
    "target_g.crtan.value = (0, 0)"
   ]
  },
  {
   "cell_type": "code",
   "execution_count": null,
   "id": "13",
   "metadata": {},
   "outputs": [],
   "source": [
    "fig, axarr = plt.subplots(2, 2, figsize=(15, 10))\n",
    "ap.plots.model_image(fig, axarr[0], model)\n",
    "axarr[0, 0].set_title(\"Model Image (r-band)\")\n",
    "axarr[0, 1].set_title(\"Model Image (g-band)\")\n",
    "ap.plots.residual_image(fig, axarr[1], model)\n",
    "axarr[1, 0].set_title(\"Residual Image (r-band)\")\n",
    "axarr[1, 1].set_title(\"Residual Image (g-band)\")\n",
    "plt.show()"
   ]
  },
  {
   "cell_type": "markdown",
   "id": "14",
   "metadata": {},
   "source": [
    "Notice that there is not a universal dipole like in the shift example. Most of the offset is caused by the rotation in this example."
   ]
  },
  {
   "cell_type": "code",
   "execution_count": null,
   "id": "15",
   "metadata": {},
   "outputs": [],
   "source": [
    "# this will control the relative rotation of the g-band image\n",
    "phi = ap.Param(name=\"phi\", dynamic_value=0.0, dtype=torch.float64)\n",
    "\n",
    "# Set the target_g CD matrix to be a function of the rotation angle\n",
    "# The CD matrix can encode rotation, skew, and rectangular pixels. We\n",
    "# are only interested in the rotation here.\n",
    "init_CD = target_g.CD.value.clone()\n",
    "target_g.CD = lambda p: init_CD @ rotate(p.phi.value)\n",
    "target_g.CD.link(phi)\n",
    "\n",
    "# also optimize the shift of the g-band image\n",
    "target_g.crtan.to_dynamic()"
   ]
  },
  {
   "cell_type": "code",
   "execution_count": null,
   "id": "16",
   "metadata": {},
   "outputs": [],
   "source": [
    "res = ap.fit.LM(model, verbose=1).fit()\n",
    "fig, axarr = plt.subplots(2, 2, figsize=(15, 10))\n",
    "ap.plots.model_image(fig, axarr[0], model)\n",
    "axarr[0, 0].set_title(\"Model Image (r-band)\")\n",
    "axarr[0, 1].set_title(\"Model Image (g-band)\")\n",
    "ap.plots.residual_image(fig, axarr[1], model)\n",
    "axarr[1, 0].set_title(\"Residual Image (r-band)\")\n",
    "axarr[1, 1].set_title(\"Residual Image (g-band)\")\n",
    "plt.show()"
   ]
  },
  {
   "cell_type": "code",
   "execution_count": null,
   "id": "17",
   "metadata": {},
   "outputs": [],
   "source": []
  }
 ],
 "metadata": {
  "language_info": {
   "codemirror_mode": {
    "name": "ipython",
    "version": 3
   },
   "file_extension": ".py",
   "mimetype": "text/x-python",
   "name": "python",
   "nbconvert_exporter": "python",
   "pygments_lexer": "ipython3"
  }
 },
 "nbformat": 4,
 "nbformat_minor": 5
}
