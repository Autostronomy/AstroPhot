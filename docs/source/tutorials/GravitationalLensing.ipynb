{
 "cells": [
  {
   "cell_type": "markdown",
   "id": "0",
   "metadata": {},
   "source": [
    "# Gravitational Lensing\n",
    "\n",
    "AstroPhot is now part of the caskade ecosystem. caskade simulators can interface\n",
    "very easily since the parameter management is handled automatically. Here we\n",
    "demonstrate how the caustics package, which is also written in caskade, can be\n",
    "used to add gravitational lensing to AstroPhot models. This is similar to the\n",
    "Custom Models tutorial although more specific."
   ]
  },
  {
   "cell_type": "code",
   "execution_count": null,
   "id": "1",
   "metadata": {},
   "outputs": [],
   "source": [
    "import astrophot as ap\n",
    "import matplotlib.pyplot as plt\n",
    "import caustics\n",
    "import numpy as np\n",
    "import torch"
   ]
  },
  {
   "cell_type": "code",
   "execution_count": null,
   "id": "2",
   "metadata": {},
   "outputs": [],
   "source": [
    "class LensSersic(ap.models.SersicGalaxy):\n",
    "    _model_type = \"lensed\"\n",
    "\n",
    "    def __init__(self, *args, lens, **kwargs):\n",
    "        super().__init__(*args, **kwargs)\n",
    "        self.lens = lens\n",
    "\n",
    "    def transform_coordinates(self, x, y):\n",
    "        x, y = self.lens.raytrace(x, y)\n",
    "        x, y = super().transform_coordinates(x, y)\n",
    "        return x, y"
   ]
  },
  {
   "cell_type": "code",
   "execution_count": null,
   "id": "3",
   "metadata": {},
   "outputs": [],
   "source": [
    "target = ap.TargetImage(\n",
    "    filename=\"https://www.legacysurvey.org/viewer/fits-cutout?ra=177.1380&dec=19.5008&size=150&layer=ls-dr9&pixscale=0.262&bands=g\",\n",
    "    name=\"horseshoe\",\n",
    "    variance=\"auto\",\n",
    "    zeropoint=22.5,\n",
    ")\n",
    "target.psf = target.psf_image(data=ap.utils.initialize.gaussian_psf(0.5, 51, 0.262))\n",
    "\n",
    "cosmology = caustics.FlatLambdaCDM(name=\"cosmology\")\n",
    "lens = caustics.SIE(\n",
    "    name=\"lens\",\n",
    "    x0=0.28,\n",
    "    y0=0.79,\n",
    "    q=0.9,\n",
    "    phi=2.5 * np.pi / 10,\n",
    "    Rein=5.5,\n",
    "    z_l=0.4457,\n",
    "    z_s=2.379,\n",
    "    cosmology=cosmology,\n",
    ")\n",
    "lens.to_dynamic()\n",
    "lens.z_l.to_static()\n",
    "lens.z_s.to_static()\n",
    "source = ap.Model(\n",
    "    name=\"source\",\n",
    "    model_type=\"lensed sersic galaxy model\",\n",
    "    lens=lens,\n",
    "    center=[0.2, 0.42],\n",
    "    q=0.6,\n",
    "    PA=np.pi / 3,\n",
    "    n=1,\n",
    "    Re=0.1,\n",
    "    Ie=1.5,\n",
    "    target=target,\n",
    "    psf_convolve=True,\n",
    ")\n",
    "lenslight = ap.Model(\n",
    "    name=\"lenslight\",\n",
    "    model_type=\"sersic galaxy model\",\n",
    "    center=lambda p: torch.stack((p.x0.value, p.y0.value)),\n",
    "    q=lens.q,\n",
    "    PA=0,\n",
    "    n=4.7,\n",
    "    Re=1,\n",
    "    Ie=0.2,\n",
    "    target=target,\n",
    "    psf_convolve=True,\n",
    ")\n",
    "lenslight.center.link((lens.x0, lens.y0))\n",
    "\n",
    "model = ap.Model(\n",
    "    name=\"horseshoe\",\n",
    "    model_type=\"group model\",\n",
    "    models=[source, lenslight],\n",
    "    target=target,\n",
    ")\n",
    "model.initialize()\n",
    "\n",
    "fig, axarr = plt.subplots(1, 3, figsize=(15, 4))\n",
    "ap.plots.target_image(fig, axarr[0], target)\n",
    "axarr[0].set_title(\"Target Image\")\n",
    "ap.plots.model_image(fig, axarr[1], model)\n",
    "axarr[1].set_title(\"Model Image\")\n",
    "ap.plots.residual_image(fig, axarr[2], model)\n",
    "axarr[2].set_title(\"Residual Image\")\n",
    "plt.show()"
   ]
  },
  {
   "cell_type": "markdown",
   "id": "4",
   "metadata": {},
   "source": [
    "Note that we give reasonable starting parameters for the lensing model. Gravitational lensing is notoriously hard to model, so we need to start near the correct minimum otherwise we may easily fall to some poor local minimum."
   ]
  },
  {
   "cell_type": "code",
   "execution_count": null,
   "id": "5",
   "metadata": {},
   "outputs": [],
   "source": [
    "model.graphviz()"
   ]
  },
  {
   "cell_type": "code",
   "execution_count": null,
   "id": "6",
   "metadata": {},
   "outputs": [],
   "source": [
    "res = ap.fit.LM(model, verbose=1).fit()"
   ]
  },
  {
   "cell_type": "code",
   "execution_count": null,
   "id": "7",
   "metadata": {},
   "outputs": [],
   "source": [
    "fig, axarr = plt.subplots(1, 3, figsize=(15, 4))\n",
    "ap.plots.target_image(fig, axarr[0], target)\n",
    "axarr[0].set_title(\"Target Image\")\n",
    "ap.plots.model_image(fig, axarr[1], model, vmax=32)\n",
    "axarr[1].set_title(\"Model Image\")\n",
    "ap.plots.residual_image(fig, axarr[2], model)\n",
    "axarr[2].set_title(\"Residual Image\")\n",
    "plt.show()"
   ]
  },
  {
   "cell_type": "markdown",
   "id": "8",
   "metadata": {},
   "source": [
    "This is not an exceptionally good fit, but it is well known that the horseshoe requires a more detailed model than an SIE lens. The cool result here is that we were able to link AstroPhot and caustics very easily to create a detailed lensing model!"
   ]
  },
  {
   "cell_type": "code",
   "execution_count": null,
   "id": "9",
   "metadata": {},
   "outputs": [],
   "source": []
  }
 ],
 "metadata": {
  "language_info": {
   "codemirror_mode": {
    "name": "ipython",
    "version": 3
   },
   "file_extension": ".py",
   "mimetype": "text/x-python",
   "name": "python",
   "nbconvert_exporter": "python",
   "pygments_lexer": "ipython3"
  }
 },
 "nbformat": 4,
 "nbformat_minor": 5
}
